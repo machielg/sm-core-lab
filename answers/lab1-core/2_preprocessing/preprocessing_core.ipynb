{
 "cells": [
  {
   "cell_type": "code",
   "execution_count": null,
   "metadata": {},
   "outputs": [],
   "source": [
    "%load_ext autoreload\n",
    "%autoreload 2"
   ]
  },
  {
   "cell_type": "code",
   "execution_count": null,
   "metadata": {},
   "outputs": [],
   "source": [
    "from corelab.core.session import CoreLabSession\n",
    "\n",
    "lab_session = CoreLabSession(\n",
    "    'xgboost', \n",
    "    'customer-churn', \n",
    "    default_folder='processing_notebook', \n",
    "    create_run_folder=True, \n",
    "    aws_profile='sagemaker-role'\n",
    ")\n",
    "lab_session.print()\n",
    "core_session = lab_session.core_session"
   ]
  },
  {
   "cell_type": "code",
   "execution_count": null,
   "metadata": {},
   "outputs": [],
   "source": [
    "# Complete sagemaker-core imports\n",
    "from sagemaker_core.main.shapes import (\n",
    "    AppSpecification, \n",
    "    ProcessingResources, \n",
    "    ProcessingInput, \n",
    "    ProcessingClusterConfig,\n",
    "    ProcessingOutput,\n",
    "    ProcessingOutputConfig,\n",
    "    ProcessingStoppingCondition,\n",
    "    ProcessingS3Input,\n",
    "    ProcessingS3Output\n",
    ")\n",
    "from sagemaker_core.main.resources import ProcessingJob\n",
    "\n",
    "print(\"All sagemaker-core modules imported successfully\")"
   ]
  },
  {
   "cell_type": "code",
   "execution_count": null,
   "metadata": {},
   "outputs": [],
   "source": [
    "import os\n",
    "\n",
    "def upload_code_and_data():\n",
    "    print(\"cwd:\", os.getcwd())\n",
    "    code = lab_session.upload_file('src', 'preprocessing.py', 'prepare-churn-code')\n",
    "    # Define data and output URIs\n",
    "    data = f\"s3://sagemaker-example-files-prod-{lab_session.region}/datasets/tabular/synthetic/churn.txt\"\n",
    "    output = lab_session.jobs_output_s3_uri\n",
    "\n",
    "    return code, data, output\n",
    "\n",
    "upload_code_and_data()"
   ]
  },
  {
   "cell_type": "markdown",
   "metadata": {},
   "source": [
    "## Create Processing Job with sagemaker-core\n",
    "\n",
    "This demonstrates the low-level sagemaker-core API for creating processing jobs with explicit configuration."
   ]
  },
  {
   "cell_type": "code",
   "execution_count": null,
   "metadata": {},
   "outputs": [],
   "source": [
    "# Create and run the Processing Job using sagemaker-core\n",
    "code_s3_uri, data_s3_uri, output_s3_uri = upload_code_and_data()\n",
    "\n",
    "print(f\"📂 Code S3 URI: {code_s3_uri}\")\n",
    "print(f\"📁 Data S3 URI: {data_s3_uri}\")\n",
    "print(f\"📤 Output S3 URI: {output_s3_uri}\")\n",
    "\n",
    "job_name = lab_session.processing_job_name\n",
    "job = ProcessingJob.create(\n",
    "    processing_job_name=job_name,\n",
    "    role_arn=lab_session.role,\n",
    "    session=lab_session.core_session.boto_session,\n",
    "    region=lab_session.region,\n",
    "    app_specification=AppSpecification(\n",
    "        image_uri=lab_session.retrieve_image('1.7-1'),\n",
    "        container_entrypoint=[\"python3\", \"/opt/ml/processing/input/code/preprocessing.py\"],\n",
    "        container_arguments=[\"--train-test-split\", \"0.33\"]\n",
    "    ),\n",
    "    processing_resources=ProcessingResources(\n",
    "        cluster_config=ProcessingClusterConfig(\n",
    "            instance_type=\"ml.m5.large\",\n",
    "            instance_count=1,\n",
    "            volume_size_in_gb=30\n",
    "        )\n",
    "    ),\n",
    "    processing_inputs=[\n",
    "        ProcessingInput(\n",
    "            input_name=\"code\",\n",
    "            app_managed=False,\n",
    "            s3_input=ProcessingS3Input(\n",
    "                s3_uri=code_s3_uri,\n",
    "                local_path=\"/opt/ml/processing/input/code\",\n",
    "                s3_data_type=\"S3Prefix\",\n",
    "                s3_input_mode=\"File\"\n",
    "            )\n",
    "        ),\n",
    "        ProcessingInput(\n",
    "            input_name=\"data\",\n",
    "            app_managed=False,\n",
    "            s3_input=ProcessingS3Input(\n",
    "                s3_uri=data_s3_uri,\n",
    "                local_path=\"/opt/ml/processing/input/data\",\n",
    "                s3_data_type=\"S3Prefix\",\n",
    "                s3_input_mode=\"File\"\n",
    "            )\n",
    "        )\n",
    "    ],\n",
    "    processing_output_config=ProcessingOutputConfig(\n",
    "        outputs=[\n",
    "            ProcessingOutput(\n",
    "                output_name=\"processed\",\n",
    "                app_managed=False,\n",
    "                s3_output=ProcessingS3Output(\n",
    "                    s3_uri=output_s3_uri + '/' + job_name,\n",
    "                    local_path=\"/opt/ml/processing/output\",\n",
    "                    s3_upload_mode=\"EndOfJob\"\n",
    "                )\n",
    "            )\n",
    "        ]\n",
    "    ),\n",
    "    environment={\"PYTHONUNBUFFERED\": \"1\"},\n",
    "    stopping_condition=ProcessingStoppingCondition(\n",
    "        max_runtime_in_seconds=3600\n",
    "    )\n",
    ")\n",
    "\n",
    "print(f\"🚀 Created Processing Job: {job.processing_job_name}\")\n",
    "print(f\"📊 Initial Status: {job.processing_job_status}\")\n",
    "\n",
    "job.wait()"
   ]
  },
  {
   "cell_type": "markdown",
   "metadata": {},
   "source": [
    "## Verify Processing Results"
   ]
  },
  {
   "cell_type": "code",
   "execution_count": null,
   "metadata": {},
   "outputs": [],
   "source": [
    "# Check final job status\n",
    "job.refresh()\n",
    "print(f\"✅ Final Status: {job.processing_job_status}\")\n",
    "print(f\"📁 Output Location: {output_s3_uri}/{job_name}\")"
   ]
  },
  {
   "cell_type": "code",
   "execution_count": null,
   "metadata": {},
   "outputs": [],
   "source": []
  }
 ],
 "metadata": {
  "kernelspec": {
   "display_name": "Python 3",
   "language": "python",
   "name": "python3"
  },
  "language_info": {
   "codemirror_mode": {
    "name": "ipython",
    "version": 3
   },
   "file_extension": ".py",
   "mimetype": "text/x-python",
   "name": "python",
   "nbconvert_exporter": "python",
   "pygments_lexer": "ipython3",
   "version": "3.9.0"
  }
 },
 "nbformat": 4,
 "nbformat_minor": 4
}
