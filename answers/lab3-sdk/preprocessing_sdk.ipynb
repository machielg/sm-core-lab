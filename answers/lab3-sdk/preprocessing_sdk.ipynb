{
 "cells": [
  {
   "cell_type": "markdown",
   "metadata": {},
   "source": [
    "# Data Preprocessing with SageMaker SDK (PyTorchProcessor)\n",
    "\n",
    "This notebook demonstrates data preprocessing using the **SageMaker SDK's PyTorchProcessor** - a modern framework-based processor that simplifies preprocessing workflows.\n",
    "\n",
    "**Key Advantages:**\n",
    "- Framework-optimized for PyTorch-based workflows\n",
    "- Automatic requirements.txt installation\n",
    "- Built-in log streaming\n",
    "- Simplified API compared to sagemaker-core"
   ]
  },
  {
   "cell_type": "code",
   "execution_count": null,
   "metadata": {
    "ExecuteTime": {
     "end_time": "2025-10-10T11:01:46.757998Z",
     "start_time": "2025-10-10T11:01:46.717572Z"
    }
   },
   "outputs": [],
   "source": [
    "%load_ext autoreload\n",
    "%autoreload 2"
   ]
  },
  {
   "cell_type": "code",
   "execution_count": null,
   "metadata": {
    "ExecuteTime": {
     "end_time": "2025-10-10T11:01:49.280856Z",
     "start_time": "2025-10-10T11:01:47.428381Z"
    }
   },
   "outputs": [],
   "source": [
    "from corelab.core.session import CoreLabSession\n",
    "\n",
    "lab_session = CoreLabSession(\n",
    "    'pytorch', \n",
    "    'customer-churn', \n",
    "    default_folder='preprocessing_sdk', \n",
    "    create_run_folder=True, \n",
    "    aws_profile='sagemaker-role'\n",
    ")\n",
    "lab_session.print()"
   ]
  },
  {
   "cell_type": "markdown",
   "metadata": {},
   "source": [
    "## Using PyTorchProcessor from SageMaker SDK\n",
    "\n",
    "The PyTorchProcessor provides modern framework integration with better dependency management and simplified configuration."
   ]
  },
  {
   "cell_type": "code",
   "execution_count": null,
   "metadata": {
    "ExecuteTime": {
     "end_time": "2025-10-10T11:03:47.500154Z",
     "start_time": "2025-10-10T11:03:47.461389Z"
    }
   },
   "outputs": [],
   "source": [
    "from sagemaker.pytorch.processing import PyTorchProcessor\n",
    "from sagemaker.processing import ProcessingInput, ProcessingOutput\n",
    "\n",
    "# Define data locations\n",
    "data_s3_uri = f\"s3://sagemaker-example-files-prod-{lab_session.region}/datasets/tabular/synthetic/churn.txt\"\n",
    "output_s3_uri = lab_session.jobs_output_s3_uri\n",
    "\n",
    "print(f\"📁 Data S3 URI: {data_s3_uri}\")\n",
    "print(f\"📤 Output S3 URI: {output_s3_uri}\")"
   ]
  },
  {
   "cell_type": "code",
   "execution_count": null,
   "metadata": {
    "ExecuteTime": {
     "end_time": "2025-10-10T11:03:48.343271Z",
     "start_time": "2025-10-10T11:03:48.231733Z"
    }
   },
   "outputs": [],
   "source": [
    "# Create PyTorchProcessor - modern framework with better dependency handling\n",
    "pytorch_processor = PyTorchProcessor(\n",
    "    framework_version='2.0',\n",
    "    py_version='py310',\n",
    "    instance_type=\"ml.m5.large\",\n",
    "    instance_count=1,\n",
    "    role=lab_session.role,\n",
    "    sagemaker_session=lab_session.get_sagemaker_session(),\n",
    "    volume_size_in_gb=30,\n",
    "    max_runtime_in_seconds=3600,\n",
    "    env={\"PYTHONUNBUFFERED\": \"1\"}\n",
    ")\n",
    "\n",
    "print(\"✅ PyTorchProcessor created\")"
   ]
  },
  {
   "cell_type": "code",
   "execution_count": null,
   "metadata": {
    "ExecuteTime": {
     "end_time": "2025-10-10T11:09:39.538793Z",
     "start_time": "2025-10-10T11:04:12.634940Z"
    }
   },
   "outputs": [],
   "source": [
    "# Run the processing job with framework features\n",
    "job_name = lab_session.processing_job_name\n",
    "\n",
    "pytorch_processor.run(\n",
    "    code=\"preprocessing.py\",         # Entry point script\n",
    "    source_dir=\"src/\",              # Directory with code and requirements.txt\n",
    "    job_name=job_name,\n",
    "    inputs=[\n",
    "        ProcessingInput(\n",
    "            source=data_s3_uri,\n",
    "            destination=\"/opt/ml/processing/input/data\"\n",
    "        )\n",
    "    ],\n",
    "    outputs=[\n",
    "        ProcessingOutput(\n",
    "            output_name=\"processed\",\n",
    "            source=\"/opt/ml/processing/output\",\n",
    "            destination=f\"{output_s3_uri}/{job_name}\"\n",
    "        )\n",
    "    ],\n",
    "    arguments=[\"--train-test-split\", \"0.33\"],\n",
    "    wait=True,  # Wait for completion\n",
    "    logs=True   # Stream logs to notebook\n",
    ")\n",
    "\n",
    "print(f\"✅ PyTorch Processing job completed: {job_name}\")"
   ]
  },
  {
   "cell_type": "code",
   "execution_count": null,
   "metadata": {
    "ExecuteTime": {
     "end_time": "2025-10-10T11:09:39.810390Z",
     "start_time": "2025-10-10T11:09:39.563668Z"
    }
   },
   "outputs": [],
   "source": [
    "print(f\"Output location of processing job: {output_s3_uri}/{job_name}\")"
   ]
  },
  {
   "cell_type": "markdown",
   "metadata": {},
   "source": [
    "## Key Features of PyTorchProcessor\n",
    "\n",
    "### Advantages Over sagemaker-core ProcessingJob:\n",
    "\n",
    "1. **Modern Framework Integration**\n",
    "   - Optimized for PyTorch-based workflows\n",
    "   - Uses latest PyTorch container images (2.0+)\n",
    "   - Better compatibility with modern ML libraries and tools\n",
    "\n",
    "2. **Automatic Dependency Management**\n",
    "   - `source_dir` automatically uploads `requirements.txt`\n",
    "   - Dependencies installed in container automatically\n",
    "   - No manual container configuration needed\n",
    "\n",
    "3. **Built-in Convenience Features**\n",
    "   - `wait=True`: Automatic blocking until completion\n",
    "   - `logs=True`: Stream logs directly to notebook\n",
    "   - Cleaner API with less boilerplate\n",
    "\n",
    "4. **SDK Ecosystem Integration**\n",
    "   - Works seamlessly with other SDK components\n",
    "   - Can be used with PipelineSession for pipelines\n",
    "   - Integrates with SageMaker Experiments\n",
    "\n",
    "### When to Use PyTorchProcessor:\n",
    "\n",
    "✅ **Use PyTorchProcessor when:**\n",
    "- Building modern ML workflows with PyTorch ecosystem\n",
    "- Need automatic dependency installation\n",
    "- Want simpler, higher-level API\n",
    "- Building SageMaker Pipelines (next lab!)\n",
    "\n",
    "✅ **Use sagemaker-core ProcessingJob when:**\n",
    "- Need fine-grained control over all parameters\n",
    "- Using custom containers\n",
    "- Learning the underlying SageMaker APIs\n",
    "- Building custom processing abstractions"
   ]
  }
 ],
 "metadata": {
  "kernelspec": {
   "display_name": "Python 3",
   "language": "python",
   "name": "python3"
  },
  "language_info": {
   "codemirror_mode": {
    "name": "ipython",
    "version": 3
   },
   "file_extension": ".py",
   "mimetype": "text/x-python",
   "name": "python",
   "nbconvert_exporter": "python",
   "pygments_lexer": "ipython3",
   "version": "3.9.0"
  }
 },
 "nbformat": 4,
 "nbformat_minor": 4
}
