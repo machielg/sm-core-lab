{
 "cells": [
  {
   "cell_type": "markdown",
   "metadata": {},
   "source": [
    "# Data Preprocessing with SageMaker SDK (PyTorchProcessor)\n",
    "\n",
    "This notebook demonstrates data preprocessing using the **SageMaker SDK's PyTorchProcessor** - a modern framework-based processor that simplifies preprocessing workflows.\n",
    "\n",
    "**Key Advantages:**\n",
    "- Framework-optimized for PyTorch-based workflows\n",
    "- Automatic requirements.txt installation\n",
    "- Built-in log streaming\n",
    "- Simplified API compared to sagemaker-core"
   ]
  },
  {
   "cell_type": "code",
   "metadata": {
    "ExecuteTime": {
     "end_time": "2025-10-22T09:00:00.303644Z",
     "start_time": "2025-10-22T09:00:00.183825Z"
    }
   },
   "source": [
    "%load_ext autoreload\n",
    "%autoreload 2"
   ],
   "outputs": [],
   "execution_count": 1
  },
  {
   "cell_type": "code",
   "metadata": {
    "ExecuteTime": {
     "end_time": "2025-10-22T09:00:10.097090Z",
     "start_time": "2025-10-22T09:00:02.276032Z"
    }
   },
   "source": [
    "from corelab.core.session import CoreLabSession\n",
    "\n",
    "lab_session = CoreLabSession(\n",
    "    'pytorch', \n",
    "    'customer-churn', \n",
    "    default_folder='preprocessing_sdk', \n",
    "    create_run_folder=True, \n",
    "    aws_profile='sagemaker-role'\n",
    ")\n",
    "lab_session.print()"
   ],
   "outputs": [
    {
     "name": "stderr",
     "output_type": "stream",
     "text": [
      "/Users/machiel/Development/crystalline/sagemaker/corelab/.venv/lib/python3.13/site-packages/sagemaker_core/main/shapes.py:6645: SyntaxWarning: invalid escape sequence '\\|'\n",
      "  domain: The machine learning domain of the model and its components. Valid Values: COMPUTER_VISION \\| NATURAL_LANGUAGE_PROCESSING \\| MACHINE_LEARNING\n",
      "/Users/machiel/Development/crystalline/sagemaker/corelab/.venv/lib/python3.13/site-packages/sagemaker_core/main/shapes.py:7450: SyntaxWarning: invalid escape sequence '\\*'\n",
      "  schedule_expression: A cron expression that describes details about the monitoring schedule. The supported cron expressions are:   If you want to set the job to start every hour, use the following:  Hourly: cron(0 \\* ? \\* \\* \\*)    If you want to start the job daily:  cron(0 [00-23] ? \\* \\* \\*)    If you want to run the job one time, immediately, use the following keyword:  NOW    For example, the following are valid cron expressions:   Daily at noon UTC: cron(0 12 ? \\* \\* \\*)    Daily at midnight UTC: cron(0 0 ? \\* \\* \\*)    To support running every 6, 12 hours, the following are also supported:  cron(0 [00-23]/[01-24] ? \\* \\* \\*)  For example, the following are valid cron expressions:   Every 12 hours, starting at 5pm UTC: cron(0 17/12 ? \\* \\* \\*)    Every two hours starting at midnight: cron(0 0/2 ? \\* \\* \\*)       Even though the cron expression is set to start at 5PM UTC, note that there could be a delay of 0-20 minutes from the actual requested time to run the execution.    We recommend that if you would like a daily schedule, you do not provide this parameter. Amazon SageMaker AI will pick a time for running every day.    You can also specify the keyword NOW to run the monitoring job immediately, one time, without recurring.\n",
      "/Users/machiel/Development/crystalline/sagemaker/corelab/.venv/lib/python3.13/site-packages/sagemaker_core/main/shapes.py:9820: SyntaxWarning: invalid escape sequence '\\*'\n",
      "  resource_retained_billable_time_in_seconds: The billable time in seconds used by the warm pool. Billable time refers to the absolute wall-clock time. Multiply ResourceRetainedBillableTimeInSeconds by the number of instances (InstanceCount) in your training cluster to get the total compute time SageMaker bills you if you run warm pool training. The formula is as follows: ResourceRetainedBillableTimeInSeconds \\* InstanceCount.\n"
     ]
    },
    {
     "name": "stdout",
     "output_type": "stream",
     "text": [
      "sagemaker.config INFO - Not applying SDK defaults from location: /Library/Application Support/sagemaker/config.yaml\n",
      "sagemaker.config INFO - Not applying SDK defaults from location: /Users/machiel/Library/Application Support/sagemaker/config.yaml\n"
     ]
    },
    {
     "name": "stderr",
     "output_type": "stream",
     "text": [
      "Couldn't call 'get_role' to get Role ARN from role name machiel-crystalline to get Role path.\n"
     ]
    },
    {
     "name": "stdout",
     "output_type": "stream",
     "text": [
      "falling back to profile: sagemaker-role\n",
      "AWS region: eu-central-1\n",
      "Execution role arn:aws:iam::136548476532:role/service-role/AmazonSageMaker-ExecutionRole-20250902T164316\n",
      "Output bucket uri: s3://sagemaker-eu-central-1-136548476532/preprocessing_sdk/2025-10-22T09-00-07\n",
      "Framework: pytorch\n",
      "Project name: customer-churn\n"
     ]
    }
   ],
   "execution_count": 2
  },
  {
   "cell_type": "markdown",
   "metadata": {},
   "source": [
    "## Using PyTorchProcessor from SageMaker SDK\n",
    "\n",
    "The PyTorchProcessor provides modern framework integration with better dependency management and simplified configuration."
   ]
  },
  {
   "cell_type": "code",
   "metadata": {
    "ExecuteTime": {
     "end_time": "2025-10-22T09:00:10.224076Z",
     "start_time": "2025-10-22T09:00:10.104109Z"
    }
   },
   "source": [
    "from sagemaker.pytorch.processing import PyTorchProcessor\n",
    "from sagemaker.processing import ProcessingInput, ProcessingOutput\n",
    "\n",
    "# Define data locations\n",
    "data_s3_uri = f\"s3://sagemaker-example-files-prod-{lab_session.region}/datasets/tabular/synthetic/churn.txt\"\n",
    "output_s3_uri = lab_session.jobs_output_s3_uri\n",
    "\n",
    "print(f\"📁 Data S3 URI: {data_s3_uri}\")\n",
    "print(f\"📤 Output S3 URI: {output_s3_uri}\")"
   ],
   "outputs": [
    {
     "name": "stdout",
     "output_type": "stream",
     "text": [
      "📁 Data S3 URI: s3://sagemaker-example-files-prod-eu-central-1/datasets/tabular/synthetic/churn.txt\n",
      "📤 Output S3 URI: s3://sagemaker-eu-central-1-136548476532/preprocessing_sdk/2025-10-22T09-00-07/customer-churn-2025-10-22T09-00-07/jobs\n"
     ]
    }
   ],
   "execution_count": 3
  },
  {
   "cell_type": "code",
   "metadata": {
    "ExecuteTime": {
     "end_time": "2025-10-22T09:00:42.284594Z",
     "start_time": "2025-10-22T09:00:42.199876Z"
    }
   },
   "source": [
    "# Create PyTorchProcessor - modern framework with better dependency handling\n",
    "pytorch_processor = PyTorchProcessor(\n",
    "    framework_version='2.6.0',\n",
    "    py_version='py312',\n",
    "    instance_type=\"ml.m5.large\", # 'ml.m5.large',\n",
    "    instance_count=1,\n",
    "    role=lab_session.role,\n",
    "    sagemaker_session=lab_session.get_sagemaker_session(),\n",
    "    volume_size_in_gb=30,\n",
    "    max_runtime_in_seconds=3600,\n",
    "    env={\"PYTHONUNBUFFERED\": \"1\"}\n",
    ")\n",
    "\n",
    "print(\"✅ PyTorchProcessor created\")"
   ],
   "outputs": [
    {
     "name": "stderr",
     "output_type": "stream",
     "text": [
      "INFO:sagemaker.image_uris:image_uri is not presented, retrieving image_uri based on instance_type, framework etc.\n"
     ]
    },
    {
     "name": "stdout",
     "output_type": "stream",
     "text": [
      "✅ PyTorchProcessor created\n"
     ]
    }
   ],
   "execution_count": 6
  },
  {
   "cell_type": "code",
   "metadata": {
    "ExecuteTime": {
     "end_time": "2025-10-22T09:06:08.871721Z",
     "start_time": "2025-10-22T09:00:42.887843Z"
    }
   },
   "source": [
    "# Run the processing job with framework features\n",
    "job_name = lab_session.processing_job_name\n",
    "\n",
    "pytorch_processor.run(\n",
    "    code=\"preprocessing.py\",         # Entry point script\n",
    "    source_dir=\"src/\",              # Directory with code and requirements.txt\n",
    "    job_name=job_name,\n",
    "    inputs=[\n",
    "        ProcessingInput(\n",
    "            source=data_s3_uri,\n",
    "            destination=\"/opt/ml/processing/input/data\"\n",
    "        )\n",
    "    ],\n",
    "    outputs=[\n",
    "        ProcessingOutput(\n",
    "            output_name=\"test\",\n",
    "            source=\"/opt/ml/processing/output/test\",\n",
    "            destination=f\"{output_s3_uri}/{job_name}\"\n",
    "        ),\n",
    "        ProcessingOutput(\n",
    "            output_name=\"validation\",\n",
    "            source=\"/opt/ml/processing/output/validation\",\n",
    "            destination=f\"{output_s3_uri}/{job_name}\"\n",
    "        ),\n",
    "        ProcessingOutput(\n",
    "            output_name=\"train\",\n",
    "            source=\"/opt/ml/processing/output/train\",\n",
    "            destination=f\"{output_s3_uri}/{job_name}\"\n",
    "        )\n",
    "    ],\n",
    "    arguments=[\"--train-test-split\", \"0.33\"],\n",
    "    wait=True,  # Wait for completion\n",
    "    logs=True   # Stream logs to notebook\n",
    ")\n",
    "\n",
    "print(f\"✅ PyTorch Processing job completed: {job_name}\")\n",
    "print(f\"Output location of processing job: {output_s3_uri}/{job_name}\")"
   ],
   "outputs": [
    {
     "name": "stderr",
     "output_type": "stream",
     "text": [
      "INFO:sagemaker.processing:Uploaded src/ to s3://sagemaker-eu-central-1-136548476532/preprocessing_sdk/2025-10-22T09-00-07/customer-churn-pytorch-processing-2025-10-22T09-00-42/source/sourcedir.tar.gz\n",
      "INFO:sagemaker.processing:runproc.sh uploaded to s3://sagemaker-eu-central-1-136548476532/preprocessing_sdk/2025-10-22T09-00-07/customer-churn-pytorch-processing-2025-10-22T09-00-42/source/runproc.sh\n",
      "INFO:sagemaker:Creating processing-job with name customer-churn-pytorch-processing-2025-10-22T09-00-42\n"
     ]
    },
    {
     "name": "stdout",
     "output_type": "stream",
     "text": [
      "..............\u001B[34mCodeArtifact repository not specified. Skipping login.\u001B[0m\n",
      "\u001B[34mFound existing installation: typing 3.7.4.3\u001B[0m\n",
      "\u001B[34mUninstalling typing-3.7.4.3:\n",
      "  Successfully uninstalled typing-3.7.4.3\u001B[0m\n",
      "\u001B[34mWARNING: Running pip as the 'root' user can result in broken permissions and conflicting behaviour with the system package manager, possibly rendering your system unusable. It is recommended to use a virtual environment instead: https://pip.pypa.io/warnings/venv. Use the --root-user-action option if you know what you are doing and want to suppress this warning.\u001B[0m\n",
      "\u001B[34mCollecting xgboost==3.0.5 (from -r requirements.txt (line 1))\n",
      "  Downloading xgboost-3.0.5-py3-none-manylinux_2_28_x86_64.whl.metadata (2.1 kB)\u001B[0m\n",
      "\u001B[34mRequirement already satisfied: pandas>=1.5.0 in /usr/local/lib/python3.12/site-packages (from -r requirements.txt (line 2)) (2.3.1)\u001B[0m\n",
      "\u001B[34mCollecting sagemaker-training>=5.1.1 (from -r requirements.txt (line 3))\n",
      "  Downloading sagemaker_training-5.1.1.tar.gz (59 kB)\n",
      "  Installing build dependencies: started\n",
      "  Installing build dependencies: finished with status 'done'\n",
      "  Getting requirements to build wheel: started\n",
      "  Getting requirements to build wheel: finished with status 'done'\n",
      "  Preparing metadata (pyproject.toml): started\n",
      "  Preparing metadata (pyproject.toml): finished with status 'done'\u001B[0m\n",
      "\u001B[34mCollecting sagemaker-inference>=1.10.1 (from -r requirements.txt (line 4))\n",
      "  Downloading sagemaker_inference-1.10.1.tar.gz (23 kB)\n",
      "  Installing build dependencies: started\u001B[0m\n",
      "\u001B[34m  Installing build dependencies: finished with status 'done'\n",
      "  Getting requirements to build wheel: started\u001B[0m\n",
      "\u001B[34m  Getting requirements to build wheel: finished with status 'done'\n",
      "  Preparing metadata (pyproject.toml): started\n",
      "  Preparing metadata (pyproject.toml): finished with status 'done'\u001B[0m\n",
      "\u001B[34mRequirement already satisfied: scikit-learn>=1.0.0 in /usr/local/lib/python3.12/site-packages (from -r requirements.txt (line 5)) (1.7.0)\u001B[0m\n",
      "\u001B[34mRequirement already satisfied: numpy in /usr/local/lib/python3.12/site-packages (from xgboost==3.0.5->-r requirements.txt (line 1)) (1.26.4)\u001B[0m\n",
      "\u001B[34mCollecting nvidia-nccl-cu12 (from xgboost==3.0.5->-r requirements.txt (line 1))\n",
      "  Downloading nvidia_nccl_cu12-2.28.7-py3-none-manylinux_2_18_x86_64.whl.metadata (2.0 kB)\u001B[0m\n",
      "\u001B[34mRequirement already satisfied: scipy in /usr/local/lib/python3.12/site-packages (from xgboost==3.0.5->-r requirements.txt (line 1)) (1.16.0)\u001B[0m\n",
      "\u001B[34mRequirement already satisfied: python-dateutil>=2.8.2 in /usr/local/lib/python3.12/site-packages (from pandas>=1.5.0->-r requirements.txt (line 2)) (2.9.0.post0)\u001B[0m\n",
      "\u001B[34mRequirement already satisfied: pytz>=2020.1 in /usr/local/lib/python3.12/site-packages (from pandas>=1.5.0->-r requirements.txt (line 2)) (2025.2)\u001B[0m\n",
      "\u001B[34mRequirement already satisfied: tzdata>=2022.7 in /usr/local/lib/python3.12/site-packages (from pandas>=1.5.0->-r requirements.txt (line 2)) (2025.2)\u001B[0m\n",
      "\u001B[34mRequirement already satisfied: boto3 in /usr/local/lib/python3.12/site-packages (from sagemaker-training>=5.1.1->-r requirements.txt (line 3)) (1.39.7)\u001B[0m\n",
      "\u001B[34mRequirement already satisfied: six in /usr/local/lib/python3.12/site-packages (from sagemaker-training>=5.1.1->-r requirements.txt (line 3)) (1.17.0)\u001B[0m\n",
      "\u001B[34mRequirement already satisfied: pip in /usr/local/lib/python3.12/site-packages (from sagemaker-training>=5.1.1->-r requirements.txt (line 3)) (25.2)\u001B[0m\n",
      "\u001B[34mRequirement already satisfied: retrying>=1.3.3 in /usr/local/lib/python3.12/site-packages (from sagemaker-training>=5.1.1->-r requirements.txt (line 3)) (1.4.0)\u001B[0m\n",
      "\u001B[34mRequirement already satisfied: gevent in /usr/local/lib/python3.12/site-packages (from sagemaker-training>=5.1.1->-r requirements.txt (line 3)) (25.5.1)\u001B[0m\n",
      "\u001B[34mRequirement already satisfied: inotify_simple==1.2.1 in /usr/local/lib/python3.12/site-packages (from sagemaker-training>=5.1.1->-r requirements.txt (line 3)) (1.2.1)\u001B[0m\n",
      "\u001B[34mRequirement already satisfied: werkzeug>=0.15.5 in /usr/local/lib/python3.12/site-packages (from sagemaker-training>=5.1.1->-r requirements.txt (line 3)) (3.1.3)\u001B[0m\n",
      "\u001B[34mRequirement already satisfied: paramiko>=2.4.2 in /usr/local/lib/python3.12/site-packages (from sagemaker-training>=5.1.1->-r requirements.txt (line 3)) (3.5.1)\u001B[0m\n",
      "\u001B[34mRequirement already satisfied: psutil>=5.6.7 in /usr/local/lib/python3.12/site-packages (from sagemaker-training>=5.1.1->-r requirements.txt (line 3)) (7.0.0)\u001B[0m\n",
      "\u001B[34mRequirement already satisfied: protobuf>=5.28.1 in /usr/local/lib/python3.12/site-packages (from sagemaker-training>=5.1.1->-r requirements.txt (line 3)) (6.31.1)\u001B[0m\n",
      "\u001B[34mRequirement already satisfied: botocore>=1.31.57 in /usr/local/lib/python3.12/site-packages (from sagemaker-training>=5.1.1->-r requirements.txt (line 3)) (1.39.7)\u001B[0m\n",
      "\u001B[34mCollecting retrying>=1.3.3 (from sagemaker-training>=5.1.1->-r requirements.txt (line 3))\n",
      "  Downloading retrying-1.3.7-py3-none-any.whl.metadata (7.3 kB)\u001B[0m\n",
      "\u001B[34mRequirement already satisfied: joblib>=1.2.0 in /usr/local/lib/python3.12/site-packages (from scikit-learn>=1.0.0->-r requirements.txt (line 5)) (1.5.1)\u001B[0m\n",
      "\u001B[34mRequirement already satisfied: threadpoolctl>=3.1.0 in /usr/local/lib/python3.12/site-packages (from scikit-learn>=1.0.0->-r requirements.txt (line 5)) (3.6.0)\u001B[0m\n",
      "\u001B[34mRequirement already satisfied: jmespath<2.0.0,>=0.7.1 in /usr/local/lib/python3.12/site-packages (from boto3->sagemaker-training>=5.1.1->-r requirements.txt (line 3)) (1.0.1)\u001B[0m\n",
      "\u001B[34mRequirement already satisfied: s3transfer<0.14.0,>=0.13.0 in /usr/local/lib/python3.12/site-packages (from boto3->sagemaker-training>=5.1.1->-r requirements.txt (line 3)) (0.13.0)\u001B[0m\n",
      "\u001B[34mRequirement already satisfied: urllib3!=2.2.0,<3,>=1.25.4 in /usr/local/lib/python3.12/site-packages (from botocore>=1.31.57->sagemaker-training>=5.1.1->-r requirements.txt (line 3)) (2.5.0)\u001B[0m\n",
      "\u001B[34mRequirement already satisfied: bcrypt>=3.2 in /usr/local/lib/python3.12/site-packages (from paramiko>=2.4.2->sagemaker-training>=5.1.1->-r requirements.txt (line 3)) (4.3.0)\u001B[0m\n",
      "\u001B[34mRequirement already satisfied: cryptography>=3.3 in /usr/local/lib/python3.12/site-packages (from paramiko>=2.4.2->sagemaker-training>=5.1.1->-r requirements.txt (line 3)) (45.0.5)\u001B[0m\n",
      "\u001B[34mRequirement already satisfied: pynacl>=1.5 in /usr/local/lib/python3.12/site-packages (from paramiko>=2.4.2->sagemaker-training>=5.1.1->-r requirements.txt (line 3)) (1.5.0)\u001B[0m\n",
      "\u001B[34mRequirement already satisfied: cffi>=1.14 in /usr/local/lib/python3.12/site-packages (from cryptography>=3.3->paramiko>=2.4.2->sagemaker-training>=5.1.1->-r requirements.txt (line 3)) (1.17.1)\u001B[0m\n",
      "\u001B[34mRequirement already satisfied: pycparser in /usr/local/lib/python3.12/site-packages (from cffi>=1.14->cryptography>=3.3->paramiko>=2.4.2->sagemaker-training>=5.1.1->-r requirements.txt (line 3)) (2.22)\u001B[0m\n",
      "\u001B[34mRequirement already satisfied: MarkupSafe>=2.1.1 in /usr/local/lib/python3.12/site-packages (from werkzeug>=0.15.5->sagemaker-training>=5.1.1->-r requirements.txt (line 3)) (3.0.2)\u001B[0m\n",
      "\u001B[34mRequirement already satisfied: greenlet>=3.2.2 in /usr/local/lib/python3.12/site-packages (from gevent->sagemaker-training>=5.1.1->-r requirements.txt (line 3)) (3.2.3)\u001B[0m\n",
      "\u001B[34mRequirement already satisfied: zope.event in /usr/local/lib/python3.12/site-packages (from gevent->sagemaker-training>=5.1.1->-r requirements.txt (line 3)) (5.1)\u001B[0m\n",
      "\u001B[34mRequirement already satisfied: zope.interface in /usr/local/lib/python3.12/site-packages (from gevent->sagemaker-training>=5.1.1->-r requirements.txt (line 3)) (7.2)\u001B[0m\n",
      "\u001B[34mRequirement already satisfied: setuptools in /usr/local/lib/python3.12/site-packages (from zope.event->gevent->sagemaker-training>=5.1.1->-r requirements.txt (line 3)) (80.9.0)\u001B[0m\n",
      "\u001B[34mDownloading xgboost-3.0.5-py3-none-manylinux_2_28_x86_64.whl (94.9 MB)\u001B[0m\n",
      "\u001B[34m   ━━━━━━━━━━━━━━━━━━━━━━━━━━━━━━━━━━━━━━━━ 94.9/94.9 MB 116.1 MB/s  0:00:00\u001B[0m\n",
      "\u001B[34mDownloading retrying-1.3.7-py3-none-any.whl (11 kB)\u001B[0m\n",
      "\u001B[34mDownloading nvidia_nccl_cu12-2.28.7-py3-none-manylinux_2_18_x86_64.whl (296.8 MB)\u001B[0m\n",
      "\u001B[34m   ━━━━━━━━━━━━━━━━━━━━━━━━━━━━━━━━━━━━━━━━ 296.8/296.8 MB 47.6 MB/s  0:00:05\u001B[0m\n",
      "\u001B[34mBuilding wheels for collected packages: sagemaker-training, sagemaker-inference\n",
      "  Building wheel for sagemaker-training (pyproject.toml): started\u001B[0m\n",
      "\u001B[34m  Building wheel for sagemaker-training (pyproject.toml): finished with status 'done'\n",
      "  Created wheel for sagemaker-training: filename=sagemaker_training-5.1.1-cp312-cp312-linux_x86_64.whl size=88364 sha256=63c8bc65878b2f859adc3fa8a57c5a02e8747fbd1a454001d18515bc54d18ca7\n",
      "  Stored in directory: /root/.cache/pip/wheels/6c/1a/dd/3623eed42223170d254d572bdd34a4f976cac5200ae2092cc6\n",
      "  Building wheel for sagemaker-inference (pyproject.toml): started\u001B[0m\n",
      "\u001B[34m  Building wheel for sagemaker-inference (pyproject.toml): finished with status 'done'\n",
      "  Created wheel for sagemaker-inference: filename=sagemaker_inference-1.10.1-py2.py3-none-any.whl size=29838 sha256=0b5333fd9641a689642c6ed851cf5051a0b3a557fbad96de5faeff7f70626c8f\n",
      "  Stored in directory: /root/.cache/pip/wheels/ed/bb/c9/473181075d65511229428dce029a6d9309106c95503b3cc835\u001B[0m\n",
      "\u001B[34mSuccessfully built sagemaker-training sagemaker-inference\u001B[0m\n",
      "\u001B[34mInstalling collected packages: retrying, nvidia-nccl-cu12, xgboost, sagemaker-training, sagemaker-inference\n",
      "  Attempting uninstall: retrying\n",
      "    Found existing installation: retrying 1.4.0\n",
      "    Uninstalling retrying-1.4.0:\n",
      "      Successfully uninstalled retrying-1.4.0\u001B[0m\n",
      "\u001B[34m  Attempting uninstall: sagemaker-training\n",
      "    Found existing installation: sagemaker_training 5.0.0\n",
      "    Uninstalling sagemaker_training-5.0.0:\n",
      "      Successfully uninstalled sagemaker_training-5.0.0\u001B[0m\n",
      "\u001B[34mSuccessfully installed nvidia-nccl-cu12-2.28.7 retrying-1.3.7 sagemaker-inference-1.10.1 sagemaker-training-5.1.1 xgboost-3.0.5\u001B[0m\n",
      "\u001B[34mWARNING: Running pip as the 'root' user can result in broken permissions and conflicting behaviour with the system package manager, possibly rendering your system unusable. It is recommended to use a virtual environment instead: https://pip.pypa.io/warnings/venv. Use the --root-user-action option if you know what you are doing and want to suppress this warning.\u001B[0m\n",
      "\u001B[34m/opt/ml/processing/input/code/preprocessing.py:8: UserWarning: pkg_resources is deprecated as an API. See https://setuptools.pypa.io/en/latest/pkg_resources.html. The pkg_resources package is slated for removal as early as 2025-11-30. Refrain from using this package or pin to Setuptools<81.\n",
      "  import pkg_resources\u001B[0m\n",
      "\u001B[34m=== ALL ENVIRONMENT VARIABLES ===\u001B[0m\n",
      "\u001B[34mPYTHONUNBUFFERED: 1\u001B[0m\n",
      "\u001B[34mAWS_CONTAINER_CREDENTIALS_RELATIVE_URI: /v2/credentials/proxy-561473631f5020be098a9376c2f5d9ddd2565f5ede66a8ea69e0fc655ddb615c-customer\u001B[0m\n",
      "\u001B[34mSAGEMAKER_TRAINING_MODULE: sagemaker_pytorch_container.training:main\u001B[0m\n",
      "\u001B[34mHOSTNAME: ip-10-0-145-124.eu-central-1.compute.internal\u001B[0m\n",
      "\u001B[34mAWS_REGION: eu-central-1\u001B[0m\n",
      "\u001B[34mPWD: /opt/ml/processing/input/code\u001B[0m\n",
      "\u001B[34mSAGEMAKER_MANAGED_WARMPOOL_CACHE_DIRECTORY: /opt/ml/sagemaker/warmpoolcache\u001B[0m\n",
      "\u001B[34mHOME: /root\u001B[0m\n",
      "\u001B[34mLANG: C.UTF-8\u001B[0m\n",
      "\u001B[34mDMLC_INTERFACE: eth0\u001B[0m\n",
      "\u001B[34mPYTHONIOENCODING: UTF-8\u001B[0m\n",
      "\u001B[34mSHLVL: 1\u001B[0m\n",
      "\u001B[34mPYTHONDONTWRITEBYTECODE: 1\u001B[0m\n",
      "\u001B[34mLD_LIBRARY_PATH: /home/.openmpi/lib:/lib/x86_64-linux-gnu:/usr/local/lib:/usr/local/lib:\u001B[0m\n",
      "\u001B[34mLC_ALL: C.UTF-8\u001B[0m\n",
      "\u001B[34mPATH: /usr/local/bin:/home/.openmpi/bin:/usr/local/sbin:/usr/local/bin:/usr/sbin:/usr/bin:/sbin:/bin\u001B[0m\n",
      "\u001B[34mDEBIAN_FRONTEND: noninteractive\u001B[0m\n",
      "\u001B[34mOLDPWD: /\u001B[0m\n",
      "\u001B[34mDLC_CONTAINER_TYPE: training\u001B[0m\n",
      "\u001B[34m_: /usr/local/bin/python\u001B[0m\n",
      "\u001B[34mKMP_DUPLICATE_LIB_OK: True\u001B[0m\n",
      "\u001B[34mKMP_INIT_AT_FORK: FALSE\u001B[0m\n",
      "\u001B[34m=== PROGRAM EXECUTION ===\u001B[0m\n",
      "\u001B[34mScript name: preprocessing.py\u001B[0m\n",
      "\u001B[34mArguments: ['--train-test-split', '0.33']\u001B[0m\n",
      "\u001B[34m✅ sagemaker version: 2.248.1\u001B[0m\n",
      "\u001B[34m✅ xgboost version: 3.0.5\u001B[0m\n",
      "\n",
      "✅ PyTorch Processing job completed: customer-churn-pytorch-processing-2025-10-22T09-00-42\n",
      "Output location of processing job: s3://sagemaker-eu-central-1-136548476532/preprocessing_sdk/2025-10-22T09-00-07/customer-churn-2025-10-22T09-00-07/jobs/customer-churn-pytorch-processing-2025-10-22T09-00-42\n"
     ]
    }
   ],
   "execution_count": 7
  },
  {
   "cell_type": "code",
   "metadata": {
    "ExecuteTime": {
     "end_time": "2025-10-22T09:06:08.955151Z",
     "start_time": "2025-10-22T09:06:08.931297Z"
    }
   },
   "source": [
    "print(f\"Output location of processing job: {output_s3_uri}/{job_name}\")"
   ],
   "outputs": [
    {
     "name": "stdout",
     "output_type": "stream",
     "text": [
      "Output location of processing job: s3://sagemaker-eu-central-1-136548476532/preprocessing_sdk/2025-10-22T09-00-07/customer-churn-2025-10-22T09-00-07/jobs/customer-churn-pytorch-processing-2025-10-22T09-00-42\n"
     ]
    }
   ],
   "execution_count": 8
  },
  {
   "cell_type": "markdown",
   "metadata": {},
   "source": [
    "## Key Features of PyTorchProcessor\n",
    "\n",
    "### Advantages Over sagemaker-core ProcessingJob:\n",
    "\n",
    "1. **Modern Framework Integration**\n",
    "   - Optimized for PyTorch-based workflows\n",
    "   - Uses latest PyTorch container images (2.0+)\n",
    "   - Better compatibility with modern ML libraries and tools\n",
    "\n",
    "2. **Automatic Dependency Management**\n",
    "   - `source_dir` automatically uploads `requirements.txt`\n",
    "   - Dependencies installed in container automatically\n",
    "   - No manual container configuration needed\n",
    "\n",
    "3. **Built-in Convenience Features**\n",
    "   - `wait=True`: Automatic blocking until completion\n",
    "   - `logs=True`: Stream logs directly to notebook\n",
    "   - Cleaner API with less boilerplate\n",
    "\n",
    "4. **SDK Ecosystem Integration**\n",
    "   - Works seamlessly with other SDK components\n",
    "   - Can be used with PipelineSession for pipelines\n",
    "   - Integrates with SageMaker Experiments\n",
    "\n",
    "### When to Use PyTorchProcessor:\n",
    "\n",
    "✅ **Use PyTorchProcessor when:**\n",
    "- Building modern ML workflows with PyTorch ecosystem\n",
    "- Need automatic dependency installation\n",
    "- Want simpler, higher-level API\n",
    "- Building SageMaker Pipelines (next lab!)\n",
    "\n",
    "✅ **Use sagemaker-core ProcessingJob when:**\n",
    "- Need fine-grained control over all parameters\n",
    "- Using custom containers\n",
    "- Learning the underlying SageMaker APIs\n",
    "- Building custom processing abstractions"
   ]
  }
 ],
 "metadata": {
  "kernelspec": {
   "display_name": "Python 3",
   "language": "python",
   "name": "python3"
  },
  "language_info": {
   "codemirror_mode": {
    "name": "ipython",
    "version": 3
   },
   "file_extension": ".py",
   "mimetype": "text/x-python",
   "name": "python",
   "nbconvert_exporter": "python",
   "pygments_lexer": "ipython3",
   "version": "3.9.0"
  }
 },
 "nbformat": 4,
 "nbformat_minor": 4
}
