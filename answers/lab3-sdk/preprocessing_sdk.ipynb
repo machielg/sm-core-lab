{
 "cells": [
  {
   "cell_type": "markdown",
   "metadata": {},
   "source": "# Data Preprocessing with SageMaker SDK (PyTorchProcessor)\n\nThis notebook demonstrates data preprocessing using the **SageMaker SDK's PyTorchProcessor** - a modern framework-based processor that simplifies preprocessing workflows.\n\n**Key Advantages:**\n- Framework-optimized for PyTorch-based workflows\n- Automatic requirements.txt installation\n- Built-in log streaming\n- Simplified API compared to sagemaker-core"
  },
  {
   "cell_type": "code",
   "metadata": {
    "ExecuteTime": {
     "end_time": "2025-10-10T11:01:46.757998Z",
     "start_time": "2025-10-10T11:01:46.717572Z"
    }
   },
   "source": [
    "%load_ext autoreload\n",
    "%autoreload 2"
   ],
   "outputs": [
    {
     "name": "stdout",
     "output_type": "stream",
     "text": [
      "The autoreload extension is already loaded. To reload it, use:\n",
      "  %reload_ext autoreload\n"
     ]
    }
   ],
   "execution_count": 11
  },
  {
   "cell_type": "code",
   "metadata": {
    "ExecuteTime": {
     "end_time": "2025-10-10T11:01:49.280856Z",
     "start_time": "2025-10-10T11:01:47.428381Z"
    }
   },
   "source": "from corelab.core.session import CoreLabSession\n\nlab_session = CoreLabSession(\n    'pytorch', \n    'customer-churn', \n    default_folder='preprocessing_sdk', \n    create_run_folder=True, \n    aws_profile='sagemaker-role'\n)\nlab_session.print()",
   "outputs": [
    {
     "name": "stdout",
     "output_type": "stream",
     "text": [
      "execution role available: arn:aws:iam::136548476532:role/service-role/AmazonSageMaker-ExecutionRole-20250902T164316\n",
      "AWS region: eu-central-1\n",
      "Execution role arn:aws:iam::136548476532:role/service-role/AmazonSageMaker-ExecutionRole-20250902T164316\n",
      "Output bucket uri: s3://sagemaker-eu-central-1-136548476532/preprocessing_sdk/2025-10-10T11-01-47\n",
      "Framework: pytorch\n",
      "Project name: customer-churn\n"
     ]
    }
   ],
   "execution_count": 12
  },
  {
   "cell_type": "markdown",
   "metadata": {},
   "source": "## Using PyTorchProcessor from SageMaker SDK\n\nThe PyTorchProcessor provides modern framework integration with better dependency management and simplified configuration."
  },
  {
   "cell_type": "code",
   "metadata": {
    "ExecuteTime": {
     "end_time": "2025-10-10T11:03:47.500154Z",
     "start_time": "2025-10-10T11:03:47.461389Z"
    }
   },
   "source": "from sagemaker.pytorch.processing import PyTorchProcessor\nfrom sagemaker.processing import ProcessingInput, ProcessingOutput\n\n# Define data locations\ndata_s3_uri = f\"s3://sagemaker-example-files-prod-{lab_session.region}/datasets/tabular/synthetic/churn.txt\"\noutput_s3_uri = lab_session.jobs_output_s3_uri\n\nprint(f\"📁 Data S3 URI: {data_s3_uri}\")\nprint(f\"📤 Output S3 URI: {output_s3_uri}\")",
   "outputs": [
    {
     "name": "stdout",
     "output_type": "stream",
     "text": [
      "📁 Data S3 URI: s3://sagemaker-example-files-prod-eu-central-1/datasets/tabular/synthetic/churn.txt\n",
      "📤 Output S3 URI: s3://sagemaker-eu-central-1-136548476532/preprocessing_sdk/2025-10-10T11-01-47/customer-churn-2025-10-10T11-01-47/jobs\n"
     ]
    }
   ],
   "execution_count": 13
  },
  {
   "cell_type": "code",
   "metadata": {
    "ExecuteTime": {
     "end_time": "2025-10-10T11:03:48.343271Z",
     "start_time": "2025-10-10T11:03:48.231733Z"
    }
   },
   "source": "# Create PyTorchProcessor - modern framework with better dependency handling\npytorch_processor = PyTorchProcessor(\n    framework_version='2.0',\n    py_version='py310',\n    instance_type=\"ml.m5.large\",\n    instance_count=1,\n    role=lab_session.role,\n    sagemaker_session=lab_session.get_sagemaker_session(),\n    volume_size_in_gb=30,\n    max_runtime_in_seconds=3600,\n    env={\"PYTHONUNBUFFERED\": \"1\"}\n)\n\nprint(\"✅ PyTorchProcessor created\")",
   "outputs": [
    {
     "name": "stderr",
     "output_type": "stream",
     "text": [
      "INFO:sagemaker.image_uris:image_uri is not presented, retrieving image_uri based on instance_type, framework etc.\n"
     ]
    },
    {
     "name": "stdout",
     "output_type": "stream",
     "text": [
      "✅ PyTorchProcessor created\n"
     ]
    }
   ],
   "execution_count": 14
  },
  {
   "cell_type": "code",
   "metadata": {
    "ExecuteTime": {
     "end_time": "2025-10-10T11:09:39.538793Z",
     "start_time": "2025-10-10T11:04:12.634940Z"
    }
   },
   "source": "# Run the processing job with framework features\njob_name = lab_session.processing_job_name\n\npytorch_processor.run(\n    code=\"preprocessing.py\",         # Entry point script\n    source_dir=\"src/\",              # Directory with code and requirements.txt\n    job_name=job_name,\n    inputs=[\n        ProcessingInput(\n            source=data_s3_uri,\n            destination=\"/opt/ml/processing/input/data\"\n        )\n    ],\n    outputs=[\n        ProcessingOutput(\n            output_name=\"processed\",\n            source=\"/opt/ml/processing/output\",\n            destination=f\"{output_s3_uri}/{job_name}\"\n        )\n    ],\n    arguments=[\"--train-test-split\", \"0.33\"],\n    wait=True,  # Wait for completion\n    logs=True   # Stream logs to notebook\n)\n\nprint(f\"✅ PyTorch Processing job completed: {job_name}\")",
   "outputs": [
    {
     "name": "stderr",
     "output_type": "stream",
     "text": [
      "INFO:sagemaker.processing:Uploaded src/ to s3://sagemaker-eu-central-1-136548476532/preprocessing_sdk/2025-10-10T11-01-47/customer-churn-pytorch-processing-2025-10-10T11-04-12/source/sourcedir.tar.gz\n",
      "INFO:sagemaker.processing:runproc.sh uploaded to s3://sagemaker-eu-central-1-136548476532/preprocessing_sdk/2025-10-10T11-01-47/customer-churn-pytorch-processing-2025-10-10T11-04-12/source/runproc.sh\n",
      "INFO:sagemaker:Creating processing-job with name customer-churn-pytorch-processing-2025-10-10T11-04-12\n"
     ]
    },
    {
     "name": "stdout",
     "output_type": "stream",
     "text": [
      "...............\u001B[34mCodeArtifact repository not specified. Skipping login.\u001B[0m\n",
      "\u001B[34mWARNING: Skipping typing as it is not installed.\u001B[0m\n",
      "\u001B[34mWARNING: Running pip as the 'root' user can result in broken permissions and conflicting behaviour with the system package manager. It is recommended to use a virtual environment instead: https://pip.pypa.io/warnings/venv\u001B[0m\n",
      "\u001B[34mCollecting sagemaker==2.251.1 (from -r requirements.txt (line 1))\n",
      "  Downloading sagemaker-2.251.1-py3-none-any.whl.metadata (17 kB)\u001B[0m\n",
      "\u001B[34mCollecting attrs<26,>=24 (from sagemaker==2.251.1->-r requirements.txt (line 1))\n",
      "  Downloading attrs-25.4.0-py3-none-any.whl.metadata (10 kB)\u001B[0m\n",
      "\u001B[34mCollecting boto3<2.0,>=1.39.5 (from sagemaker==2.251.1->-r requirements.txt (line 1))\n",
      "  Downloading boto3-1.40.49-py3-none-any.whl.metadata (6.7 kB)\u001B[0m\n",
      "\u001B[34mRequirement already satisfied: cloudpickle>=2.2.1 in /opt/conda/lib/python3.10/site-packages (from sagemaker==2.251.1->-r requirements.txt (line 1)) (2.2.1)\u001B[0m\n",
      "\u001B[34mCollecting docker (from sagemaker==2.251.1->-r requirements.txt (line 1))\n",
      "  Downloading docker-7.1.0-py3-none-any.whl.metadata (3.8 kB)\u001B[0m\n",
      "\u001B[34mCollecting fastapi (from sagemaker==2.251.1->-r requirements.txt (line 1))\n",
      "  Downloading fastapi-0.118.3-py3-none-any.whl.metadata (28 kB)\u001B[0m\n",
      "\u001B[34mRequirement already satisfied: google-pasta in /opt/conda/lib/python3.10/site-packages (from sagemaker==2.251.1->-r requirements.txt (line 1)) (0.2.0)\u001B[0m\n",
      "\u001B[34mCollecting graphene<4,>=3 (from sagemaker==2.251.1->-r requirements.txt (line 1))\n",
      "  Downloading graphene-3.4.3-py2.py3-none-any.whl.metadata (6.9 kB)\u001B[0m\n",
      "\u001B[34mRequirement already satisfied: importlib-metadata<7.0,>=1.4.0 in /opt/conda/lib/python3.10/site-packages (from sagemaker==2.251.1->-r requirements.txt (line 1)) (6.8.0)\u001B[0m\n",
      "\u001B[34mRequirement already satisfied: jsonschema in /opt/conda/lib/python3.10/site-packages (from sagemaker==2.251.1->-r requirements.txt (line 1)) (4.20.0)\u001B[0m\n",
      "\u001B[34mCollecting numpy==1.26.4 (from sagemaker==2.251.1->-r requirements.txt (line 1))\n",
      "  Downloading numpy-1.26.4-cp310-cp310-manylinux_2_17_x86_64.manylinux2014_x86_64.whl.metadata (61 kB)\n",
      "     ━━━━━━━━━━━━━━━━━━━━━━━━━━━━━━━━━━━━━━━━ 61.0/61.0 kB 6.2 MB/s eta 0:00:00\u001B[0m\n",
      "\u001B[34mCollecting omegaconf<3,>=2.2 (from sagemaker==2.251.1->-r requirements.txt (line 1))\n",
      "  Downloading omegaconf-2.3.0-py3-none-any.whl.metadata (3.9 kB)\u001B[0m\n",
      "\u001B[34mRequirement already satisfied: packaging<25,>=23.0 in /opt/conda/lib/python3.10/site-packages (from sagemaker==2.251.1->-r requirements.txt (line 1)) (23.2)\u001B[0m\n",
      "\u001B[34mRequirement already satisfied: pandas in /opt/conda/lib/python3.10/site-packages (from sagemaker==2.251.1->-r requirements.txt (line 1)) (2.1.3)\u001B[0m\n",
      "\u001B[34mRequirement already satisfied: pathos in /opt/conda/lib/python3.10/site-packages (from sagemaker==2.251.1->-r requirements.txt (line 1)) (0.3.1)\u001B[0m\n",
      "\u001B[34mRequirement already satisfied: platformdirs in /opt/conda/lib/python3.10/site-packages (from sagemaker==2.251.1->-r requirements.txt (line 1)) (4.0.0)\u001B[0m\n",
      "\u001B[34mRequirement already satisfied: protobuf<6.32,>=3.12 in /opt/conda/lib/python3.10/site-packages (from sagemaker==2.251.1->-r requirements.txt (line 1)) (3.20.3)\u001B[0m\n",
      "\u001B[34mRequirement already satisfied: psutil in /opt/conda/lib/python3.10/site-packages (from sagemaker==2.251.1->-r requirements.txt (line 1)) (5.9.5)\u001B[0m\n",
      "\u001B[34mRequirement already satisfied: pyyaml>=6.0.1 in /opt/conda/lib/python3.10/site-packages (from sagemaker==2.251.1->-r requirements.txt (line 1)) (6.0.1)\u001B[0m\n",
      "\u001B[34mRequirement already satisfied: requests in /opt/conda/lib/python3.10/site-packages (from sagemaker==2.251.1->-r requirements.txt (line 1)) (2.31.0)\u001B[0m\n",
      "\u001B[34mCollecting sagemaker-core<2.0.0,>=1.0.17 (from sagemaker==2.251.1->-r requirements.txt (line 1))\n",
      "  Downloading sagemaker_core-1.0.59-py3-none-any.whl.metadata (4.9 kB)\u001B[0m\n",
      "\u001B[34mRequirement already satisfied: schema in /opt/conda/lib/python3.10/site-packages (from sagemaker==2.251.1->-r requirements.txt (line 1)) (0.7.5)\u001B[0m\n",
      "\u001B[34mRequirement already satisfied: smdebug-rulesconfig==1.0.1 in /opt/conda/lib/python3.10/site-packages (from sagemaker==2.251.1->-r requirements.txt (line 1)) (1.0.1)\u001B[0m\n",
      "\u001B[34mRequirement already satisfied: tblib<4,>=1.7.0 in /opt/conda/lib/python3.10/site-packages (from sagemaker==2.251.1->-r requirements.txt (line 1)) (1.7.0)\u001B[0m\n",
      "\u001B[34mRequirement already satisfied: tqdm in /opt/conda/lib/python3.10/site-packages (from sagemaker==2.251.1->-r requirements.txt (line 1)) (4.64.1)\u001B[0m\n",
      "\u001B[34mRequirement already satisfied: urllib3<3.0.0,>=1.26.8 in /opt/conda/lib/python3.10/site-packages (from sagemaker==2.251.1->-r requirements.txt (line 1)) (1.26.18)\u001B[0m\n",
      "\u001B[34mCollecting uvicorn (from sagemaker==2.251.1->-r requirements.txt (line 1))\n",
      "  Downloading uvicorn-0.37.0-py3-none-any.whl.metadata (6.6 kB)\u001B[0m\n",
      "\u001B[34mCollecting botocore<1.41.0,>=1.40.49 (from boto3<2.0,>=1.39.5->sagemaker==2.251.1->-r requirements.txt (line 1))\n",
      "  Downloading botocore-1.40.49-py3-none-any.whl.metadata (5.7 kB)\u001B[0m\n",
      "\u001B[34mRequirement already satisfied: jmespath<2.0.0,>=0.7.1 in /opt/conda/lib/python3.10/site-packages (from boto3<2.0,>=1.39.5->sagemaker==2.251.1->-r requirements.txt (line 1)) (1.0.1)\u001B[0m\n",
      "\u001B[34mCollecting s3transfer<0.15.0,>=0.14.0 (from boto3<2.0,>=1.39.5->sagemaker==2.251.1->-r requirements.txt (line 1))\u001B[0m\n",
      "\u001B[34m  Downloading s3transfer-0.14.0-py3-none-any.whl.metadata (1.7 kB)\u001B[0m\n",
      "\u001B[34mCollecting graphql-core<3.3,>=3.1 (from graphene<4,>=3->sagemaker==2.251.1->-r requirements.txt (line 1))\n",
      "  Downloading graphql_core-3.2.6-py3-none-any.whl.metadata (11 kB)\u001B[0m\n",
      "\u001B[34mCollecting graphql-relay<3.3,>=3.1 (from graphene<4,>=3->sagemaker==2.251.1->-r requirements.txt (line 1))\n",
      "  Downloading graphql_relay-3.2.0-py3-none-any.whl.metadata (12 kB)\u001B[0m\n",
      "\u001B[34mRequirement already satisfied: python-dateutil<3,>=2.7.0 in /opt/conda/lib/python3.10/site-packages (from graphene<4,>=3->sagemaker==2.251.1->-r requirements.txt (line 1)) (2.8.2)\u001B[0m\n",
      "\u001B[34mRequirement already satisfied: typing-extensions<5,>=4.7.1 in /opt/conda/lib/python3.10/site-packages (from graphene<4,>=3->sagemaker==2.251.1->-r requirements.txt (line 1)) (4.8.0)\u001B[0m\n",
      "\u001B[34mRequirement already satisfied: zipp>=0.5 in /opt/conda/lib/python3.10/site-packages (from importlib-metadata<7.0,>=1.4.0->sagemaker==2.251.1->-r requirements.txt (line 1)) (3.17.0)\u001B[0m\n",
      "\u001B[34mCollecting antlr4-python3-runtime==4.9.* (from omegaconf<3,>=2.2->sagemaker==2.251.1->-r requirements.txt (line 1))\n",
      "  Downloading antlr4-python3-runtime-4.9.3.tar.gz (117 kB)\n",
      "     ━━━━━━━━━━━━━━━━━━━━━━━━━━━━━━━━━━━━━━ 117.0/117.0 kB 12.4 MB/s eta 0:00:00\n",
      "  Preparing metadata (setup.py): started\n",
      "  Preparing metadata (setup.py): finished with status 'done'\u001B[0m\n",
      "\u001B[34mRequirement already satisfied: pydantic<3.0.0,>=2.0.0 in /opt/conda/lib/python3.10/site-packages (from sagemaker-core<2.0.0,>=1.0.17->sagemaker==2.251.1->-r requirements.txt (line 1)) (2.5.2)\u001B[0m\n",
      "\u001B[34mRequirement already satisfied: rich<15.0.0,>=13.0.0 in /opt/conda/lib/python3.10/site-packages (from sagemaker-core<2.0.0,>=1.0.17->sagemaker==2.251.1->-r requirements.txt (line 1)) (13.7.0)\u001B[0m\n",
      "\u001B[34mCollecting mock<5.0,>4.0 (from sagemaker-core<2.0.0,>=1.0.17->sagemaker==2.251.1->-r requirements.txt (line 1))\n",
      "  Downloading mock-4.0.3-py3-none-any.whl.metadata (2.8 kB)\u001B[0m\n",
      "\u001B[34mRequirement already satisfied: jsonschema-specifications>=2023.03.6 in /opt/conda/lib/python3.10/site-packages (from jsonschema->sagemaker==2.251.1->-r requirements.txt (line 1)) (2023.11.1)\u001B[0m\n",
      "\u001B[34mRequirement already satisfied: referencing>=0.28.4 in /opt/conda/lib/python3.10/site-packages (from jsonschema->sagemaker==2.251.1->-r requirements.txt (line 1)) (0.31.0)\u001B[0m\n",
      "\u001B[34mRequirement already satisfied: rpds-py>=0.7.1 in /opt/conda/lib/python3.10/site-packages (from jsonschema->sagemaker==2.251.1->-r requirements.txt (line 1)) (0.13.1)\u001B[0m\n",
      "\u001B[34mRequirement already satisfied: charset-normalizer<4,>=2 in /opt/conda/lib/python3.10/site-packages (from requests->sagemaker==2.251.1->-r requirements.txt (line 1)) (2.1.1)\u001B[0m\n",
      "\u001B[34mRequirement already satisfied: idna<4,>=2.5 in /opt/conda/lib/python3.10/site-packages (from requests->sagemaker==2.251.1->-r requirements.txt (line 1)) (3.4)\u001B[0m\n",
      "\u001B[34mRequirement already satisfied: certifi>=2017.4.17 in /opt/conda/lib/python3.10/site-packages (from requests->sagemaker==2.251.1->-r requirements.txt (line 1)) (2023.11.17)\u001B[0m\n",
      "\u001B[34mCollecting starlette<0.49.0,>=0.40.0 (from fastapi->sagemaker==2.251.1->-r requirements.txt (line 1))\n",
      "  Downloading starlette-0.48.0-py3-none-any.whl.metadata (6.3 kB)\u001B[0m\n",
      "\u001B[34mRequirement already satisfied: six in /opt/conda/lib/python3.10/site-packages (from google-pasta->sagemaker==2.251.1->-r requirements.txt (line 1)) (1.16.0)\u001B[0m\n",
      "\u001B[34mRequirement already satisfied: pytz>=2020.1 in /opt/conda/lib/python3.10/site-packages (from pandas->sagemaker==2.251.1->-r requirements.txt (line 1)) (2023.3.post1)\u001B[0m\n",
      "\u001B[34mRequirement already satisfied: tzdata>=2022.1 in /opt/conda/lib/python3.10/site-packages (from pandas->sagemaker==2.251.1->-r requirements.txt (line 1)) (2023.3)\u001B[0m\n",
      "\u001B[34mRequirement already satisfied: ppft>=1.7.6.7 in /opt/conda/lib/python3.10/site-packages (from pathos->sagemaker==2.251.1->-r requirements.txt (line 1)) (1.7.6.7)\u001B[0m\n",
      "\u001B[34mRequirement already satisfied: dill>=0.3.7 in /opt/conda/lib/python3.10/site-packages (from pathos->sagemaker==2.251.1->-r requirements.txt (line 1)) (0.3.7)\u001B[0m\n",
      "\u001B[34mRequirement already satisfied: pox>=0.3.3 in /opt/conda/lib/python3.10/site-packages (from pathos->sagemaker==2.251.1->-r requirements.txt (line 1)) (0.3.3)\u001B[0m\n",
      "\u001B[34mRequirement already satisfied: multiprocess>=0.70.15 in /opt/conda/lib/python3.10/site-packages (from pathos->sagemaker==2.251.1->-r requirements.txt (line 1)) (0.70.15)\u001B[0m\n",
      "\u001B[34mRequirement already satisfied: contextlib2>=0.5.5 in /opt/conda/lib/python3.10/site-packages (from schema->sagemaker==2.251.1->-r requirements.txt (line 1)) (21.6.0)\u001B[0m\n",
      "\u001B[34mRequirement already satisfied: click>=7.0 in /opt/conda/lib/python3.10/site-packages (from uvicorn->sagemaker==2.251.1->-r requirements.txt (line 1)) (8.1.7)\u001B[0m\n",
      "\u001B[34mCollecting h11>=0.8 (from uvicorn->sagemaker==2.251.1->-r requirements.txt (line 1))\n",
      "  Downloading h11-0.16.0-py3-none-any.whl.metadata (8.3 kB)\u001B[0m\n",
      "\u001B[34mRequirement already satisfied: annotated-types>=0.4.0 in /opt/conda/lib/python3.10/site-packages (from pydantic<3.0.0,>=2.0.0->sagemaker-core<2.0.0,>=1.0.17->sagemaker==2.251.1->-r requirements.txt (line 1)) (0.6.0)\u001B[0m\n",
      "\u001B[34mRequirement already satisfied: pydantic-core==2.14.5 in /opt/conda/lib/python3.10/site-packages (from pydantic<3.0.0,>=2.0.0->sagemaker-core<2.0.0,>=1.0.17->sagemaker==2.251.1->-r requirements.txt (line 1)) (2.14.5)\u001B[0m\n",
      "\u001B[34mRequirement already satisfied: markdown-it-py>=2.2.0 in /opt/conda/lib/python3.10/site-packages (from rich<15.0.0,>=13.0.0->sagemaker-core<2.0.0,>=1.0.17->sagemaker==2.251.1->-r requirements.txt (line 1)) (3.0.0)\u001B[0m\n",
      "\u001B[34mRequirement already satisfied: pygments<3.0.0,>=2.13.0 in /opt/conda/lib/python3.10/site-packages (from rich<15.0.0,>=13.0.0->sagemaker-core<2.0.0,>=1.0.17->sagemaker==2.251.1->-r requirements.txt (line 1)) (2.17.2)\u001B[0m\n",
      "\u001B[34mCollecting anyio<5,>=3.6.2 (from starlette<0.49.0,>=0.40.0->fastapi->sagemaker==2.251.1->-r requirements.txt (line 1))\n",
      "  Downloading anyio-4.11.0-py3-none-any.whl.metadata (4.1 kB)\u001B[0m\n",
      "\u001B[34mCollecting typing-extensions<5,>=4.7.1 (from graphene<4,>=3->sagemaker==2.251.1->-r requirements.txt (line 1))\n",
      "  Downloading typing_extensions-4.15.0-py3-none-any.whl.metadata (3.3 kB)\u001B[0m\n",
      "\u001B[34mRequirement already satisfied: exceptiongroup>=1.0.2 in /opt/conda/lib/python3.10/site-packages (from anyio<5,>=3.6.2->starlette<0.49.0,>=0.40.0->fastapi->sagemaker==2.251.1->-r requirements.txt (line 1)) (1.2.0)\u001B[0m\n",
      "\u001B[34mCollecting sniffio>=1.1 (from anyio<5,>=3.6.2->starlette<0.49.0,>=0.40.0->fastapi->sagemaker==2.251.1->-r requirements.txt (line 1))\n",
      "  Downloading sniffio-1.3.1-py3-none-any.whl.metadata (3.9 kB)\u001B[0m\n",
      "\u001B[34mRequirement already satisfied: mdurl~=0.1 in /opt/conda/lib/python3.10/site-packages (from markdown-it-py>=2.2.0->rich<15.0.0,>=13.0.0->sagemaker-core<2.0.0,>=1.0.17->sagemaker==2.251.1->-r requirements.txt (line 1)) (0.1.0)\u001B[0m\n",
      "\u001B[34mDownloading sagemaker-2.251.1-py3-none-any.whl (1.7 MB)\n",
      "   ━━━━━━━━━━━━━━━━━━━━━━━━━━━━━━━━━━━━━━━━ 1.7/1.7 MB 86.7 MB/s eta 0:00:00\u001B[0m\n",
      "\u001B[34mDownloading numpy-1.26.4-cp310-cp310-manylinux_2_17_x86_64.manylinux2014_x86_64.whl (18.2 MB)\n",
      "   ━━━━━━━━━━━━━━━━━━━━━━━━━━━━━━━━━━━━━━━━ 18.2/18.2 MB 113.6 MB/s eta 0:00:00\u001B[0m\n",
      "\u001B[34mDownloading attrs-25.4.0-py3-none-any.whl (67 kB)\n",
      "   ━━━━━━━━━━━━━━━━━━━━━━━━━━━━━━━━━━━━━━━━ 67.6/67.6 kB 13.0 MB/s eta 0:00:00\u001B[0m\n",
      "\u001B[34mDownloading boto3-1.40.49-py3-none-any.whl (139 kB)\n",
      "   ━━━━━━━━━━━━━━━━━━━━━━━━━━━━━━━━━━━━━━━━ 139.3/139.3 kB 28.3 MB/s eta 0:00:00\u001B[0m\n",
      "\u001B[34mDownloading graphene-3.4.3-py2.py3-none-any.whl (114 kB)\n",
      "   ━━━━━━━━━━━━━━━━━━━━━━━━━━━━━━━━━━━━━━━━ 114.9/114.9 kB 24.2 MB/s eta 0:00:00\u001B[0m\n",
      "\u001B[34mDownloading omegaconf-2.3.0-py3-none-any.whl (79 kB)\n",
      "   ━━━━━━━━━━━━━━━━━━━━━━━━━━━━━━━━━━━━━━━━ 79.5/79.5 kB 17.6 MB/s eta 0:00:00\u001B[0m\n",
      "\u001B[34mDownloading sagemaker_core-1.0.59-py3-none-any.whl (427 kB)\n",
      "   ━━━━━━━━━━━━━━━━━━━━━━━━━━━━━━━━━━━━━━━━ 427.9/427.9 kB 63.2 MB/s eta 0:00:00\u001B[0m\n",
      "\u001B[34mDownloading docker-7.1.0-py3-none-any.whl (147 kB)\n",
      "   ━━━━━━━━━━━━━━━━━━━━━━━━━━━━━━━━━━━━━━━━ 147.8/147.8 kB 28.9 MB/s eta 0:00:00\u001B[0m\n",
      "\u001B[34mDownloading fastapi-0.118.3-py3-none-any.whl (97 kB)\n",
      "   ━━━━━━━━━━━━━━━━━━━━━━━━━━━━━━━━━━━━━━━━ 98.0/98.0 kB 21.1 MB/s eta 0:00:00\u001B[0m\n",
      "\u001B[34mDownloading uvicorn-0.37.0-py3-none-any.whl (67 kB)\n",
      "   ━━━━━━━━━━━━━━━━━━━━━━━━━━━━━━━━━━━━━━━━ 68.0/68.0 kB 14.9 MB/s eta 0:00:00\u001B[0m\n",
      "\u001B[34mDownloading botocore-1.40.49-py3-none-any.whl (14.1 MB)\n",
      "   ━━━━━━━━━━━━━━━━━━━━━━━━━━━━━━━━━━━━━━━━ 14.1/14.1 MB 122.6 MB/s eta 0:00:00\u001B[0m\n",
      "\u001B[34mDownloading graphql_core-3.2.6-py3-none-any.whl (203 kB)\n",
      "   ━━━━━━━━━━━━━━━━━━━━━━━━━━━━━━━━━━━━━━━━ 203.4/203.4 kB 33.5 MB/s eta 0:00:00\u001B[0m\n",
      "\u001B[34mDownloading graphql_relay-3.2.0-py3-none-any.whl (16 kB)\u001B[0m\n",
      "\u001B[34mDownloading h11-0.16.0-py3-none-any.whl (37 kB)\u001B[0m\n",
      "\u001B[34mDownloading mock-4.0.3-py3-none-any.whl (28 kB)\u001B[0m\n",
      "\u001B[34mDownloading s3transfer-0.14.0-py3-none-any.whl (85 kB)\n",
      "   ━━━━━━━━━━━━━━━━━━━━━━━━━━━━━━━━━━━━━━━━ 85.7/85.7 kB 14.7 MB/s eta 0:00:00\u001B[0m\n",
      "\u001B[34mDownloading starlette-0.48.0-py3-none-any.whl (73 kB)\n",
      "   ━━━━━━━━━━━━━━━━━━━━━━━━━━━━━━━━━━━━━━━━ 73.7/73.7 kB 12.4 MB/s eta 0:00:00\u001B[0m\n",
      "\u001B[34mDownloading typing_extensions-4.15.0-py3-none-any.whl (44 kB)\n",
      "   ━━━━━━━━━━━━━━━━━━━━━━━━━━━━━━━━━━━━━━━━ 44.6/44.6 kB 6.3 MB/s eta 0:00:00\u001B[0m\n",
      "\u001B[34mDownloading anyio-4.11.0-py3-none-any.whl (109 kB)\n",
      "   ━━━━━━━━━━━━━━━━━━━━━━━━━━━━━━━━━━━━━━━━ 109.1/109.1 kB 14.5 MB/s eta 0:00:00\u001B[0m\n",
      "\u001B[34mDownloading sniffio-1.3.1-py3-none-any.whl (10 kB)\u001B[0m\n",
      "\u001B[34mBuilding wheels for collected packages: antlr4-python3-runtime\n",
      "  Building wheel for antlr4-python3-runtime (setup.py): started\u001B[0m\n",
      "\u001B[34m  Building wheel for antlr4-python3-runtime (setup.py): finished with status 'done'\n",
      "  Created wheel for antlr4-python3-runtime: filename=antlr4_python3_runtime-4.9.3-py3-none-any.whl size=144554 sha256=7d23b58301787a8df73a71f1ad4f1ce8cfd0357cb58f8d706044791a4584d52d\n",
      "  Stored in directory: /root/.cache/pip/wheels/12/93/dd/1f6a127edc45659556564c5730f6d4e300888f4bca2d4c5a88\u001B[0m\n",
      "\u001B[34mSuccessfully built antlr4-python3-runtime\u001B[0m\n",
      "\u001B[34mInstalling collected packages: antlr4-python3-runtime, typing-extensions, sniffio, omegaconf, numpy, mock, h11, graphql-core, attrs, uvicorn, graphql-relay, docker, botocore, anyio, starlette, s3transfer, graphene, fastapi, boto3, sagemaker-core, sagemaker\u001B[0m\n",
      "\u001B[34m  Attempting uninstall: typing-extensions\n",
      "    Found existing installation: typing_extensions 4.8.0\n",
      "    Uninstalling typing_extensions-4.8.0:\n",
      "      Successfully uninstalled typing_extensions-4.8.0\n",
      "  Attempting uninstall: numpy\n",
      "    Found existing installation: numpy 1.26.2\n",
      "    Uninstalling numpy-1.26.2:\n",
      "      Successfully uninstalled numpy-1.26.2\u001B[0m\n",
      "\u001B[34m  Attempting uninstall: attrs\n",
      "    Found existing installation: attrs 23.1.0\n",
      "    Uninstalling attrs-23.1.0:\n",
      "      Successfully uninstalled attrs-23.1.0\n",
      "  Attempting uninstall: botocore\n",
      "    Found existing installation: botocore 1.32.7\n",
      "    Uninstalling botocore-1.32.7:\n",
      "      Successfully uninstalled botocore-1.32.7\u001B[0m\n",
      "\u001B[34m  Attempting uninstall: s3transfer\n",
      "    Found existing installation: s3transfer 0.8.0\n",
      "    Uninstalling s3transfer-0.8.0:\n",
      "      Successfully uninstalled s3transfer-0.8.0\n",
      "  Attempting uninstall: boto3\n",
      "    Found existing installation: boto3 1.29.7\n",
      "    Uninstalling boto3-1.29.7:\n",
      "      Successfully uninstalled boto3-1.29.7\u001B[0m\n",
      "\u001B[34m  Attempting uninstall: sagemaker\n",
      "    Found existing installation: sagemaker 2.198.0\n",
      "    Uninstalling sagemaker-2.198.0:\n",
      "      Successfully uninstalled sagemaker-2.198.0\u001B[0m\n",
      "\u001B[34mERROR: pip's dependency resolver does not currently take into account all the packages that are installed. This behaviour is the source of the following dependency conflicts.\u001B[0m\n",
      "\u001B[34mawscli 1.30.7 requires botocore==1.32.7, but you have botocore 1.40.49 which is incompatible.\u001B[0m\n",
      "\u001B[34mawscli 1.30.7 requires s3transfer<0.9.0,>=0.8.0, but you have s3transfer 0.14.0 which is incompatible.\u001B[0m\n",
      "\u001B[34mSuccessfully installed antlr4-python3-runtime-4.9.3 anyio-4.11.0 attrs-25.4.0 boto3-1.40.49 botocore-1.40.49 docker-7.1.0 fastapi-0.118.3 graphene-3.4.3 graphql-core-3.2.6 graphql-relay-3.2.0 h11-0.16.0 mock-4.0.3 numpy-1.26.4 omegaconf-2.3.0 s3transfer-0.14.0 sagemaker-2.251.1 sagemaker-core-1.0.59 sniffio-1.3.1 starlette-0.48.0 typing-extensions-4.15.0 uvicorn-0.37.0\u001B[0m\n",
      "\u001B[34mWARNING: Running pip as the 'root' user can result in broken permissions and conflicting behaviour with the system package manager. It is recommended to use a virtual environment instead: https://pip.pypa.io/warnings/venv\u001B[0m\n",
      "\u001B[34m[notice] A new release of pip is available: 23.3.1 -> 25.2\u001B[0m\n",
      "\u001B[34m[notice] To update, run: pip install --upgrade pip\u001B[0m\n",
      "\u001B[34m=== ALL ENVIRONMENT VARIABLES ===\u001B[0m\n",
      "\u001B[34mPYTHONUNBUFFERED: 1\u001B[0m\n",
      "\u001B[34mAWS_CONTAINER_CREDENTIALS_RELATIVE_URI: /v2/credentials/proxy-28ec517bc598d2eb5f225a398bb0a46262af5ee0d335ebe910437ab6eed13fbe-customer\u001B[0m\n",
      "\u001B[34mSAGEMAKER_TRAINING_MODULE: sagemaker_pytorch_container.training:main\u001B[0m\n",
      "\u001B[34mHOSTNAME: ip-10-0-128-102.eu-central-1.compute.internal\u001B[0m\n",
      "\u001B[34mAWS_REGION: eu-central-1\u001B[0m\n",
      "\u001B[34mPWD: /opt/ml/processing/input/code\u001B[0m\n",
      "\u001B[34mSAGEMAKER_MANAGED_WARMPOOL_CACHE_DIRECTORY: /opt/ml/sagemaker/warmpoolcache\u001B[0m\n",
      "\u001B[34mHOME: /root\u001B[0m\n",
      "\u001B[34mLANG: C.UTF-8\u001B[0m\n",
      "\u001B[34mDMLC_INTERFACE: eth0\u001B[0m\n",
      "\u001B[34mDGLBACKEND: pytorch\u001B[0m\n",
      "\u001B[34mPYTHONIOENCODING: UTF-8\u001B[0m\n",
      "\u001B[34mSHLVL: 1\u001B[0m\n",
      "\u001B[34mPYTHONDONTWRITEBYTECODE: 1\u001B[0m\n",
      "\u001B[34mLD_LIBRARY_PATH: /home/.openmpi/lib/:/opt/conda/lib:/usr/local/lib:/usr/local/lib\u001B[0m\n",
      "\u001B[34mREQUESTS_CA_BUNDLE: /etc/ssl/certs/ca-certificates.crt\u001B[0m\n",
      "\u001B[34mLC_ALL: C.UTF-8\u001B[0m\n",
      "\u001B[34mPATH: /home/.openmpi/bin:/opt/conda/bin:/usr/local/sbin:/usr/local/bin:/usr/sbin:/usr/bin:/sbin:/bin\u001B[0m\n",
      "\u001B[34mDEBIAN_FRONTEND: noninteractive\u001B[0m\n",
      "\u001B[34mOLDPWD: /\u001B[0m\n",
      "\u001B[34mDLC_CONTAINER_TYPE: training\u001B[0m\n",
      "\u001B[34m_: /opt/conda/bin/python\u001B[0m\n",
      "\u001B[34mKMP_DUPLICATE_LIB_OK: True\u001B[0m\n",
      "\u001B[34mKMP_INIT_AT_FORK: FALSE\u001B[0m\n",
      "\u001B[34m=== PROGRAM EXECUTION ===\u001B[0m\n",
      "\u001B[34mScript name: preprocessing.py\u001B[0m\n",
      "\u001B[34mArguments: ['--train-test-split', '0.33']\u001B[0m\n",
      "\u001B[34m✅ sagemaker version: 2.251.1\u001B[0m\n",
      "\n",
      "✅ PyTorch Processing job completed: customer-churn-pytorch-processing-2025-10-10T11-04-12\n"
     ]
    }
   ],
   "execution_count": 16
  },
  {
   "metadata": {
    "ExecuteTime": {
     "end_time": "2025-10-10T11:09:39.810390Z",
     "start_time": "2025-10-10T11:09:39.563668Z"
    }
   },
   "cell_type": "code",
   "source": "print(f\"Output location of processing job: {output_s3_uri}/{job_name}\")",
   "outputs": [
    {
     "name": "stdout",
     "output_type": "stream",
     "text": [
      "Output location of processing job: s3://sagemaker-eu-central-1-136548476532/preprocessing_sdk/2025-10-10T11-01-47/customer-churn-2025-10-10T11-01-47/jobs/customer-churn-pytorch-processing-2025-10-10T11-04-12\n"
     ]
    }
   ],
   "execution_count": 17
  },
  {
   "cell_type": "markdown",
   "metadata": {},
   "source": "## Key Features of PyTorchProcessor\n\n### Advantages Over sagemaker-core ProcessingJob:\n\n1. **Modern Framework Integration**\n   - Optimized for PyTorch-based workflows\n   - Uses latest PyTorch container images (2.0+)\n   - Better compatibility with modern ML libraries and tools\n\n2. **Automatic Dependency Management**\n   - `source_dir` automatically uploads `requirements.txt`\n   - Dependencies installed in container automatically\n   - No manual container configuration needed\n\n3. **Built-in Convenience Features**\n   - `wait=True`: Automatic blocking until completion\n   - `logs=True`: Stream logs directly to notebook\n   - Cleaner API with less boilerplate\n\n4. **SDK Ecosystem Integration**\n   - Works seamlessly with other SDK components\n   - Can be used with PipelineSession for pipelines\n   - Integrates with SageMaker Experiments\n\n### When to Use PyTorchProcessor:\n\n✅ **Use PyTorchProcessor when:**\n- Building modern ML workflows with PyTorch ecosystem\n- Need automatic dependency installation\n- Want simpler, higher-level API\n- Building SageMaker Pipelines (next lab!)\n\n✅ **Use sagemaker-core ProcessingJob when:**\n- Need fine-grained control over all parameters\n- Using custom containers\n- Learning the underlying SageMaker APIs\n- Building custom processing abstractions"
  }
 ],
 "metadata": {
  "kernelspec": {
   "display_name": "Python 3",
   "language": "python",
   "name": "python3"
  },
  "language_info": {
   "codemirror_mode": {
    "name": "ipython",
    "version": 3
   },
   "file_extension": ".py",
   "mimetype": "text/x-python",
   "name": "python",
   "nbconvert_exporter": "python",
   "pygments_lexer": "ipython3",
   "version": "3.9.0"
  }
 },
 "nbformat": 4,
 "nbformat_minor": 4
}
