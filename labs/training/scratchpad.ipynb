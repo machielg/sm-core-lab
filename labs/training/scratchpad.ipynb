{
 "cells": [
  {
   "cell_type": "code",
   "id": "initial_id",
   "metadata": {
    "collapsed": true,
    "ExecuteTime": {
     "end_time": "2025-09-10T10:15:26.904234Z",
     "start_time": "2025-09-10T10:15:24.436923Z"
    }
   },
   "source": [
    "from sagemaker import image_uris\n",
    "from corelab.core.session import CoreLabSession\n",
    "\n",
    "session = CoreLabSession('sagemaker-distribution', 'draft', aws_profile='sagemaker-role')\n",
    "session.retrieve_image('3.3')\n",
    "# image_uris.retrieve(\n",
    "#             framework='datascience',\n",
    "#             region='eu-central-1',\n",
    "#             version='foo',\n",
    "#             py_version=\"py3\",  # only for some frameworks\n",
    "#             instance_type='ml.m5.large',\n",
    "#             sagemaker_session=self.core_session\n",
    "#         )"
   ],
   "outputs": [
    {
     "name": "stdout",
     "output_type": "stream",
     "text": [
      "execution role available: arn:aws:iam::136548476532:role/service-role/AmazonSageMaker-ExecutionRole-20250902T164316\n"
     ]
    },
    {
     "data": {
      "text/plain": [
       "'545423591354.dkr.ecr.eu-central-1.amazonaws.com/sagemaker-distribution-prod:3.2.0-cpu'"
      ]
     },
     "execution_count": 4,
     "metadata": {},
     "output_type": "execute_result"
    }
   ],
   "execution_count": 4
  },
  {
   "metadata": {
    "ExecuteTime": {
     "end_time": "2025-09-10T12:29:05.271710Z",
     "start_time": "2025-09-10T12:29:05.164868Z"
    }
   },
   "cell_type": "code",
   "source": [
    "import boto3\n",
    "import re\n",
    "import os\n",
    "os.environ['AWS_PROFILE'] = 'machiel-crystalline'\n",
    "def find_python310_images(region='eu-central-1'):\n",
    "    \"\"\"Find all training images with Python 3.10+\"\"\"\n",
    "\n",
    "    ecr = boto3.client('ecr', region_name=region)\n",
    "    registry_id = '545423591354'  # AWS Deep Learning Containers\n",
    "\n",
    "    try:\n",
    "        # List all repositories\n",
    "        repos = ecr.describe_repositories(\n",
    "            registryId=registry_id,\n",
    "            maxResults=100\n",
    "        )\n",
    "\n",
    "        py310_images = []\n",
    "\n",
    "        for repo in repos['repositories']:\n",
    "            repo_name = repo['repositoryName']\n",
    "\n",
    "            # Only look at training images\n",
    "            if 'training' not in repo_name:\n",
    "                continue\n",
    "\n",
    "            # Get image tags\n",
    "            try:\n",
    "                images = ecr.list_images(\n",
    "                    registryId=registry_id,\n",
    "                    repositoryName=repo_name,\n",
    "                    maxResults=100\n",
    "                )\n",
    "\n",
    "                for image in images.get('imageIds', []):\n",
    "                    tag = image.get('imageTag', '')\n",
    "                    # Look for py310, py311, py312 tags\n",
    "                    if re.search(r'py31[0-2]', tag) and 'cpu' in tag:\n",
    "                        full_uri = f\"{registry_id}.dkr.ecr.{region}.amazonaws.com/{repo_name}:{tag}\"\n",
    "                        py310_images.append({\n",
    "                            'framework': repo_name.replace('-training', ''),\n",
    "                            'tag': tag,\n",
    "                            'uri': full_uri\n",
    "                        })\n",
    "\n",
    "            except Exception as e:\n",
    "                continue\n",
    "\n",
    "        # Sort and display\n",
    "        py310_images.sort(key=lambda x: (x['framework'], x['tag']))\n",
    "\n",
    "        print(\"Images with Python 3.10+:\")\n",
    "        for img in py310_images[:20]:  # Show first 20\n",
    "            print(f\"\\n{img['framework']}:\")\n",
    "            print(f\"  Tag: {img['tag']}\")\n",
    "            print(f\"  URI: {img['uri']}\")\n",
    "\n",
    "        return py310_images\n",
    "\n",
    "    except Exception as e:\n",
    "        print(f\"Error: {e}\")\n",
    "        return []\n",
    "\n",
    "# Run discovery\n",
    "images = find_python310_images()"
   ],
   "id": "7448000e644da39c",
   "outputs": [
    {
     "name": "stdout",
     "output_type": "stream",
     "text": [
      "Error: An error occurred (AccessDeniedException) when calling the DescribeRepositories operation: User: arn:aws:iam::136548476532:user/machiel-crystalline is not authorized to perform: ecr:DescribeRepositories on resource: arn:aws:ecr:eu-central-1:545423591354:repository/* because no resource-based policy allows the ecr:DescribeRepositories action\n"
     ]
    }
   ],
   "execution_count": 3
  },
  {
   "metadata": {},
   "cell_type": "code",
   "outputs": [],
   "execution_count": null,
   "source": "",
   "id": "b50a01d74990c8bc"
  }
 ],
 "metadata": {
  "kernelspec": {
   "display_name": "Python 3",
   "language": "python",
   "name": "python3"
  },
  "language_info": {
   "codemirror_mode": {
    "name": "ipython",
    "version": 2
   },
   "file_extension": ".py",
   "mimetype": "text/x-python",
   "name": "python",
   "nbconvert_exporter": "python",
   "pygments_lexer": "ipython2",
   "version": "2.7.6"
  }
 },
 "nbformat": 4,
 "nbformat_minor": 5
}
