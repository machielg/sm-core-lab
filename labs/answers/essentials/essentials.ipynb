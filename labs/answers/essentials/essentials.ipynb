{
 "cells": [
  {
   "cell_type": "markdown",
   "id": "91967cf2-a71c-41a2-8d1b-c26c0c1ba7a1",
   "metadata": {},
   "source": [
    "## Install SageMaker core"
   ]
  },
  {
   "cell_type": "markdown",
   "id": "fb8687b7-e255-4913-a89c-315c9f6c6ffc",
   "metadata": {},
   "source": [
    "This notebook assumes a virtual environment containing sagemaker-core. In SageMaker studio start a terminal and run `uv pip install -e .` from the git project root:\n",
    "```\n",
    "sagemaker-user@default:~/sm-core-lab/uv pip install -e .\n",
    "```"
   ]
  },
  {
   "cell_type": "code",
   "id": "dfc4c824-297f-43dd-96ec-6d783a78d041",
   "metadata": {
    "ExecuteTime": {
     "end_time": "2025-09-11T09:39:29.087636Z",
     "start_time": "2025-09-11T09:39:28.960864Z"
    }
   },
   "source": [
    "%load_ext autoreload\n",
    "%autoreload 2"
   ],
   "outputs": [],
   "execution_count": 1
  },
  {
   "cell_type": "code",
   "id": "5c5ef401-5e78-4aea-9134-7acecb4970e9",
   "metadata": {
    "ExecuteTime": {
     "end_time": "2025-09-11T09:39:29.630142Z",
     "start_time": "2025-09-11T09:39:29.618054Z"
    }
   },
   "source": [
    "DEFAULT_INSTANCE = \"ml.m5.large\""
   ],
   "outputs": [],
   "execution_count": 2
  },
  {
   "cell_type": "code",
   "id": "f93bc9e4-9bc3-43e0-80cf-54cdd2932686",
   "metadata": {
    "ExecuteTime": {
     "end_time": "2025-09-11T09:39:52.707525Z",
     "start_time": "2025-09-11T09:39:50.475590Z"
    }
   },
   "source": [
    "from corelab.core.session import CoreLabSession\n",
    "lab_session = CoreLabSession('xgboost', 'customer-churn', default_folder='core_notebook', create_run_folder=True, aws_profile='sagemaker-role')\n",
    "lab_session.print()\n",
    "core_session = lab_session.core_session"
   ],
   "outputs": [
    {
     "name": "stderr",
     "output_type": "stream",
     "text": [
      "Couldn't call 'get_role' to get Role ARN from role name machiel-crystalline to get Role path.\n"
     ]
    },
    {
     "name": "stdout",
     "output_type": "stream",
     "text": [
      "falling back to profile: sagemaker-role\n",
      "AWS region: eu-central-1\n",
      "Execution role arn:aws:iam::136548476532:role/service-role/AmazonSageMaker-ExecutionRole-20250902T164316\n",
      "Output bucket uri: s3://sagemaker-eu-central-1-136548476532/core_notebook/2025-09-11T09-39-50\n",
      "Framework: xgboost\n",
      "Project name: customer-churn\n"
     ]
    }
   ],
   "execution_count": 4
  },
  {
   "cell_type": "code",
   "id": "bb2b61e9-fbf7-48be-bbe9-19a18018ba22",
   "metadata": {
    "ExecuteTime": {
     "end_time": "2025-09-11T09:42:55.804553Z",
     "start_time": "2025-09-11T09:42:52.702139Z"
    }
   },
   "source": [
    "from sklearn.model_selection import train_test_split\n",
    "from io import StringIO\n",
    "import pandas as pd\n",
    "\n",
    "data = core_session.read_s3_file(f\"sagemaker-example-files-prod-{lab_session.region}\", \"datasets/tabular/synthetic/churn.txt\")\n",
    "\n",
    "df = pd.read_csv(StringIO(data))\n",
    "\n",
    "# Phone number is unique - will not add value to classifier\n",
    "df = df.drop(\"Phone\", axis=1)\n",
    "\n",
    "# Cast Area Code to non-numeric\n",
    "df[\"Area Code\"] = df[\"Area Code\"].astype(object)\n",
    "\n",
    "# Remove one feature from highly corelated pairs\n",
    "df = df.drop([\"Day Charge\", \"Eve Charge\", \"Night Charge\", \"Intl Charge\"], axis=1)\n",
    "\n",
    "# One-hot encode catagorical features into numeric features\n",
    "model_data = pd.get_dummies(df)\n",
    "model_data = pd.concat(\n",
    "    [\n",
    "        model_data[\"Churn?_True.\"],\n",
    "        model_data.drop([\"Churn?_False.\", \"Churn?_True.\"], axis=1),\n",
    "    ],\n",
    "    axis=1,\n",
    ")\n",
    "model_data = model_data.astype(float)\n",
    "\n",
    "# Split data into train and validation datasets\n",
    "train_data, validation_data = train_test_split(model_data, test_size=0.33, random_state=42)\n",
    "\n",
    "# Further split the validation dataset into test and validation datasets.\n",
    "validation_data, test_data = train_test_split(validation_data, test_size=0.33, random_state=42)\n",
    "\n",
    "# Remove and store the target column for the test data. This is used for calculating performance metrics after training, on unseen data.\n",
    "test_target_column = test_data[\"Churn?_True.\"]\n",
    "test_data.drop([\"Churn?_True.\"], axis=1, inplace=True)\n",
    "\n",
    "# Store all datasets locally\n",
    "train_data.to_csv(\"train.csv\", header=False, index=False)\n",
    "validation_data.to_csv(\"validation.csv\", header=False, index=False)\n",
    "test_data.to_csv(\"test.csv\", header=False, index=False)\n",
    "\n",
    "# Upload each dataset to S3\n",
    "s3_train_input = core_session.upload_data(\"train.csv\")\n",
    "s3_validation_input = core_session.upload_data(\"validation.csv\")\n",
    "s3_test_input = core_session.upload_data(\"test.csv\")\n",
    "\n",
    "print(\"Datasets uploaded to:\")\n",
    "print(s3_train_input)\n",
    "print(s3_validation_input)\n",
    "print(s3_test_input)"
   ],
   "outputs": [
    {
     "name": "stdout",
     "output_type": "stream",
     "text": [
      "Datasets uploaded to:\n",
      "s3://sagemaker-eu-central-1-136548476532/core_notebook/2025-09-11T09-39-50/data/train.csv\n",
      "s3://sagemaker-eu-central-1-136548476532/core_notebook/2025-09-11T09-39-50/data/validation.csv\n",
      "s3://sagemaker-eu-central-1-136548476532/core_notebook/2025-09-11T09-39-50/data/test.csv\n"
     ]
    }
   ],
   "execution_count": 5
  },
  {
   "cell_type": "code",
   "id": "2f2c4e6b-2ce8-46ec-9ff1-66a4797e6f3b",
   "metadata": {
    "ExecuteTime": {
     "end_time": "2025-09-11T09:43:02.934662Z",
     "start_time": "2025-09-11T09:43:02.877028Z"
    }
   },
   "source": [
    "image = lab_session.retrieve_image('1.7-1')\n",
    "print(\"Using image:\", image)"
   ],
   "outputs": [
    {
     "data": {
      "text/plain": [
       "'492215442770.dkr.ecr.eu-central-1.amazonaws.com/sagemaker-xgboost:1.7-1'"
      ]
     },
     "execution_count": 6,
     "metadata": {},
     "output_type": "execute_result"
    }
   ],
   "execution_count": 6
  },
  {
   "cell_type": "markdown",
   "id": "385fcd27-5435-41dd-b36c-b6005cdc9b7e",
   "metadata": {},
   "source": [
    "## Generic shapes for Training and Tuning jobs"
   ]
  },
  {
   "metadata": {},
   "cell_type": "markdown",
   "source": "Set up configuration for training and tuning jobs",
   "id": "4dd6104947a5034"
  },
  {
   "cell_type": "code",
   "id": "9f1ecc31-1583-4eaa-a1dc-9726823a3d1e",
   "metadata": {
    "ExecuteTime": {
     "end_time": "2025-09-11T09:44:30.866267Z",
     "start_time": "2025-09-11T09:44:30.832003Z"
    }
   },
   "source": [
    "from sagemaker_core.shapes import AlgorithmSpecification, OutputDataConfig, DataSource, S3DataSource, Channel, ResourceConfig\n",
    "\n",
    "algorithm_spec = AlgorithmSpecification(training_image=image, training_input_mode=\"File\")\n",
    "\n",
    "channel_train = Channel(\n",
    "            channel_name=\"train\",\n",
    "            content_type=\"csv\",\n",
    "            data_source=DataSource(\n",
    "                s3_data_source=S3DataSource(\n",
    "                    s3_data_type=\"S3Prefix\",\n",
    "                    s3_uri=s3_train_input,\n",
    "                    s3_data_distribution_type=\"FullyReplicated\")))\n",
    "\n",
    "channel_validation = Channel(\n",
    "            channel_name=\"validation\",\n",
    "            content_type=\"csv\",\n",
    "            data_source=DataSource(\n",
    "                s3_data_source=S3DataSource(\n",
    "                    s3_data_type=\"S3Prefix\",\n",
    "                    s3_uri=s3_validation_input,\n",
    "                    s3_data_distribution_type=\"FullyReplicated\")))\n",
    "\n",
    "output_data_config = OutputDataConfig(s3_output_path=lab_session.jobs_output_s3_uri)\n",
    "\n",
    "training_instance_config = ResourceConfig(instance_type=DEFAULT_INSTANCE, instance_count=1, volume_size_in_gb=30) # keep_alive_period_in_seconds=60*60"
   ],
   "outputs": [],
   "execution_count": 8
  },
  {
   "metadata": {
    "ExecuteTime": {
     "end_time": "2025-09-11T09:48:07.689559Z",
     "start_time": "2025-09-11T09:44:54.038447Z"
    }
   },
   "cell_type": "code",
   "source": [
    "import time\n",
    "from sagemaker_core.resources import TrainingJob\n",
    "from sagemaker_core.shapes import StoppingCondition\n",
    "\n",
    "# Specify hyperparameters\n",
    "HYPER_PARAMS = {\n",
    "    \"max_depth\": \"5\",\n",
    "    \"eta\": \"0.2\",\n",
    "    \"gamma\": \"4\",\n",
    "    \"min_child_weight\": \"6\",\n",
    "    \"subsample\": \"0.8\",\n",
    "    \"verbosity\": \"0\",\n",
    "    \"objective\": \"binary:logistic\",\n",
    "    \"num_round\": \"100\",\n",
    "}\n",
    "\n",
    "# Create training job.\n",
    "training_job = TrainingJob.create(\n",
    "    training_job_name=lab_session.training_job_name,\n",
    "    hyper_parameters=HYPER_PARAMS,\n",
    "    algorithm_specification=algorithm_spec,\n",
    "    role_arn=lab_session.role,\n",
    "    input_data_config=[\n",
    "        channel_train,\n",
    "        channel_validation\n",
    "    ],\n",
    "    output_data_config=output_data_config,\n",
    "    resource_config=training_instance_config,\n",
    "    stopping_condition=StoppingCondition(max_runtime_in_seconds=600),\n",
    "    session=lab_session.core_session.boto_session,\n",
    "    region=lab_session.region\n",
    ")\n",
    "\n",
    "# Wait for the training job to complete\n",
    "training_job.wait()"
   ],
   "id": "da54f64492abf21f",
   "outputs": [
    {
     "data": {
      "text/plain": [
       "\u001B[2;36m[09/11/25 11:44:54]\u001B[0m\u001B[2;36m \u001B[0m\u001B[1;38;2;0;105;255mINFO    \u001B[0m Creating training_job resource.                                     \u001B]8;id=281059;file:///Users/machiel/Development/crystalline/sagemaker/corelab/.venv/lib/python3.13/site-packages/sagemaker_core/main/resources.py\u001B\\\u001B[2mresources.py\u001B[0m\u001B]8;;\u001B\\\u001B[2m:\u001B[0m\u001B]8;id=769290;file:///Users/machiel/Development/crystalline/sagemaker/corelab/.venv/lib/python3.13/site-packages/sagemaker_core/main/resources.py#28507\u001B\\\u001B[2m28507\u001B[0m\u001B]8;;\u001B\\\n"
      ],
      "text/html": [
       "<pre style=\"white-space:pre;overflow-x:auto;line-height:normal;font-family:Menlo,'DejaVu Sans Mono',consolas,'Courier New',monospace\"><span style=\"color: #7fbfbf; text-decoration-color: #7fbfbf\">[09/11/25 11:44:54] </span><span style=\"color: #0069ff; text-decoration-color: #0069ff; font-weight: bold\">INFO    </span> Creating training_job resource.                                     <a href=\"file:///Users/machiel/Development/crystalline/sagemaker/corelab/.venv/lib/python3.13/site-packages/sagemaker_core/main/resources.py\" target=\"_blank\"><span style=\"color: #7f7f7f; text-decoration-color: #7f7f7f\">resources.py</span></a><span style=\"color: #7f7f7f; text-decoration-color: #7f7f7f\">:</span><a href=\"file:///Users/machiel/Development/crystalline/sagemaker/corelab/.venv/lib/python3.13/site-packages/sagemaker_core/main/resources.py#28507\" target=\"_blank\"><span style=\"color: #7f7f7f; text-decoration-color: #7f7f7f\">28507</span></a>\n",
       "</pre>\n"
      ]
     },
     "metadata": {},
     "output_type": "display_data",
     "jetTransient": {
      "display_id": null
     }
    },
    {
     "data": {
      "text/plain": [
       "\u001B[2;36m[09/11/25 11:44:54]\u001B[0m\u001B[2;36m \u001B[0m\u001B[1;38;2;215;175;0mWARNING \u001B[0m No config provided. Using default config.                                 \u001B]8;id=227578;file:///Users/machiel/Development/crystalline/sagemaker/corelab/.venv/lib/python3.13/site-packages/sagemaker_core/main/utils.py\u001B\\\u001B[2mutils.py\u001B[0m\u001B]8;;\u001B\\\u001B[2m:\u001B[0m\u001B]8;id=765593;file:///Users/machiel/Development/crystalline/sagemaker/corelab/.venv/lib/python3.13/site-packages/sagemaker_core/main/utils.py#347\u001B\\\u001B[2m347\u001B[0m\u001B]8;;\u001B\\\n"
      ],
      "text/html": [
       "<pre style=\"white-space:pre;overflow-x:auto;line-height:normal;font-family:Menlo,'DejaVu Sans Mono',consolas,'Courier New',monospace\"><span style=\"color: #7fbfbf; text-decoration-color: #7fbfbf\">[09/11/25 11:44:54] </span><span style=\"color: #d7af00; text-decoration-color: #d7af00; font-weight: bold\">WARNING </span> No config provided. Using default config.                                 <a href=\"file:///Users/machiel/Development/crystalline/sagemaker/corelab/.venv/lib/python3.13/site-packages/sagemaker_core/main/utils.py\" target=\"_blank\"><span style=\"color: #7f7f7f; text-decoration-color: #7f7f7f\">utils.py</span></a><span style=\"color: #7f7f7f; text-decoration-color: #7f7f7f\">:</span><a href=\"file:///Users/machiel/Development/crystalline/sagemaker/corelab/.venv/lib/python3.13/site-packages/sagemaker_core/main/utils.py#347\" target=\"_blank\"><span style=\"color: #7f7f7f; text-decoration-color: #7f7f7f\">347</span></a>\n",
       "</pre>\n"
      ]
     },
     "metadata": {},
     "output_type": "display_data",
     "jetTransient": {
      "display_id": null
     }
    },
    {
     "data": {
      "text/plain": [
       "Output()"
      ],
      "application/vnd.jupyter.widget-view+json": {
       "version_major": 2,
       "version_minor": 0,
       "model_id": "a720ec5affa6472abbe380ae4b40e038"
      }
     },
     "metadata": {},
     "output_type": "display_data",
     "jetTransient": {
      "display_id": null
     }
    },
    {
     "data": {
      "text/plain": [
       "\u001B[2;36m[09/11/25 11:48:07]\u001B[0m\u001B[2;36m \u001B[0m\u001B[1;38;2;0;105;255mINFO    \u001B[0m Final Resource Status: \u001B[1mCompleted\u001B[0m                                    \u001B]8;id=103853;file:///Users/machiel/Development/crystalline/sagemaker/corelab/.venv/lib/python3.13/site-packages/sagemaker_core/main/resources.py\u001B\\\u001B[2mresources.py\u001B[0m\u001B]8;;\u001B\\\u001B[2m:\u001B[0m\u001B]8;id=399942;file:///Users/machiel/Development/crystalline/sagemaker/corelab/.venv/lib/python3.13/site-packages/sagemaker_core/main/resources.py#28795\u001B\\\u001B[2m28795\u001B[0m\u001B]8;;\u001B\\\n"
      ],
      "text/html": [
       "<pre style=\"white-space:pre;overflow-x:auto;line-height:normal;font-family:Menlo,'DejaVu Sans Mono',consolas,'Courier New',monospace\"><span style=\"color: #7fbfbf; text-decoration-color: #7fbfbf\">[09/11/25 11:48:07] </span><span style=\"color: #0069ff; text-decoration-color: #0069ff; font-weight: bold\">INFO    </span> Final Resource Status: <span style=\"font-weight: bold\">Completed</span>                                    <a href=\"file:///Users/machiel/Development/crystalline/sagemaker/corelab/.venv/lib/python3.13/site-packages/sagemaker_core/main/resources.py\" target=\"_blank\"><span style=\"color: #7f7f7f; text-decoration-color: #7f7f7f\">resources.py</span></a><span style=\"color: #7f7f7f; text-decoration-color: #7f7f7f\">:</span><a href=\"file:///Users/machiel/Development/crystalline/sagemaker/corelab/.venv/lib/python3.13/site-packages/sagemaker_core/main/resources.py#28795\" target=\"_blank\"><span style=\"color: #7f7f7f; text-decoration-color: #7f7f7f\">28795</span></a>\n",
       "</pre>\n"
      ]
     },
     "metadata": {},
     "output_type": "display_data",
     "jetTransient": {
      "display_id": null
     }
    },
    {
     "data": {
      "text/plain": [],
      "text/html": [
       "<pre style=\"white-space:pre;overflow-x:auto;line-height:normal;font-family:Menlo,'DejaVu Sans Mono',consolas,'Courier New',monospace\"></pre>\n"
      ]
     },
     "metadata": {},
     "output_type": "display_data",
     "jetTransient": {
      "display_id": null
     }
    }
   ],
   "execution_count": 10
  },
  {
   "metadata": {},
   "cell_type": "code",
   "source": [
    "print(\"Model artifacts:\", training_job.model_artifacts.s3_model_artifacts)\n",
    "print(\"Training job ARN:\", training_job.training_job_arn)"
   ],
   "id": "a963c0a1795ebd2e",
   "outputs": [],
   "execution_count": null
  },
  {
   "cell_type": "markdown",
   "id": "71a86a73-d535-42aa-985d-c1e6056efd3c",
   "metadata": {},
   "source": [
    "## Hyper Paramater Tuning"
   ]
  },
  {
   "cell_type": "code",
   "id": "ebc5b3ae-44de-4e96-bdac-307069243dbb",
   "metadata": {},
   "source": [
    "from sagemaker_core.resources import HyperParameterTuningJob\n",
    "from sagemaker_core.shapes import (\n",
    "    HyperParameterTuningJobConfig,\n",
    "    ResourceLimits,\n",
    "    ParameterRanges,\n",
    "    AutoParameter,\n",
    "    Autotune,\n",
    "    HyperParameterTrainingJobDefinition,\n",
    "    HyperParameterTuningJobObjective,\n",
    "    HyperParameterAlgorithmSpecification,\n",
    "    StoppingCondition,\n",
    ")\n",
    "\n",
    "algo_spec = HyperParameterAlgorithmSpecification(training_image=image, training_input_mode=\"File\")\n",
    "\n",
    "# Create HyperParameterTrainingJobDefinition object, setting the core training job  \n",
    "hyper_parameter_training_job_defintion = HyperParameterTrainingJobDefinition(\n",
    "    role_arn=lab_session.role,\n",
    "    algorithm_specification=algo_spec,\n",
    "    input_data_config=[\n",
    "        channel_train,\n",
    "        channel_validation\n",
    "    ],\n",
    "    output_data_config=output_data_config,\n",
    "    stopping_condition=StoppingCondition(max_runtime_in_seconds=900),  # per job timout\n",
    "    resource_config=training_instance_config\n",
    ")\n",
    "\n",
    "# Create HyperParameterTrainingJobDefinition object, setting the tuning strategy\n",
    "tuning_job_config = HyperParameterTuningJobConfig(\n",
    "    strategy=\"Bayesian\",\n",
    "    hyper_parameter_tuning_job_objective=HyperParameterTuningJobObjective(\n",
    "        type=\"Maximize\", metric_name=\"validation:auc\"\n",
    "    ),\n",
    "    resource_limits=ResourceLimits(\n",
    "        max_number_of_training_jobs=10,\n",
    "        max_parallel_training_jobs=5,\n",
    "        max_runtime_in_seconds=3600,  # total timeout\n",
    "    ),\n",
    "    training_job_early_stopping_type=\"Auto\",\n",
    "    parameter_ranges=ParameterRanges(\n",
    "        auto_parameters=[\n",
    "            AutoParameter(name=\"max_depth\", value_hint=\"5\"),\n",
    "            AutoParameter(name=\"eta\", value_hint=\"0.1\"),\n",
    "            AutoParameter(name=\"gamma\", value_hint=\"8\"),\n",
    "            AutoParameter(name=\"min_child_weight\", value_hint=\"2\"),\n",
    "            AutoParameter(name=\"subsample\", value_hint=\"0.5\"),\n",
    "            AutoParameter(name=\"num_round\", value_hint=\"50\"),\n",
    "        ]\n",
    "    ),\n",
    ")\n",
    "\n",
    "# Create the tuning job using the 2 configuration objects above\n",
    "tuning_job = HyperParameterTuningJob.create(\n",
    "    hyper_parameter_tuning_job_name=lab_session.tuning_job_name,\n",
    "    autotune=Autotune(mode=\"Enabled\"),\n",
    "    training_job_definition=hyper_parameter_training_job_defintion,\n",
    "    hyper_parameter_tuning_job_config=tuning_job_config,\n",
    ")\n",
    "\n",
    "tuning_job.wait()"
   ],
   "outputs": [],
   "execution_count": null
  },
  {
   "cell_type": "code",
   "id": "7d7ef8b9-6a92-4678-ae89-5240d39c26c8",
   "metadata": {},
   "source": [
    "# Get the best training job name\n",
    "best_job_name = tuning_job.best_training_job.training_job_name\n",
    "metric = tuning_job.best_training_job.final_hyper_parameter_tuning_job_objective_metric\n",
    "print(f\"Best training job: {best_job_name}\")\n",
    "print(\"Objective metric:\", metric.metric_name, \"=\", metric.value)\n",
    "# Get the best training job object\n",
    "best_training_job = TrainingJob.get(best_job_name)\n",
    "\n",
    "# Print the hyperparameters\n",
    "print(\"Best hyperparameters:\")\n",
    "for param_name, param_value in best_training_job.hyper_parameters.items():\n",
    "    print(f\"  {param_name}: {param_value}\")"
   ],
   "outputs": [],
   "execution_count": null
  },
  {
   "cell_type": "markdown",
   "id": "289b6eb9-6803-429c-91e9-22bb6a640fcb",
   "metadata": {},
   "source": [
    "## Create Model\n",
    "We assume one model is created/updated. A new model version/name would be set explicitly either as the next production release or a 'candidate'."
   ]
  },
  {
   "metadata": {
    "ExecuteTime": {
     "end_time": "2025-09-11T11:52:30.832101Z",
     "start_time": "2025-09-11T11:52:29.420984Z"
    }
   },
   "cell_type": "code",
   "source": [
    "from sagemaker_core.resources import Model\n",
    "from sagemaker_core.shapes import ContainerDefinition\n",
    "from corelab.core.utils import try_delete\n",
    "\n",
    "model_s3_uri = training_job.model_artifacts.s3_model_artifacts  # Get URI of model artifacts from the training job.\n",
    "# model_s3_uri = best_training_job.model_artifacts.s3_model_artifacts  # Get URI of model artifacts of the best model from the tuning job.\n",
    "\n",
    "try_delete(Model, lab_session.model_name)\n",
    "\n",
    "# Create SageMaker model: An image along with the model artifact to use.\n",
    "customer_churn_model = Model.create(\n",
    "    model_name=lab_session.model_name,\n",
    "    primary_container=ContainerDefinition(image=image, model_data_url=model_s3_uri),\n",
    "    execution_role_arn=lab_session.role,\n",
    ")"
   ],
   "id": "b0ed1be5417ea753",
   "outputs": [
    {
     "data": {
      "text/plain": [
       "\u001B[2;36m[09/11/25 13:52:30]\u001B[0m\u001B[2;36m \u001B[0m\u001B[1;38;2;0;105;255mINFO    \u001B[0m Deleting Model - customer-churn-xgboost                             \u001B]8;id=914517;file:///Users/machiel/Development/crystalline/sagemaker/corelab/.venv/lib/python3.13/site-packages/sagemaker_core/main/resources.py\u001B\\\u001B[2mresources.py\u001B[0m\u001B]8;;\u001B\\\u001B[2m:\u001B[0m\u001B]8;id=19990;file:///Users/machiel/Development/crystalline/sagemaker/corelab/.venv/lib/python3.13/site-packages/sagemaker_core/main/resources.py#18350\u001B\\\u001B[2m18350\u001B[0m\u001B]8;;\u001B\\\n"
      ],
      "text/html": [
       "<pre style=\"white-space:pre;overflow-x:auto;line-height:normal;font-family:Menlo,'DejaVu Sans Mono',consolas,'Courier New',monospace\"><span style=\"color: #7fbfbf; text-decoration-color: #7fbfbf\">[09/11/25 13:52:30] </span><span style=\"color: #0069ff; text-decoration-color: #0069ff; font-weight: bold\">INFO    </span> Deleting Model - customer-churn-xgboost                             <a href=\"file:///Users/machiel/Development/crystalline/sagemaker/corelab/.venv/lib/python3.13/site-packages/sagemaker_core/main/resources.py\" target=\"_blank\"><span style=\"color: #7f7f7f; text-decoration-color: #7f7f7f\">resources.py</span></a><span style=\"color: #7f7f7f; text-decoration-color: #7f7f7f\">:</span><a href=\"file:///Users/machiel/Development/crystalline/sagemaker/corelab/.venv/lib/python3.13/site-packages/sagemaker_core/main/resources.py#18350\" target=\"_blank\"><span style=\"color: #7f7f7f; text-decoration-color: #7f7f7f\">18350</span></a>\n",
       "</pre>\n"
      ]
     },
     "metadata": {},
     "output_type": "display_data",
     "jetTransient": {
      "display_id": null
     }
    },
    {
     "name": "stdout",
     "output_type": "stream",
     "text": [
      "customer-churn-xgboost deleted\n"
     ]
    },
    {
     "data": {
      "text/plain": [
       "\u001B[2;36m                   \u001B[0m\u001B[2;36m \u001B[0m\u001B[1;38;2;0;105;255mINFO    \u001B[0m Creating model resource.                                            \u001B]8;id=932319;file:///Users/machiel/Development/crystalline/sagemaker/corelab/.venv/lib/python3.13/site-packages/sagemaker_core/main/resources.py\u001B\\\u001B[2mresources.py\u001B[0m\u001B]8;;\u001B\\\u001B[2m:\u001B[0m\u001B]8;id=922571;file:///Users/machiel/Development/crystalline/sagemaker/corelab/.venv/lib/python3.13/site-packages/sagemaker_core/main/resources.py#18203\u001B\\\u001B[2m18203\u001B[0m\u001B]8;;\u001B\\\n"
      ],
      "text/html": [
       "<pre style=\"white-space:pre;overflow-x:auto;line-height:normal;font-family:Menlo,'DejaVu Sans Mono',consolas,'Courier New',monospace\"><span style=\"color: #7fbfbf; text-decoration-color: #7fbfbf\">                    </span><span style=\"color: #0069ff; text-decoration-color: #0069ff; font-weight: bold\">INFO    </span> Creating model resource.                                            <a href=\"file:///Users/machiel/Development/crystalline/sagemaker/corelab/.venv/lib/python3.13/site-packages/sagemaker_core/main/resources.py\" target=\"_blank\"><span style=\"color: #7f7f7f; text-decoration-color: #7f7f7f\">resources.py</span></a><span style=\"color: #7f7f7f; text-decoration-color: #7f7f7f\">:</span><a href=\"file:///Users/machiel/Development/crystalline/sagemaker/corelab/.venv/lib/python3.13/site-packages/sagemaker_core/main/resources.py#18203\" target=\"_blank\"><span style=\"color: #7f7f7f; text-decoration-color: #7f7f7f\">18203</span></a>\n",
       "</pre>\n"
      ]
     },
     "metadata": {},
     "output_type": "display_data",
     "jetTransient": {
      "display_id": null
     }
    }
   ],
   "execution_count": 11
  },
  {
   "metadata": {
    "ExecuteTime": {
     "end_time": "2025-09-11T11:57:44.413627Z",
     "start_time": "2025-09-11T11:52:40.747680Z"
    }
   },
   "cell_type": "code",
   "source": [
    "from sagemaker_core.resources import TransformJob\n",
    "from sagemaker_core.shapes import (\n",
    "    TransformInput,\n",
    "    TransformDataSource,\n",
    "    TransformS3DataSource,\n",
    "    TransformOutput,\n",
    "    TransformResources,\n",
    ")\n",
    "\n",
    "transform_input = TransformInput(\n",
    "        data_source=TransformDataSource(\n",
    "            s3_data_source=TransformS3DataSource(s3_data_type=\"S3Prefix\", s3_uri=s3_test_input)\n",
    "        ),\n",
    "        content_type=\"text/csv\")\n",
    "\n",
    "# Create Transform Job.\n",
    "transform_job = TransformJob.create(\n",
    "    transform_job_name=lab_session.training_job_name,\n",
    "    model_name=customer_churn_model.get_name(),\n",
    "    transform_input=transform_input,\n",
    "    transform_output=TransformOutput(s3_output_path=lab_session.transform_output_s3_uri),\n",
    "    transform_resources=TransformResources(\n",
    "        instance_type=DEFAULT_INSTANCE, instance_count=1\n",
    "    ),\n",
    ")\n",
    "\n",
    "transform_job.wait()"
   ],
   "id": "c6e92cfd5ae696f9",
   "outputs": [
    {
     "data": {
      "text/plain": [
       "\u001B[2;36m[09/11/25 13:52:40]\u001B[0m\u001B[2;36m \u001B[0m\u001B[1;38;2;0;105;255mINFO    \u001B[0m Creating transform_job resource.                                    \u001B]8;id=580510;file:///Users/machiel/Development/crystalline/sagemaker/corelab/.venv/lib/python3.13/site-packages/sagemaker_core/main/resources.py\u001B\\\u001B[2mresources.py\u001B[0m\u001B]8;;\u001B\\\u001B[2m:\u001B[0m\u001B]8;id=718339;file:///Users/machiel/Development/crystalline/sagemaker/corelab/.venv/lib/python3.13/site-packages/sagemaker_core/main/resources.py#29398\u001B\\\u001B[2m29398\u001B[0m\u001B]8;;\u001B\\\n"
      ],
      "text/html": [
       "<pre style=\"white-space:pre;overflow-x:auto;line-height:normal;font-family:Menlo,'DejaVu Sans Mono',consolas,'Courier New',monospace\"><span style=\"color: #7fbfbf; text-decoration-color: #7fbfbf\">[09/11/25 13:52:40] </span><span style=\"color: #0069ff; text-decoration-color: #0069ff; font-weight: bold\">INFO    </span> Creating transform_job resource.                                    <a href=\"file:///Users/machiel/Development/crystalline/sagemaker/corelab/.venv/lib/python3.13/site-packages/sagemaker_core/main/resources.py\" target=\"_blank\"><span style=\"color: #7f7f7f; text-decoration-color: #7f7f7f\">resources.py</span></a><span style=\"color: #7f7f7f; text-decoration-color: #7f7f7f\">:</span><a href=\"file:///Users/machiel/Development/crystalline/sagemaker/corelab/.venv/lib/python3.13/site-packages/sagemaker_core/main/resources.py#29398\" target=\"_blank\"><span style=\"color: #7f7f7f; text-decoration-color: #7f7f7f\">29398</span></a>\n",
       "</pre>\n"
      ]
     },
     "metadata": {},
     "output_type": "display_data",
     "jetTransient": {
      "display_id": null
     }
    },
    {
     "data": {
      "text/plain": [
       "Output()"
      ],
      "application/vnd.jupyter.widget-view+json": {
       "version_major": 2,
       "version_minor": 0,
       "model_id": "ec67f828944443b3a5cc6e81e87231e2"
      }
     },
     "metadata": {},
     "output_type": "display_data",
     "jetTransient": {
      "display_id": null
     }
    },
    {
     "data": {
      "text/plain": [
       "\u001B[2;36m[09/11/25 13:57:44]\u001B[0m\u001B[2;36m \u001B[0m\u001B[1;38;2;0;105;255mINFO    \u001B[0m Final Resource Status: \u001B[1mCompleted\u001B[0m                                    \u001B]8;id=64191;file:///Users/machiel/Development/crystalline/sagemaker/corelab/.venv/lib/python3.13/site-packages/sagemaker_core/main/resources.py\u001B\\\u001B[2mresources.py\u001B[0m\u001B]8;;\u001B\\\u001B[2m:\u001B[0m\u001B]8;id=360695;file:///Users/machiel/Development/crystalline/sagemaker/corelab/.venv/lib/python3.13/site-packages/sagemaker_core/main/resources.py#29613\u001B\\\u001B[2m29613\u001B[0m\u001B]8;;\u001B\\\n"
      ],
      "text/html": [
       "<pre style=\"white-space:pre;overflow-x:auto;line-height:normal;font-family:Menlo,'DejaVu Sans Mono',consolas,'Courier New',monospace\"><span style=\"color: #7fbfbf; text-decoration-color: #7fbfbf\">[09/11/25 13:57:44] </span><span style=\"color: #0069ff; text-decoration-color: #0069ff; font-weight: bold\">INFO    </span> Final Resource Status: <span style=\"font-weight: bold\">Completed</span>                                    <a href=\"file:///Users/machiel/Development/crystalline/sagemaker/corelab/.venv/lib/python3.13/site-packages/sagemaker_core/main/resources.py\" target=\"_blank\"><span style=\"color: #7f7f7f; text-decoration-color: #7f7f7f\">resources.py</span></a><span style=\"color: #7f7f7f; text-decoration-color: #7f7f7f\">:</span><a href=\"file:///Users/machiel/Development/crystalline/sagemaker/corelab/.venv/lib/python3.13/site-packages/sagemaker_core/main/resources.py#29613\" target=\"_blank\"><span style=\"color: #7f7f7f; text-decoration-color: #7f7f7f\">29613</span></a>\n",
       "</pre>\n"
      ]
     },
     "metadata": {},
     "output_type": "display_data",
     "jetTransient": {
      "display_id": null
     }
    },
    {
     "data": {
      "text/plain": [],
      "text/html": [
       "<pre style=\"white-space:pre;overflow-x:auto;line-height:normal;font-family:Menlo,'DejaVu Sans Mono',consolas,'Courier New',monospace\"></pre>\n"
      ]
     },
     "metadata": {},
     "output_type": "display_data",
     "jetTransient": {
      "display_id": null
     }
    }
   ],
   "execution_count": 12
  },
  {
   "cell_type": "markdown",
   "id": "b62d1a23-7658-4ddb-b9f3-3f51cfd04de4",
   "metadata": {},
   "source": [
    "## Endpoint creation\n",
    "\n",
    "We assume one hosted endpoint will exist for the churn model."
   ]
  },
  {
   "cell_type": "code",
   "id": "5e7acf4a-c593-4622-bc71-f7bbec67e06d",
   "metadata": {},
   "source": [
    "from sagemaker_core.resources import Endpoint, EndpointConfig\n",
    "from sagemaker_core.shapes import ProductionVariant\n",
    "from corelab.core.utils import try_delete\n",
    "\n",
    "try_delete(EndpointConfig, lab_session.endpoint_config_name)\n",
    "\n",
    "endpoint_config = EndpointConfig.create(\n",
    "    endpoint_config_name=lab_session.endpoint_config_name,\n",
    "    production_variants=[\n",
    "        ProductionVariant(\n",
    "            variant_name=\"AllTraffic\",\n",
    "            model_name=customer_churn_model.get_name(),\n",
    "            instance_type=DEFAULT_INSTANCE,\n",
    "            initial_instance_count=1,\n",
    "        )\n",
    "    ],\n",
    ")\n",
    "\n",
    "try_delete(Endpoint, lab_session.endpoint_name)\n",
    "sagemaker_endpoint = Endpoint.create(\n",
    "    endpoint_name=lab_session.endpoint_name,\n",
    "    endpoint_config_name=endpoint_config.get_name(),\n",
    ")\n",
    "sagemaker_endpoint.wait_for_status(target_status=\"InService\")"
   ],
   "outputs": [],
   "execution_count": null
  },
  {
   "cell_type": "markdown",
   "id": "a5741954-e6d2-44ea-88d5-d8b4fded6a28",
   "metadata": {},
   "source": [
    "## Provisioned vs Serverless Endpoints\n",
    "\n",
    "The above creates a **provisioned endpoint** with dedicated instances that are always running. \n",
    "\n",
    "**Provisioned Endpoints:**\n",
    "- ✅ Predictable performance and latency\n",
    "- ✅ Good for consistent, high-volume traffic\n",
    "- ❌ Always billing (even when idle)\n",
    "- ❌ Fixed capacity\n",
    "\n",
    "**Serverless Endpoints:**\n",
    "- ✅ Pay only for actual inference time\n",
    "- ✅ Automatic scaling (0 to max concurrency)\n",
    "- ✅ No infrastructure management\n",
    "- ❌ Cold start latency (first request)\n",
    "- ❌ Limited to 6GB memory max"
   ]
  },
  {
   "cell_type": "markdown",
   "id": "bcc39eb4-9c6d-4ebf-8a19-04f316f20b29",
   "metadata": {},
   "source": [
    "## Serverless Endpoint"
   ]
  },
  {
   "cell_type": "code",
   "id": "3wmjfqnno9v",
   "metadata": {},
   "source": [
    "from sagemaker_core.resources import Endpoint, EndpointConfig\n",
    "from sagemaker_core.shapes import ProductionVariant, ProductionVariantServerlessConfig\n",
    "\n",
    "# patch bug in sagemaker core\n",
    "import sagemaker_core.main.utils as smutils\n",
    "smutils.SPECIAL_SNAKE_TO_PASCAL_MAPPINGS = {\n",
    "    \"volume_size_in_g_b\": \"VolumeSizeInGB\",\n",
    "    \"volume_size_in_gb\": \"VolumeSizeInGB\",\n",
    "    \"memory_size_in_mb\": \"MemorySizeInMB\",\n",
    "    \"supported_response_mime_types\": \"SupportedResponseMIMETypes\",\n",
    "}\n",
    "# end patch\n",
    "\n",
    "try_delete(EndpointConfig, lab_session.serverless_endpoint_config_name)\n",
    "\n",
    "# Create serverless endpoint configuration\n",
    "serverless_endpoint_config = EndpointConfig.create(\n",
    "    endpoint_config_name=lab_session.serverless_endpoint_config_name,\n",
    "    production_variants=[\n",
    "        ProductionVariant(\n",
    "            variant_name=\"ServerlessVariant\",\n",
    "            model_name=customer_churn_model.get_name(),\n",
    "            serverless_config=ProductionVariantServerlessConfig(\n",
    "                memory_size_in_mb=2048,    # 2GB memory (valid: 1024, 2048, 3072, 4096, 5120, 6144)\n",
    "                max_concurrency=10,        # Handle up to 10 concurrent requests\n",
    "                provisioned_concurrency=1  # Keep 1 instance warm (optional)\n",
    "            )\n",
    "        )\n",
    "    ],\n",
    ")\n",
    "\n",
    "try_delete(Endpoint, lab_session.serverless_endpoint_name)\n",
    "\n",
    "# Create serverless endpoint\n",
    "serverless_endpoint = Endpoint.create(\n",
    "    endpoint_name=lab_session.serverless_endpoint_name,\n",
    "    endpoint_config_name=serverless_endpoint_config.get_name(),\n",
    ")\n",
    "serverless_endpoint.wait_for_status(target_status=\"InService\")"
   ],
   "outputs": [],
   "execution_count": null
  },
  {
   "cell_type": "markdown",
   "id": "6b9bd060-a1b0-496f-9c28-3f585cfc9109",
   "metadata": {},
   "source": [
    "## Invoke endpoint!"
   ]
  },
  {
   "cell_type": "code",
   "id": "766154db-bcf8-46a5-b0c7-1c71c959141a",
   "metadata": {},
   "source": [
    "from sklearn.metrics import accuracy_score, precision_score, recall_score, roc_auc_score\n",
    "\n",
    "def print_performance_metrics(probs, y, threshold=0.5):\n",
    "    \"\"\"Lightweight method for printing performance metrics\"\"\"\n",
    "\n",
    "    predictions = (probs >= threshold).astype(int)\n",
    "\n",
    "    # Compare predictions with the stored target\n",
    "    accuracy = accuracy_score(y, predictions)\n",
    "    precision = precision_score(y, predictions)\n",
    "    recall = recall_score(y, predictions)\n",
    "    roc_auc = roc_auc_score(y, probs)\n",
    "\n",
    "    print(f\"Accuracy: {accuracy}\")\n",
    "    print(f\"Precision: {precision}\")\n",
    "    print(f\"Recall: {recall}\")\n",
    "    print(f\"ROC AUC: {roc_auc}\")"
   ],
   "outputs": [],
   "execution_count": null
  },
  {
   "cell_type": "code",
   "id": "e6a530bd-e528-49ad-b041-78608d5d27f2",
   "metadata": {},
   "source": [
    "from sagemaker.predictor import Predictor\n",
    "from sagemaker.serializers import CSVSerializer\n",
    "from sagemaker.deserializers import CSVDeserializer\n",
    "\n",
    "# Create a predictor with automatic CSV handling\n",
    "predictor = Predictor(\n",
    "  endpoint_name=serverless_endpoint.endpoint_name,\n",
    "  serializer=CSVSerializer(),\n",
    "  deserializer=CSVDeserializer()\n",
    ")\n",
    "\n",
    "# Much cleaner!\n",
    "result = predictor.predict(test_data)\n",
    "len(result)"
   ],
   "outputs": [],
   "execution_count": null
  },
  {
   "cell_type": "markdown",
   "id": "30mlgubrnf3",
   "metadata": {},
   "source": [
    "## 🧹 Cleanup Resources\n",
    "\n",
    "To avoid unnecessary AWS charges, it's important to delete all created resources when you're finished with this experiment."
   ]
  },
  {
   "metadata": {},
   "cell_type": "code",
   "source": [
    "# Delete both endpoints (this will take a few minutes)\n",
    "\n",
    "print(\"🗑️  Deleting provisioned endpoint...\")\n",
    "try:\n",
    "    sagemaker_endpoint.delete()\n",
    "    sagemaker_endpoint.wait_for_delete()\n",
    "    print(\"✅ Provisioned endpoint deletion initiated\")\n",
    "except Exception as e:\n",
    "    print(f\"❌ Error deleting provisioned endpoint: {e}\")\n",
    "\n",
    "# Delete endpoint configurations\n",
    "print(\"\\n🗑️  Deleting endpoint configurations...\")\n",
    "try:\n",
    "    endpoint_config.delete()\n",
    "    print(\"✅ Provisioned endpoint config deleted\")\n",
    "except Exception as e:\n",
    "    print(f\"❌ Error deleting provisioned endpoint config: {e}\")\n",
    "\n",
    "try:\n",
    "    serverless_endpoint_config.delete()\n",
    "    print(\"✅ Serverless endpoint config deleted\")\n",
    "except Exception as e:\n",
    "    print(f\"❌ Error deleting serverless endpoint config: {e}\")\n",
    "\n",
    "print(\"\\n✨ Cleanup completed!\")\n",
    "print(\"\\n💰 Note: S3 storage costs will continue until you manually delete the bucket contents\")\n",
    "print(f\"    Bucket location: {lab_session.base_s3_uri}\")"
   ],
   "id": "6b3278cfbbe2041b",
   "outputs": [],
   "execution_count": null
  }
 ],
 "metadata": {
  "kernelspec": {
   "display_name": "Python 3 (ipykernel)",
   "language": "python",
   "name": "python3"
  },
  "language_info": {
   "codemirror_mode": {
    "name": "ipython",
    "version": 3
   },
   "file_extension": ".py",
   "mimetype": "text/x-python",
   "name": "python",
   "nbconvert_exporter": "python",
   "pygments_lexer": "ipython3",
   "version": "3.13.7"
  }
 },
 "nbformat": 4,
 "nbformat_minor": 5
}
