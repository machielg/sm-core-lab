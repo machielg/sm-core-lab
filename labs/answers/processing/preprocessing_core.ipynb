{
 "cells": [
  {
   "metadata": {
    "ExecuteTime": {
     "end_time": "2025-09-16T08:48:45.711551Z",
     "start_time": "2025-09-16T08:48:45.585447Z"
    }
   },
   "cell_type": "code",
   "source": [
    "%load_ext autoreload\n",
    "%autoreload 2"
   ],
   "id": "a2d890f7bfd1a970",
   "outputs": [],
   "execution_count": 1
  },
  {
   "metadata": {
    "ExecuteTime": {
     "end_time": "2025-09-16T08:48:52.497621Z",
     "start_time": "2025-09-16T08:48:45.718697Z"
    }
   },
   "cell_type": "code",
   "source": [
    "from corelab.core.session import CoreLabSession\n",
    "lab_session = CoreLabSession('xgboost', 'customer-churn', default_folder='processing_notebook', create_run_folder=True, aws_profile='sagemaker-role')\n",
    "lab_session.print()\n",
    "core_session = lab_session.core_session"
   ],
   "id": "9544994c8bb743f2",
   "outputs": [
    {
     "name": "stdout",
     "output_type": "stream",
     "text": [
      "sagemaker.config INFO - Not applying SDK defaults from location: /Library/Application Support/sagemaker/config.yaml\n",
      "sagemaker.config INFO - Not applying SDK defaults from location: /Users/machiel/Library/Application Support/sagemaker/config.yaml\n"
     ]
    },
    {
     "name": "stderr",
     "output_type": "stream",
     "text": [
      "Couldn't call 'get_role' to get Role ARN from role name machiel-crystalline to get Role path.\n"
     ]
    },
    {
     "name": "stdout",
     "output_type": "stream",
     "text": [
      "falling back to profile: sagemaker-role\n",
      "AWS region: eu-central-1\n",
      "Execution role arn:aws:iam::136548476532:role/service-role/AmazonSageMaker-ExecutionRole-20250902T164316\n",
      "Output bucket uri: s3://sagemaker-eu-central-1-136548476532/processing_notebook/2025-09-16T08-48-49\n",
      "Framework: xgboost\n",
      "Project name: customer-churn\n"
     ]
    }
   ],
   "execution_count": 2
  },
  {
   "cell_type": "code",
   "id": "initial_id",
   "metadata": {
    "collapsed": true,
    "ExecuteTime": {
     "end_time": "2025-09-16T08:48:52.805430Z",
     "start_time": "2025-09-16T08:48:52.590384Z"
    }
   },
   "source": [
    "# Complete sagemaker-core imports\n",
    "from sagemaker_core.main.shapes import (\n",
    "    AppSpecification, \n",
    "    ProcessingResources, \n",
    "    ProcessingInput, \n",
    "    ProcessingClusterConfig,\n",
    "    ProcessingOutput,\n",
    "    ProcessingOutputConfig,\n",
    "    ProcessingStoppingCondition,\n",
    "    ProcessingS3Input,\n",
    "    ProcessingS3Output\n",
    ")\n",
    "from sagemaker_core.main.resources import ProcessingJob\n",
    "import time\n",
    "\n",
    "print(\"All sagemaker-core modules imported successfully\")"
   ],
   "outputs": [
    {
     "name": "stdout",
     "output_type": "stream",
     "text": [
      "All sagemaker-core modules imported successfully\n"
     ]
    }
   ],
   "execution_count": 3
  },
  {
   "cell_type": "code",
   "id": "9n5kxbn3qwh",
   "source": [
    "def upload_code_and_data():\n",
    "    code = lab_session.upload_file('src', 'preprocessing.py', 'prepare-churn-code')\n",
    "    # Define data and output URIs\n",
    "    data = f\"s3://sagemaker-example-files-prod-{lab_session.region}/datasets/tabular/synthetic/churn.txt\"\n",
    "    output = lab_session.jobs_output_s3_uri\n",
    "\n",
    "    return code, data, output\n",
    "\n",
    "upload_code_and_data()"
   ],
   "metadata": {
    "ExecuteTime": {
     "end_time": "2025-09-16T09:05:08.661256Z",
     "start_time": "2025-09-16T09:05:08.507558Z"
    }
   },
   "outputs": [
    {
     "name": "stdout",
     "output_type": "stream",
     "text": [
      "src_path: src/preprocessing.py\n",
      "dest_path: processing_notebook/2025-09-16T08-48-49/prepare-churn-code/preprocessing.py\n",
      "full_url: s3://sagemaker-eu-central-1-136548476532/processing_notebook/2025-09-16T08-48-49/prepare-churn-code/preprocessing.py\n"
     ]
    },
    {
     "data": {
      "text/plain": [
       "('s3://sagemaker-eu-central-1-136548476532/processing_notebook/2025-09-16T08-48-49/prepare-churn-code/preprocessing.py',\n",
       " 's3://sagemaker-example-files-prod-eu-central-1/datasets/tabular/synthetic/churn.txt',\n",
       " 's3://sagemaker-eu-central-1-136548476532/processing_notebook/2025-09-16T08-48-49/jobs')"
      ]
     },
     "execution_count": 8,
     "metadata": {},
     "output_type": "execute_result"
    }
   ],
   "execution_count": 8
  },
  {
   "cell_type": "code",
   "id": "l1x2hpiek5",
   "source": [
    "# Create and run the Processing Job using sagemaker-core\n",
    "code_s3_uri, data_s3_uri, output_s3_uri = upload_code_and_data()\n",
    "\n",
    "print(f\"📂 Code S3 URI: {code_s3_uri}\")\n",
    "print(f\"📁 Data S3 URI: {data_s3_uri}\")\n",
    "print(f\"📤 Output S3 URI: {output_s3_uri}\")\n",
    "\n",
    "job_name = lab_session.processing_job_name\n",
    "job = ProcessingJob.create(\n",
    "    processing_job_name=job_name,\n",
    "    role_arn=lab_session.role,\n",
    "    session=lab_session.core_session.boto_session,\n",
    "    region=lab_session.region,\n",
    "    app_specification=AppSpecification(\n",
    "        image_uri=lab_session.retrieve_image('1.7-1'),\n",
    "        container_entrypoint=[\"python3\", \"/opt/ml/processing/input/code/preprocessing.py\"],\n",
    "        container_arguments=[\"--train-test-split\", \"0.33\"]\n",
    "    ),\n",
    "    processing_resources=ProcessingResources(\n",
    "        cluster_config=ProcessingClusterConfig(\n",
    "            instance_type=\"ml.m5.large\",\n",
    "            instance_count=1,\n",
    "            volume_size_in_gb=30\n",
    "        )\n",
    "    ),\n",
    "    processing_inputs=[\n",
    "        ProcessingInput(\n",
    "            input_name=\"code\",\n",
    "            app_managed=False,\n",
    "            s3_input=ProcessingS3Input(\n",
    "                s3_uri=code_s3_uri,\n",
    "                local_path=\"/opt/ml/processing/input/code\",\n",
    "                s3_data_type=\"S3Prefix\",\n",
    "                s3_input_mode=\"File\"\n",
    "            )\n",
    "        ),\n",
    "        ProcessingInput(\n",
    "            input_name=\"data\",\n",
    "            app_managed=False,\n",
    "            s3_input=ProcessingS3Input(\n",
    "                s3_uri=data_s3_uri,\n",
    "                local_path=\"/opt/ml/processing/input/data\",\n",
    "                s3_data_type=\"S3Prefix\",\n",
    "                s3_input_mode=\"File\"\n",
    "            )\n",
    "        )\n",
    "    ],\n",
    "    processing_output_config=ProcessingOutputConfig(\n",
    "        outputs=[\n",
    "            ProcessingOutput(\n",
    "                output_name=\"processed\",\n",
    "                app_managed=False,\n",
    "                s3_output=ProcessingS3Output(\n",
    "                    s3_uri=output_s3_uri + '/' + job_name,\n",
    "                    local_path=\"/opt/ml/processing/output\",\n",
    "                    s3_upload_mode=\"EndOfJob\"\n",
    "                )\n",
    "            )\n",
    "        ]\n",
    "    ),\n",
    "    environment={\"PYTHONUNBUFFERED\": \"1\"},\n",
    "    stopping_condition=ProcessingStoppingCondition(\n",
    "        max_runtime_in_seconds=3600\n",
    "    )\n",
    ")\n",
    "\n",
    "print(f\"🚀 Created Processing Job: {job.processing_job_name}\")\n",
    "print(f\"📊 Initial Status: {job.processing_job_status}\")\n",
    "\n",
    "job.wait()"
   ],
   "metadata": {
    "ExecuteTime": {
     "end_time": "2025-09-16T09:08:25.011422Z",
     "start_time": "2025-09-16T09:05:52.657472Z"
    }
   },
   "outputs": [
    {
     "name": "stdout",
     "output_type": "stream",
     "text": [
      "src_path: src/preprocessing.py\n",
      "dest_path: processing_notebook/2025-09-16T08-48-49/prepare-churn-code/preprocessing.py\n",
      "full_url: s3://sagemaker-eu-central-1-136548476532/processing_notebook/2025-09-16T08-48-49/prepare-churn-code/preprocessing.py\n",
      "📂 Code S3 URI: s3://sagemaker-eu-central-1-136548476532/processing_notebook/2025-09-16T08-48-49/prepare-churn-code/preprocessing.py\n",
      "📁 Data S3 URI: s3://sagemaker-example-files-prod-eu-central-1/datasets/tabular/synthetic/churn.txt\n",
      "📤 Output S3 URI: s3://sagemaker-eu-central-1-136548476532/processing_notebook/2025-09-16T08-48-49/jobs\n"
     ]
    },
    {
     "data": {
      "text/plain": [
       "\u001B[2;36m[09/16/25 11:05:52]\u001B[0m\u001B[2;36m \u001B[0m\u001B[1;38;2;0;105;255mINFO    \u001B[0m Creating processing_job resource.                                   \u001B]8;id=446442;file:///Users/machiel/Development/crystalline/sagemaker/corelab/.venv/lib/python3.13/site-packages/sagemaker_core/main/resources.py\u001B\\\u001B[2mresources.py\u001B[0m\u001B]8;;\u001B\\\u001B[2m:\u001B[0m\u001B]8;id=379040;file:///Users/machiel/Development/crystalline/sagemaker/corelab/.venv/lib/python3.13/site-packages/sagemaker_core/main/resources.py#26174\u001B\\\u001B[2m26174\u001B[0m\u001B]8;;\u001B\\\n"
      ],
      "text/html": [
       "<pre style=\"white-space:pre;overflow-x:auto;line-height:normal;font-family:Menlo,'DejaVu Sans Mono',consolas,'Courier New',monospace\"><span style=\"color: #7fbfbf; text-decoration-color: #7fbfbf\">[09/16/25 11:05:52] </span><span style=\"color: #0069ff; text-decoration-color: #0069ff; font-weight: bold\">INFO    </span> Creating processing_job resource.                                   <a href=\"file:///Users/machiel/Development/crystalline/sagemaker/corelab/.venv/lib/python3.13/site-packages/sagemaker_core/main/resources.py\" target=\"_blank\"><span style=\"color: #7f7f7f; text-decoration-color: #7f7f7f\">resources.py</span></a><span style=\"color: #7f7f7f; text-decoration-color: #7f7f7f\">:</span><a href=\"file:///Users/machiel/Development/crystalline/sagemaker/corelab/.venv/lib/python3.13/site-packages/sagemaker_core/main/resources.py#26174\" target=\"_blank\"><span style=\"color: #7f7f7f; text-decoration-color: #7f7f7f\">26174</span></a>\n",
       "</pre>\n"
      ]
     },
     "metadata": {},
     "output_type": "display_data",
     "jetTransient": {
      "display_id": null
     }
    },
    {
     "data": {
      "text/plain": [
       "Output()"
      ],
      "application/vnd.jupyter.widget-view+json": {
       "version_major": 2,
       "version_minor": 0,
       "model_id": "f6b4f3ec7dbd448d93f607f4d2ab4eed"
      }
     },
     "metadata": {},
     "output_type": "display_data",
     "jetTransient": {
      "display_id": null
     }
    },
    {
     "name": "stdout",
     "output_type": "stream",
     "text": [
      "🚀 Created Processing Job: customer-churn-xgboost-processing-2025-09-16T09-05-52\n",
      "📊 Initial Status: InProgress\n"
     ]
    },
    {
     "data": {
      "text/plain": [
       "\u001B[2;36m[09/16/25 11:08:25]\u001B[0m\u001B[2;36m \u001B[0m\u001B[1;38;2;0;105;255mINFO    \u001B[0m Final Resource Status: \u001B[1mCompleted\u001B[0m                                    \u001B]8;id=830675;file:///Users/machiel/Development/crystalline/sagemaker/corelab/.venv/lib/python3.13/site-packages/sagemaker_core/main/resources.py\u001B\\\u001B[2mresources.py\u001B[0m\u001B]8;;\u001B\\\u001B[2m:\u001B[0m\u001B]8;id=110123;file:///Users/machiel/Development/crystalline/sagemaker/corelab/.venv/lib/python3.13/site-packages/sagemaker_core/main/resources.py#26386\u001B\\\u001B[2m26386\u001B[0m\u001B]8;;\u001B\\\n"
      ],
      "text/html": [
       "<pre style=\"white-space:pre;overflow-x:auto;line-height:normal;font-family:Menlo,'DejaVu Sans Mono',consolas,'Courier New',monospace\"><span style=\"color: #7fbfbf; text-decoration-color: #7fbfbf\">[09/16/25 11:08:25] </span><span style=\"color: #0069ff; text-decoration-color: #0069ff; font-weight: bold\">INFO    </span> Final Resource Status: <span style=\"font-weight: bold\">Completed</span>                                    <a href=\"file:///Users/machiel/Development/crystalline/sagemaker/corelab/.venv/lib/python3.13/site-packages/sagemaker_core/main/resources.py\" target=\"_blank\"><span style=\"color: #7f7f7f; text-decoration-color: #7f7f7f\">resources.py</span></a><span style=\"color: #7f7f7f; text-decoration-color: #7f7f7f\">:</span><a href=\"file:///Users/machiel/Development/crystalline/sagemaker/corelab/.venv/lib/python3.13/site-packages/sagemaker_core/main/resources.py#26386\" target=\"_blank\"><span style=\"color: #7f7f7f; text-decoration-color: #7f7f7f\">26386</span></a>\n",
       "</pre>\n"
      ]
     },
     "metadata": {},
     "output_type": "display_data",
     "jetTransient": {
      "display_id": null
     }
    },
    {
     "data": {
      "text/plain": [],
      "text/html": [
       "<pre style=\"white-space:pre;overflow-x:auto;line-height:normal;font-family:Menlo,'DejaVu Sans Mono',consolas,'Courier New',monospace\"></pre>\n"
      ]
     },
     "metadata": {},
     "output_type": "display_data",
     "jetTransient": {
      "display_id": null
     }
    }
   ],
   "execution_count": 10
  },
  {
   "metadata": {},
   "cell_type": "code",
   "outputs": [],
   "execution_count": null,
   "source": "",
   "id": "abaa2cb417302133"
  }
 ],
 "metadata": {
  "kernelspec": {
   "display_name": "Python 3",
   "language": "python",
   "name": "python3"
  },
  "language_info": {
   "codemirror_mode": {
    "name": "ipython",
    "version": 2
   },
   "file_extension": ".py",
   "mimetype": "text/x-python",
   "name": "python",
   "nbconvert_exporter": "python",
   "pygments_lexer": "ipython2",
   "version": "2.7.6"
  }
 },
 "nbformat": 4,
 "nbformat_minor": 5
}
