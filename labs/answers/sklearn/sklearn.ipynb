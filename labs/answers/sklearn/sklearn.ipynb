{
 "cells": [
  {
   "cell_type": "markdown",
   "id": "fb083681-fda7-46d9-a3b5-56da9b41e876",
   "metadata": {},
   "source": [
    "## Training with a generic model library\n",
    "\n",
    "Using the scikit-learn image we have more control over the libraries installed and"
   ]
  },
  {
   "metadata": {},
   "cell_type": "code",
   "source": [
    "%load_ext autoreload\n",
    "%autoreload 2"
   ],
   "id": "24aabc4ec43733df",
   "outputs": [],
   "execution_count": null
  },
  {
   "cell_type": "code",
   "id": "c5840797-d705-46aa-b7be-3d4db6ad4576",
   "metadata": {},
   "source": [
    "from corelab.core.session import CoreLabSession\n",
    "\n",
    "lab_session = CoreLabSession('sklearn', 'customer-churn', default_folder='sklearn_notebook', create_run_folder=True,\n",
    "                             aws_profile='sagemaker-role')\n",
    "lab_session.print()\n",
    "core_session = lab_session.core_session"
   ],
   "outputs": [],
   "execution_count": null
  },
  {
   "metadata": {},
   "cell_type": "code",
   "source": "DEFAULT_INSTANCE = 'ml.m5.large'",
   "id": "c0f0be36fa8b41cc",
   "outputs": [],
   "execution_count": null
  },
  {
   "metadata": {},
   "cell_type": "code",
   "source": [
    "from sklearn.model_selection import train_test_split\n",
    "from io import StringIO\n",
    "import pandas as pd\n",
    "\n",
    "data = core_session.read_s3_file(f\"sagemaker-example-files-prod-{lab_session.region}\",\n",
    "                                 \"datasets/tabular/synthetic/churn.txt\")\n",
    "\n",
    "df = pd.read_csv(StringIO(data))\n",
    "\n",
    "# Phone number is unique - will not add value to classifier\n",
    "df = df.drop(\"Phone\", axis=1)\n",
    "\n",
    "# Cast Area Code to non-numeric\n",
    "df[\"Area Code\"] = df[\"Area Code\"].astype(object)\n",
    "\n",
    "# Remove one feature from highly corelated pairs\n",
    "df = df.drop([\"Day Charge\", \"Eve Charge\", \"Night Charge\", \"Intl Charge\"], axis=1)\n",
    "\n",
    "# One-hot encode catagorical features into numeric features\n",
    "model_data = pd.get_dummies(df)\n",
    "model_data = pd.concat(\n",
    "    [\n",
    "        model_data[\"Churn?_True.\"],\n",
    "        model_data.drop([\"Churn?_False.\", \"Churn?_True.\"], axis=1),\n",
    "    ],\n",
    "    axis=1,\n",
    ")\n",
    "model_data = model_data.astype(float)\n",
    "\n",
    "# Split data into train and validation datasets\n",
    "train_data, validation_data = train_test_split(model_data, test_size=0.33, random_state=42)\n",
    "\n",
    "# Further split the validation dataset into test and validation datasets.\n",
    "validation_data, test_data = train_test_split(validation_data, test_size=0.33, random_state=42)\n",
    "\n",
    "# Remove and store the target column for the test data. This is used for calculating performance metrics after training, on unseen data.\n",
    "test_target_column = test_data[\"Churn?_True.\"]\n",
    "test_data.drop([\"Churn?_True.\"], axis=1, inplace=True)\n",
    "\n",
    "# Store all datasets locally\n",
    "train_data.to_csv(\"train.csv\", header=True, index=False)\n",
    "validation_data.to_csv(\"validation.csv\", header=True, index=False)\n",
    "test_data.to_csv(\"test.csv\", header=True, index=False)\n",
    "\n",
    "# Upload each dataset to S3\n",
    "s3_train_input = core_session.upload_data(\"train.csv\")\n",
    "s3_validation_input = core_session.upload_data(\"validation.csv\")\n",
    "s3_test_input = core_session.upload_data(\"test.csv\")\n",
    "\n",
    "print(\"Datasets uploaded to:\")\n",
    "print(s3_train_input)\n",
    "print(s3_validation_input)\n",
    "print(s3_test_input)"
   ],
   "id": "92895a2b5bd25e0a",
   "outputs": [],
   "execution_count": null
  },
  {
   "metadata": {},
   "cell_type": "code",
   "source": [
    "from sagemaker_core.shapes import AlgorithmSpecification, OutputDataConfig, DataSource, S3DataSource, Channel, \\\n",
    "    ResourceConfig\n",
    "\n",
    "image = lab_session.retrieve_image('1.2-1')\n",
    "\n",
    "print(\"Docker image:\", image)\n",
    "\n",
    "algorithm_spec = AlgorithmSpecification(training_image=image, training_input_mode=\"File\")\n",
    "\n",
    "channel_train = Channel(\n",
    "    channel_name=\"train\",\n",
    "    content_type=\"csv\",\n",
    "    data_source=DataSource(\n",
    "        s3_data_source=S3DataSource(\n",
    "            s3_data_type=\"S3Prefix\",\n",
    "            s3_uri=s3_train_input,\n",
    "            s3_data_distribution_type=\"FullyReplicated\")))\n",
    "\n",
    "channel_validation = Channel(\n",
    "    channel_name=\"validation\",\n",
    "    content_type=\"csv\",\n",
    "    data_source=DataSource(\n",
    "        s3_data_source=S3DataSource(\n",
    "            s3_data_type=\"S3Prefix\",\n",
    "            s3_uri=s3_validation_input,\n",
    "            s3_data_distribution_type=\"FullyReplicated\")))\n",
    "\n",
    "output_data_config = OutputDataConfig(s3_output_path=lab_session.jobs_output_s3_uri)\n",
    "\n",
    "training_instance_config = ResourceConfig(instance_type=DEFAULT_INSTANCE, instance_count=1,\n",
    "                                          volume_size_in_gb=30)  # keep_alive_period_in_seconds=60*60"
   ],
   "id": "a0f5de26f82987d2",
   "outputs": [],
   "execution_count": null
  },
  {
   "cell_type": "code",
   "id": "0b11c250-8568-43ad-9191-7af4906ae28b",
   "metadata": {},
   "source": [
    "from sagemaker_core.main.shapes import StoppingCondition\n",
    "from sagemaker_core.main.resources import TrainingJob\n",
    "from sagemaker import fw_utils\n",
    "\n",
    "!uv export --format=requirements.txt -o src/requirements.txt --no-dev -q --no-hashes\n",
    "\n",
    "print(\"Requirements exported to src/requirements.txt\")\n",
    "\n",
    "# Uploading code + requirements.txt\n",
    "upload_destination = lab_session.training_code_upload\n",
    "uploaded_code = fw_utils.tar_and_upload_dir(\n",
    "    session=lab_session.core_session.boto_session,  # or just sagemaker_session\n",
    "    bucket=upload_destination.bucket,\n",
    "    s3_key_prefix=upload_destination.prefix,\n",
    "    script='train.py',  # Entry point script\n",
    "    directory='./src'  # Directory containing your code\n",
    ")\n",
    "print(\"Uploaded code:\", uploaded_code)\n",
    "\n",
    "hyperparameters = {\n",
    "    'sagemaker_program': uploaded_code.script_name,  # 'train.py'\n",
    "    'sagemaker_submit_directory': uploaded_code.s3_prefix,  # S3 URI\n",
    "    'n_estimators': '100',\n",
    "    'max_depth': '10',\n",
    "    'target_column': 'Churn?_True.'\n",
    "}\n",
    "\n",
    "# Create training job.\n",
    "training_job = TrainingJob.create(\n",
    "    training_job_name=lab_session.training_job_name,\n",
    "    hyper_parameters=hyperparameters,\n",
    "    algorithm_specification=algorithm_spec,\n",
    "    role_arn=lab_session.role,\n",
    "    input_data_config=[\n",
    "        channel_train,\n",
    "        channel_validation\n",
    "    ],\n",
    "    output_data_config=output_data_config,\n",
    "    resource_config=training_instance_config,\n",
    "    stopping_condition=StoppingCondition(max_runtime_in_seconds=600),\n",
    "    session=lab_session.core_session.boto_session,\n",
    "    region=lab_session.region\n",
    ")\n",
    "\n",
    "# Wait for the training job to complete\n",
    "training_job.wait()"
   ],
   "outputs": [],
   "execution_count": null
  },
  {
   "metadata": {
    "ExecuteTime": {
     "end_time": "2025-09-11T08:02:21.951444Z",
     "start_time": "2025-09-11T08:02:19.952627Z"
    }
   },
   "cell_type": "code",
   "source": [
    "from sagemaker_core.resources import Model\n",
    "from sagemaker_core.shapes import ContainerDefinition\n",
    "from corelab.core.utils import try_delete\n",
    "\n",
    "!uv export --format=requirements.txt -o src/requirements.txt --no-dev -q --no-hashes\n",
    "\n",
    "model_s3_uri = training_job.model_artifacts.s3_model_artifacts  # Get URI of model artifacts from the training job.\n",
    "# model_s3_uri = best_training_job.model_artifacts.s3_model_artifacts  # Get URI of model artifacts of the best model from the tuning job.\n",
    "\n",
    "try_delete(Model, lab_session.model_name)\n",
    "\n",
    "infer_destination = lab_session.inference_code_upload\n",
    "uploaded_infer = fw_utils.tar_and_upload_dir(\n",
    "    lab_session.core_session.boto_session,\n",
    "    infer_destination.bucket,\n",
    "    infer_destination.prefix,\n",
    "    script='inference.py', directory='./src')\n",
    "# Create SageMaker model: An image along with the model artifact to use.\n",
    "customer_churn_model = Model.create(\n",
    "    model_name=lab_session.model_name,\n",
    "    primary_container=ContainerDefinition(image=image, model_data_url=model_s3_uri,\n",
    "                                          environment={\"SAGEMAKER_PROGRAM\": \"inference.py\", \"SAGEMAKER_SUBMIT_DIRECTORY\": uploaded_infer.s3_prefix}),\n",
    "    execution_role_arn=lab_session.role,\n",
    ")\n",
    "print(\"Model created:\", customer_churn_model.model_arn)"
   ],
   "id": "b11b25d619a5f50b",
   "outputs": [
    {
     "data": {
      "text/plain": [
       "\u001B[2;36m[09/11/25 10:02:21]\u001B[0m\u001B[2;36m \u001B[0m\u001B[1;38;2;0;105;255mINFO    \u001B[0m Deleting Model - customer-churn-sklearn                             \u001B]8;id=490271;file:///Users/machiel/Development/crystalline/sagemaker/corelab/.venv/lib/python3.13/site-packages/sagemaker_core/main/resources.py\u001B\\\u001B[2mresources.py\u001B[0m\u001B]8;;\u001B\\\u001B[2m:\u001B[0m\u001B]8;id=822831;file:///Users/machiel/Development/crystalline/sagemaker/corelab/.venv/lib/python3.13/site-packages/sagemaker_core/main/resources.py#18350\u001B\\\u001B[2m18350\u001B[0m\u001B]8;;\u001B\\\n"
      ],
      "text/html": [
       "<pre style=\"white-space:pre;overflow-x:auto;line-height:normal;font-family:Menlo,'DejaVu Sans Mono',consolas,'Courier New',monospace\"><span style=\"color: #7fbfbf; text-decoration-color: #7fbfbf\">[09/11/25 10:02:21] </span><span style=\"color: #0069ff; text-decoration-color: #0069ff; font-weight: bold\">INFO    </span> Deleting Model - customer-churn-sklearn                             <a href=\"file:///Users/machiel/Development/crystalline/sagemaker/corelab/.venv/lib/python3.13/site-packages/sagemaker_core/main/resources.py\" target=\"_blank\"><span style=\"color: #7f7f7f; text-decoration-color: #7f7f7f\">resources.py</span></a><span style=\"color: #7f7f7f; text-decoration-color: #7f7f7f\">:</span><a href=\"file:///Users/machiel/Development/crystalline/sagemaker/corelab/.venv/lib/python3.13/site-packages/sagemaker_core/main/resources.py#18350\" target=\"_blank\"><span style=\"color: #7f7f7f; text-decoration-color: #7f7f7f\">18350</span></a>\n",
       "</pre>\n"
      ]
     },
     "metadata": {},
     "output_type": "display_data",
     "jetTransient": {
      "display_id": null
     }
    },
    {
     "name": "stdout",
     "output_type": "stream",
     "text": [
      "customer-churn-sklearn deleted\n"
     ]
    },
    {
     "data": {
      "text/plain": [
       "\u001B[2;36m                   \u001B[0m\u001B[2;36m \u001B[0m\u001B[1;38;2;0;105;255mINFO    \u001B[0m Creating model resource.                                            \u001B]8;id=869679;file:///Users/machiel/Development/crystalline/sagemaker/corelab/.venv/lib/python3.13/site-packages/sagemaker_core/main/resources.py\u001B\\\u001B[2mresources.py\u001B[0m\u001B]8;;\u001B\\\u001B[2m:\u001B[0m\u001B]8;id=552076;file:///Users/machiel/Development/crystalline/sagemaker/corelab/.venv/lib/python3.13/site-packages/sagemaker_core/main/resources.py#18203\u001B\\\u001B[2m18203\u001B[0m\u001B]8;;\u001B\\\n"
      ],
      "text/html": [
       "<pre style=\"white-space:pre;overflow-x:auto;line-height:normal;font-family:Menlo,'DejaVu Sans Mono',consolas,'Courier New',monospace\"><span style=\"color: #7fbfbf; text-decoration-color: #7fbfbf\">                    </span><span style=\"color: #0069ff; text-decoration-color: #0069ff; font-weight: bold\">INFO    </span> Creating model resource.                                            <a href=\"file:///Users/machiel/Development/crystalline/sagemaker/corelab/.venv/lib/python3.13/site-packages/sagemaker_core/main/resources.py\" target=\"_blank\"><span style=\"color: #7f7f7f; text-decoration-color: #7f7f7f\">resources.py</span></a><span style=\"color: #7f7f7f; text-decoration-color: #7f7f7f\">:</span><a href=\"file:///Users/machiel/Development/crystalline/sagemaker/corelab/.venv/lib/python3.13/site-packages/sagemaker_core/main/resources.py#18203\" target=\"_blank\"><span style=\"color: #7f7f7f; text-decoration-color: #7f7f7f\">18203</span></a>\n",
       "</pre>\n"
      ]
     },
     "metadata": {},
     "output_type": "display_data",
     "jetTransient": {
      "display_id": null
     }
    },
    {
     "name": "stdout",
     "output_type": "stream",
     "text": [
      "Model created: model_name='customer-churn-sklearn' primary_container=ContainerDefinition(container_hostname=<sagemaker_core.main.utils.Unassigned object at 0x10a6a1550>, image='492215442770.dkr.ecr.eu-central-1.amazonaws.com/sagemaker-scikit-learn:1.2-1-cpu-py3', image_config=<sagemaker_core.main.utils.Unassigned object at 0x10a6a1550>, mode='SingleModel', model_data_url='s3://sagemaker-eu-central-1-136548476532/sklearn_notebook/2025-09-10T15-17-18/jobs/sklearn-2025-09-10T15-17-30/output/model.tar.gz', model_data_source=ModelDataSource(s3_data_source=S3ModelDataSource(s3_uri='s3://sagemaker-eu-central-1-136548476532/sklearn_notebook/2025-09-10T15-17-18/jobs/sklearn-2025-09-10T15-17-30/output/model.tar.gz', s3_data_type='S3Object', compression_type='Gzip', model_access_config=<sagemaker_core.main.utils.Unassigned object at 0x10a6a1550>, hub_access_config=<sagemaker_core.main.utils.Unassigned object at 0x10a6a1550>, manifest_s3_uri=<sagemaker_core.main.utils.Unassigned object at 0x10a6a1550>, e_tag=<sagemaker_core.main.utils.Unassigned object at 0x10a6a1550>, manifest_etag=<sagemaker_core.main.utils.Unassigned object at 0x10a6a1550>)), additional_model_data_sources=<sagemaker_core.main.utils.Unassigned object at 0x10a6a1550>, environment={'SAGEMAKER_PROGRAM': 'inference.py', 'SAGEMAKER_SUBMIT_DIRECTORY': 's3://sagemaker-eu-central-1-136548476532/sklearn_notebook/2025-09-10T15-17-18/code/infer/sourcedir.tar.gz'}, model_package_name=<sagemaker_core.main.utils.Unassigned object at 0x10a6a1550>, inference_specification_name=<sagemaker_core.main.utils.Unassigned object at 0x10a6a1550>, multi_model_config=<sagemaker_core.main.utils.Unassigned object at 0x10a6a1550>) containers=<sagemaker_core.main.utils.Unassigned object at 0x10a6a1550> inference_execution_config=<sagemaker_core.main.utils.Unassigned object at 0x10a6a1550> execution_role_arn='arn:aws:iam::136548476532:role/service-role/AmazonSageMaker-ExecutionRole-20250902T164316' vpc_config=<sagemaker_core.main.utils.Unassigned object at 0x10a6a1550> creation_time=datetime.datetime(2025, 9, 11, 10, 2, 21, 789000, tzinfo=tzlocal()) model_arn='arn:aws:sagemaker:eu-central-1:136548476532:model/customer-churn-sklearn' enable_network_isolation=False deployment_recommendation=<sagemaker_core.main.utils.Unassigned object at 0x10a6a1550>\n"
     ]
    }
   ],
   "execution_count": 9
  },
  {
   "metadata": {
    "ExecuteTime": {
     "end_time": "2025-09-11T08:08:11.487286Z",
     "start_time": "2025-09-11T08:02:53.650050Z"
    }
   },
   "cell_type": "code",
   "source": [
    "from corelab.core.utils import try_delete\n",
    "from sagemaker_core.resources import Endpoint, EndpointConfig\n",
    "from sagemaker_core.shapes import ProductionVariant, ProductionVariantServerlessConfig\n",
    "\n",
    "# patch bug in sagemaker core\n",
    "import sagemaker_core.main.utils as smutils\n",
    "\n",
    "smutils.SPECIAL_SNAKE_TO_PASCAL_MAPPINGS = {\n",
    "    \"volume_size_in_g_b\": \"VolumeSizeInGB\",\n",
    "    \"volume_size_in_gb\": \"VolumeSizeInGB\",\n",
    "    \"memory_size_in_mb\": \"MemorySizeInMB\",\n",
    "    \"supported_response_mime_types\": \"SupportedResponseMIMETypes\",\n",
    "}\n",
    "# end patch\n",
    "\n",
    "try_delete(EndpointConfig, lab_session.serverless_endpoint_config_name)\n",
    "\n",
    "# Create serverless endpoint configuration\n",
    "serverless_endpoint_config = EndpointConfig.create(\n",
    "    endpoint_config_name=lab_session.serverless_endpoint_config_name,\n",
    "    production_variants=[\n",
    "        ProductionVariant(\n",
    "            variant_name=\"ServerlessVariant\",\n",
    "            model_name=customer_churn_model.get_name(),\n",
    "            serverless_config=ProductionVariantServerlessConfig(\n",
    "                memory_size_in_mb=2048,  # 2GB memory (valid: 1024, 2048, 3072, 4096, 5120, 6144)\n",
    "                max_concurrency=10,  # Handle up to 10 concurrent requests\n",
    "                provisioned_concurrency=1  # Keep 1 instance warm (optional)\n",
    "            )\n",
    "        )\n",
    "    ],\n",
    ")\n",
    "\n",
    "try_delete(Endpoint, lab_session.serverless_endpoint_name)\n",
    "\n",
    "# Create serverless endpoint\n",
    "serverless_endpoint = Endpoint.create(\n",
    "    endpoint_name=lab_session.serverless_endpoint_name,\n",
    "    endpoint_config_name=serverless_endpoint_config.get_name(),\n",
    ")\n",
    "serverless_endpoint.wait_for_status(target_status=\"InService\")"
   ],
   "id": "af7d443a98d3bfd5",
   "outputs": [
    {
     "data": {
      "text/plain": [
       "\u001B[2;36m[09/11/25 10:02:53]\u001B[0m\u001B[2;36m \u001B[0m\u001B[1;38;2;0;105;255mINFO    \u001B[0m Deleting EndpointConfig - customer-churn-sklearn-serverless-config   \u001B]8;id=118035;file:///Users/machiel/Development/crystalline/sagemaker/corelab/.venv/lib/python3.13/site-packages/sagemaker_core/main/resources.py\u001B\\\u001B[2mresources.py\u001B[0m\u001B]8;;\u001B\\\u001B[2m:\u001B[0m\u001B]8;id=178062;file:///Users/machiel/Development/crystalline/sagemaker/corelab/.venv/lib/python3.13/site-packages/sagemaker_core/main/resources.py#9946\u001B\\\u001B[2m9946\u001B[0m\u001B]8;;\u001B\\\n"
      ],
      "text/html": [
       "<pre style=\"white-space:pre;overflow-x:auto;line-height:normal;font-family:Menlo,'DejaVu Sans Mono',consolas,'Courier New',monospace\"><span style=\"color: #7fbfbf; text-decoration-color: #7fbfbf\">[09/11/25 10:02:53] </span><span style=\"color: #0069ff; text-decoration-color: #0069ff; font-weight: bold\">INFO    </span> Deleting EndpointConfig - customer-churn-sklearn-serverless-config   <a href=\"file:///Users/machiel/Development/crystalline/sagemaker/corelab/.venv/lib/python3.13/site-packages/sagemaker_core/main/resources.py\" target=\"_blank\"><span style=\"color: #7f7f7f; text-decoration-color: #7f7f7f\">resources.py</span></a><span style=\"color: #7f7f7f; text-decoration-color: #7f7f7f\">:</span><a href=\"file:///Users/machiel/Development/crystalline/sagemaker/corelab/.venv/lib/python3.13/site-packages/sagemaker_core/main/resources.py#9946\" target=\"_blank\"><span style=\"color: #7f7f7f; text-decoration-color: #7f7f7f\">9946</span></a>\n",
       "</pre>\n"
      ]
     },
     "metadata": {},
     "output_type": "display_data",
     "jetTransient": {
      "display_id": null
     }
    },
    {
     "name": "stdout",
     "output_type": "stream",
     "text": [
      "customer-churn-sklearn-serverless-config deleted\n"
     ]
    },
    {
     "data": {
      "text/plain": [
       "\u001B[2;36m                   \u001B[0m\u001B[2;36m \u001B[0m\u001B[1;38;2;0;105;255mINFO    \u001B[0m Creating endpoint_config resource.                                   \u001B]8;id=69365;file:///Users/machiel/Development/crystalline/sagemaker/corelab/.venv/lib/python3.13/site-packages/sagemaker_core/main/resources.py\u001B\\\u001B[2mresources.py\u001B[0m\u001B]8;;\u001B\\\u001B[2m:\u001B[0m\u001B]8;id=344210;file:///Users/machiel/Development/crystalline/sagemaker/corelab/.venv/lib/python3.13/site-packages/sagemaker_core/main/resources.py#9796\u001B\\\u001B[2m9796\u001B[0m\u001B]8;;\u001B\\\n"
      ],
      "text/html": [
       "<pre style=\"white-space:pre;overflow-x:auto;line-height:normal;font-family:Menlo,'DejaVu Sans Mono',consolas,'Courier New',monospace\"><span style=\"color: #7fbfbf; text-decoration-color: #7fbfbf\">                    </span><span style=\"color: #0069ff; text-decoration-color: #0069ff; font-weight: bold\">INFO    </span> Creating endpoint_config resource.                                   <a href=\"file:///Users/machiel/Development/crystalline/sagemaker/corelab/.venv/lib/python3.13/site-packages/sagemaker_core/main/resources.py\" target=\"_blank\"><span style=\"color: #7f7f7f; text-decoration-color: #7f7f7f\">resources.py</span></a><span style=\"color: #7f7f7f; text-decoration-color: #7f7f7f\">:</span><a href=\"file:///Users/machiel/Development/crystalline/sagemaker/corelab/.venv/lib/python3.13/site-packages/sagemaker_core/main/resources.py#9796\" target=\"_blank\"><span style=\"color: #7f7f7f; text-decoration-color: #7f7f7f\">9796</span></a>\n",
       "</pre>\n"
      ]
     },
     "metadata": {},
     "output_type": "display_data",
     "jetTransient": {
      "display_id": null
     }
    },
    {
     "data": {
      "text/plain": [
       "\u001B[2;36m[09/11/25 10:02:54]\u001B[0m\u001B[2;36m \u001B[0m\u001B[1;38;2;0;105;255mINFO    \u001B[0m Deleting Endpoint - customer-churn-sklearn-serverless-endpoint       \u001B]8;id=364535;file:///Users/machiel/Development/crystalline/sagemaker/corelab/.venv/lib/python3.13/site-packages/sagemaker_core/main/resources.py\u001B\\\u001B[2mresources.py\u001B[0m\u001B]8;;\u001B\\\u001B[2m:\u001B[0m\u001B]8;id=981447;file:///Users/machiel/Development/crystalline/sagemaker/corelab/.venv/lib/python3.13/site-packages/sagemaker_core/main/resources.py#9177\u001B\\\u001B[2m9177\u001B[0m\u001B]8;;\u001B\\\n"
      ],
      "text/html": [
       "<pre style=\"white-space:pre;overflow-x:auto;line-height:normal;font-family:Menlo,'DejaVu Sans Mono',consolas,'Courier New',monospace\"><span style=\"color: #7fbfbf; text-decoration-color: #7fbfbf\">[09/11/25 10:02:54] </span><span style=\"color: #0069ff; text-decoration-color: #0069ff; font-weight: bold\">INFO    </span> Deleting Endpoint - customer-churn-sklearn-serverless-endpoint       <a href=\"file:///Users/machiel/Development/crystalline/sagemaker/corelab/.venv/lib/python3.13/site-packages/sagemaker_core/main/resources.py\" target=\"_blank\"><span style=\"color: #7f7f7f; text-decoration-color: #7f7f7f\">resources.py</span></a><span style=\"color: #7f7f7f; text-decoration-color: #7f7f7f\">:</span><a href=\"file:///Users/machiel/Development/crystalline/sagemaker/corelab/.venv/lib/python3.13/site-packages/sagemaker_core/main/resources.py#9177\" target=\"_blank\"><span style=\"color: #7f7f7f; text-decoration-color: #7f7f7f\">9177</span></a>\n",
       "</pre>\n"
      ]
     },
     "metadata": {},
     "output_type": "display_data",
     "jetTransient": {
      "display_id": null
     }
    },
    {
     "data": {
      "text/plain": [
       "Output()"
      ],
      "application/vnd.jupyter.widget-view+json": {
       "version_major": 2,
       "version_minor": 0,
       "model_id": "23795714933045628dc100c41d987e77"
      }
     },
     "metadata": {},
     "output_type": "display_data",
     "jetTransient": {
      "display_id": null
     }
    },
    {
     "data": {
      "text/plain": [
       "\u001B[2;36m[09/11/25 10:02:59]\u001B[0m\u001B[2;36m \u001B[0m\u001B[1;38;2;0;105;255mINFO    \u001B[0m Resource was not found. It may have been deleted.                    \u001B]8;id=682598;file:///Users/machiel/Development/crystalline/sagemaker/corelab/.venv/lib/python3.13/site-packages/sagemaker_core/main/resources.py\u001B\\\u001B[2mresources.py\u001B[0m\u001B]8;;\u001B\\\u001B[2m:\u001B[0m\u001B]8;id=279518;file:///Users/machiel/Development/crystalline/sagemaker/corelab/.venv/lib/python3.13/site-packages/sagemaker_core/main/resources.py#9301\u001B\\\u001B[2m9301\u001B[0m\u001B]8;;\u001B\\\n"
      ],
      "text/html": [
       "<pre style=\"white-space:pre;overflow-x:auto;line-height:normal;font-family:Menlo,'DejaVu Sans Mono',consolas,'Courier New',monospace\"><span style=\"color: #7fbfbf; text-decoration-color: #7fbfbf\">[09/11/25 10:02:59] </span><span style=\"color: #0069ff; text-decoration-color: #0069ff; font-weight: bold\">INFO    </span> Resource was not found. It may have been deleted.                    <a href=\"file:///Users/machiel/Development/crystalline/sagemaker/corelab/.venv/lib/python3.13/site-packages/sagemaker_core/main/resources.py\" target=\"_blank\"><span style=\"color: #7f7f7f; text-decoration-color: #7f7f7f\">resources.py</span></a><span style=\"color: #7f7f7f; text-decoration-color: #7f7f7f\">:</span><a href=\"file:///Users/machiel/Development/crystalline/sagemaker/corelab/.venv/lib/python3.13/site-packages/sagemaker_core/main/resources.py#9301\" target=\"_blank\"><span style=\"color: #7f7f7f; text-decoration-color: #7f7f7f\">9301</span></a>\n",
       "</pre>\n"
      ]
     },
     "metadata": {},
     "output_type": "display_data",
     "jetTransient": {
      "display_id": null
     }
    },
    {
     "data": {
      "text/plain": [],
      "text/html": [
       "<pre style=\"white-space:pre;overflow-x:auto;line-height:normal;font-family:Menlo,'DejaVu Sans Mono',consolas,'Courier New',monospace\"></pre>\n"
      ]
     },
     "metadata": {},
     "output_type": "display_data",
     "jetTransient": {
      "display_id": null
     }
    },
    {
     "name": "stdout",
     "output_type": "stream",
     "text": [
      "customer-churn-sklearn-serverless-endpoint deleted\n"
     ]
    },
    {
     "data": {
      "text/plain": [
       "\u001B[2;36m                   \u001B[0m\u001B[2;36m \u001B[0m\u001B[1;38;2;0;105;255mINFO    \u001B[0m Creating endpoint resource.                                          \u001B]8;id=189267;file:///Users/machiel/Development/crystalline/sagemaker/corelab/.venv/lib/python3.13/site-packages/sagemaker_core/main/resources.py\u001B\\\u001B[2mresources.py\u001B[0m\u001B]8;;\u001B\\\u001B[2m:\u001B[0m\u001B]8;id=550373;file:///Users/machiel/Development/crystalline/sagemaker/corelab/.venv/lib/python3.13/site-packages/sagemaker_core/main/resources.py#8977\u001B\\\u001B[2m8977\u001B[0m\u001B]8;;\u001B\\\n"
      ],
      "text/html": [
       "<pre style=\"white-space:pre;overflow-x:auto;line-height:normal;font-family:Menlo,'DejaVu Sans Mono',consolas,'Courier New',monospace\"><span style=\"color: #7fbfbf; text-decoration-color: #7fbfbf\">                    </span><span style=\"color: #0069ff; text-decoration-color: #0069ff; font-weight: bold\">INFO    </span> Creating endpoint resource.                                          <a href=\"file:///Users/machiel/Development/crystalline/sagemaker/corelab/.venv/lib/python3.13/site-packages/sagemaker_core/main/resources.py\" target=\"_blank\"><span style=\"color: #7f7f7f; text-decoration-color: #7f7f7f\">resources.py</span></a><span style=\"color: #7f7f7f; text-decoration-color: #7f7f7f\">:</span><a href=\"file:///Users/machiel/Development/crystalline/sagemaker/corelab/.venv/lib/python3.13/site-packages/sagemaker_core/main/resources.py#8977\" target=\"_blank\"><span style=\"color: #7f7f7f; text-decoration-color: #7f7f7f\">8977</span></a>\n",
       "</pre>\n"
      ]
     },
     "metadata": {},
     "output_type": "display_data",
     "jetTransient": {
      "display_id": null
     }
    },
    {
     "data": {
      "text/plain": [
       "Output()"
      ],
      "application/vnd.jupyter.widget-view+json": {
       "version_major": 2,
       "version_minor": 0,
       "model_id": "c1315c064cb34e5cbc1767d476526ff6"
      }
     },
     "metadata": {},
     "output_type": "display_data",
     "jetTransient": {
      "display_id": null
     }
    },
    {
     "data": {
      "text/plain": [
       "\u001B[2;36m[09/11/25 10:08:11]\u001B[0m\u001B[2;36m \u001B[0m\u001B[1;38;2;0;105;255mINFO    \u001B[0m Final Resource Status: \u001B[1mInService\u001B[0m                                     \u001B]8;id=267459;file:///Users/machiel/Development/crystalline/sagemaker/corelab/.venv/lib/python3.13/site-packages/sagemaker_core/main/resources.py\u001B\\\u001B[2mresources.py\u001B[0m\u001B]8;;\u001B\\\u001B[2m:\u001B[0m\u001B]8;id=144992;file:///Users/machiel/Development/crystalline/sagemaker/corelab/.venv/lib/python3.13/site-packages/sagemaker_core/main/resources.py#9233\u001B\\\u001B[2m9233\u001B[0m\u001B]8;;\u001B\\\n"
      ],
      "text/html": [
       "<pre style=\"white-space:pre;overflow-x:auto;line-height:normal;font-family:Menlo,'DejaVu Sans Mono',consolas,'Courier New',monospace\"><span style=\"color: #7fbfbf; text-decoration-color: #7fbfbf\">[09/11/25 10:08:11] </span><span style=\"color: #0069ff; text-decoration-color: #0069ff; font-weight: bold\">INFO    </span> Final Resource Status: <span style=\"font-weight: bold\">InService</span>                                     <a href=\"file:///Users/machiel/Development/crystalline/sagemaker/corelab/.venv/lib/python3.13/site-packages/sagemaker_core/main/resources.py\" target=\"_blank\"><span style=\"color: #7f7f7f; text-decoration-color: #7f7f7f\">resources.py</span></a><span style=\"color: #7f7f7f; text-decoration-color: #7f7f7f\">:</span><a href=\"file:///Users/machiel/Development/crystalline/sagemaker/corelab/.venv/lib/python3.13/site-packages/sagemaker_core/main/resources.py#9233\" target=\"_blank\"><span style=\"color: #7f7f7f; text-decoration-color: #7f7f7f\">9233</span></a>\n",
       "</pre>\n"
      ]
     },
     "metadata": {},
     "output_type": "display_data",
     "jetTransient": {
      "display_id": null
     }
    },
    {
     "data": {
      "text/plain": [],
      "text/html": [
       "<pre style=\"white-space:pre;overflow-x:auto;line-height:normal;font-family:Menlo,'DejaVu Sans Mono',consolas,'Courier New',monospace\"></pre>\n"
      ]
     },
     "metadata": {},
     "output_type": "display_data",
     "jetTransient": {
      "display_id": null
     }
    }
   ],
   "execution_count": 10
  },
  {
   "metadata": {
    "ExecuteTime": {
     "end_time": "2025-09-11T08:41:31.365962Z",
     "start_time": "2025-09-11T08:41:27.514797Z"
    }
   },
   "cell_type": "code",
   "source": [
    "from sagemaker.predictor import Predictor\n",
    "from sagemaker.serializers import CSVSerializer\n",
    "from sagemaker.deserializers import CSVDeserializer\n",
    "\n",
    "# Create a predictor with automatic CSV handling\n",
    "predictor = Predictor(\n",
    "  endpoint_name=serverless_endpoint.endpoint_name,\n",
    "  serializer=CSVSerializer(),\n",
    "  deserializer=CSVDeserializer()\n",
    ")\n",
    "\n",
    "# Much cleaner!\n",
    "result = predictor.predict(test_data)\n",
    "result"
   ],
   "id": "280e0f350b551e67",
   "outputs": [
    {
     "name": "stdout",
     "output_type": "stream",
     "text": [
      "sagemaker.config INFO - Not applying SDK defaults from location: /Library/Application Support/sagemaker/config.yaml\n",
      "sagemaker.config INFO - Not applying SDK defaults from location: /Users/machiel/Library/Application Support/sagemaker/config.yaml\n"
     ]
    },
    {
     "data": {
      "text/plain": [
       "\u001B[38;2;255;0;0m╭─\u001B[0m\u001B[38;2;255;0;0m──────────────────────────────\u001B[0m\u001B[38;2;255;0;0m \u001B[0m\u001B[1;38;2;255;0;0mTraceback \u001B[0m\u001B[1;2;38;2;255;0;0m(most recent call last)\u001B[0m\u001B[38;2;255;0;0m \u001B[0m\u001B[38;2;255;0;0m───────────────────────────────\u001B[0m\u001B[38;2;255;0;0m─╮\u001B[0m\n",
       "\u001B[38;2;255;0;0m│\u001B[0m in <module>:7                                                                                    \u001B[38;2;255;0;0m│\u001B[0m\n",
       "\u001B[38;2;255;0;0m│\u001B[0m                                                                                                  \u001B[38;2;255;0;0m│\u001B[0m\n",
       "\u001B[38;2;255;0;0m│\u001B[0m   \u001B[2m 4 \u001B[0m                                                                                            \u001B[38;2;255;0;0m│\u001B[0m\n",
       "\u001B[38;2;255;0;0m│\u001B[0m   \u001B[2m 5 \u001B[0m\u001B[2m# Create a predictor with automatic CSV handling\u001B[0m                                            \u001B[38;2;255;0;0m│\u001B[0m\n",
       "\u001B[38;2;255;0;0m│\u001B[0m   \u001B[2m 6 \u001B[0mpredictor = Predictor(                                                                      \u001B[38;2;255;0;0m│\u001B[0m\n",
       "\u001B[38;2;255;0;0m│\u001B[0m \u001B[31m❱ \u001B[0m 7 \u001B[2m  \u001B[0mendpoint_name=\u001B[1;4mserverless_endpoint\u001B[0m.endpoint_name,                                          \u001B[38;2;255;0;0m│\u001B[0m\n",
       "\u001B[38;2;255;0;0m│\u001B[0m   \u001B[2m 8 \u001B[0m\u001B[2m  \u001B[0mserializer=CSVSerializer(),                                                               \u001B[38;2;255;0;0m│\u001B[0m\n",
       "\u001B[38;2;255;0;0m│\u001B[0m   \u001B[2m 9 \u001B[0m\u001B[2m  \u001B[0mdeserializer=CSVDeserializer()                                                            \u001B[38;2;255;0;0m│\u001B[0m\n",
       "\u001B[38;2;255;0;0m│\u001B[0m   \u001B[2m10 \u001B[0m)                                                                                           \u001B[38;2;255;0;0m│\u001B[0m\n",
       "\u001B[38;2;255;0;0m╰──────────────────────────────────────────────────────────────────────────────────────────────────╯\u001B[0m\n",
       "\u001B[1;91mNameError: \u001B[0mname \u001B[38;2;0;135;0m'serverless_endpoint'\u001B[0m is not defined\n"
      ],
      "text/html": [
       "<pre style=\"white-space:pre;overflow-x:auto;line-height:normal;font-family:Menlo,'DejaVu Sans Mono',consolas,'Courier New',monospace\"><span style=\"color: #ff0000; text-decoration-color: #ff0000\">╭─────────────────────────────── </span><span style=\"color: #ff0000; text-decoration-color: #ff0000; font-weight: bold\">Traceback </span><span style=\"color: #ff7f7f; text-decoration-color: #ff7f7f; font-weight: bold\">(most recent call last)</span><span style=\"color: #ff0000; text-decoration-color: #ff0000\"> ────────────────────────────────╮</span>\n",
       "<span style=\"color: #ff0000; text-decoration-color: #ff0000\">│</span> in &lt;module&gt;:7                                                                                    <span style=\"color: #ff0000; text-decoration-color: #ff0000\">│</span>\n",
       "<span style=\"color: #ff0000; text-decoration-color: #ff0000\">│</span>                                                                                                  <span style=\"color: #ff0000; text-decoration-color: #ff0000\">│</span>\n",
       "<span style=\"color: #ff0000; text-decoration-color: #ff0000\">│</span>   <span style=\"color: #7f7f7f; text-decoration-color: #7f7f7f\"> 4 </span>                                                                                            <span style=\"color: #ff0000; text-decoration-color: #ff0000\">│</span>\n",
       "<span style=\"color: #ff0000; text-decoration-color: #ff0000\">│</span>   <span style=\"color: #7f7f7f; text-decoration-color: #7f7f7f\"> 5 # Create a predictor with automatic CSV handling</span>                                            <span style=\"color: #ff0000; text-decoration-color: #ff0000\">│</span>\n",
       "<span style=\"color: #ff0000; text-decoration-color: #ff0000\">│</span>   <span style=\"color: #7f7f7f; text-decoration-color: #7f7f7f\"> 6 </span>predictor = Predictor(                                                                      <span style=\"color: #ff0000; text-decoration-color: #ff0000\">│</span>\n",
       "<span style=\"color: #ff0000; text-decoration-color: #ff0000\">│</span> <span style=\"color: #800000; text-decoration-color: #800000\">❱ </span> 7 <span style=\"color: #7f7f7f; text-decoration-color: #7f7f7f\">  </span>endpoint_name=<span style=\"font-weight: bold; text-decoration: underline\">serverless_endpoint</span>.endpoint_name,                                          <span style=\"color: #ff0000; text-decoration-color: #ff0000\">│</span>\n",
       "<span style=\"color: #ff0000; text-decoration-color: #ff0000\">│</span>   <span style=\"color: #7f7f7f; text-decoration-color: #7f7f7f\"> 8 </span><span style=\"color: #7f7f7f; text-decoration-color: #7f7f7f\">  </span>serializer=CSVSerializer(),                                                               <span style=\"color: #ff0000; text-decoration-color: #ff0000\">│</span>\n",
       "<span style=\"color: #ff0000; text-decoration-color: #ff0000\">│</span>   <span style=\"color: #7f7f7f; text-decoration-color: #7f7f7f\"> 9 </span><span style=\"color: #7f7f7f; text-decoration-color: #7f7f7f\">  </span>deserializer=CSVDeserializer()                                                            <span style=\"color: #ff0000; text-decoration-color: #ff0000\">│</span>\n",
       "<span style=\"color: #ff0000; text-decoration-color: #ff0000\">│</span>   <span style=\"color: #7f7f7f; text-decoration-color: #7f7f7f\">10 </span>)                                                                                           <span style=\"color: #ff0000; text-decoration-color: #ff0000\">│</span>\n",
       "<span style=\"color: #ff0000; text-decoration-color: #ff0000\">╰──────────────────────────────────────────────────────────────────────────────────────────────────╯</span>\n",
       "<span style=\"color: #ff0000; text-decoration-color: #ff0000; font-weight: bold\">NameError: </span>name <span style=\"color: #008700; text-decoration-color: #008700\">'serverless_endpoint'</span> is not defined\n",
       "</pre>\n"
      ]
     },
     "metadata": {},
     "output_type": "display_data",
     "jetTransient": {
      "display_id": null
     }
    }
   ],
   "execution_count": 1
  },
  {
   "metadata": {},
   "cell_type": "code",
   "outputs": [],
   "execution_count": null,
   "source": "",
   "id": "7dadc41de783ee1e"
  }
 ],
 "metadata": {
  "kernelspec": {
   "display_name": "Python 3 (ipykernel)",
   "language": "python",
   "name": "python3"
  },
  "language_info": {
   "codemirror_mode": {
    "name": "ipython",
    "version": 3
   },
   "file_extension": ".py",
   "mimetype": "text/x-python",
   "name": "python",
   "nbconvert_exporter": "python",
   "pygments_lexer": "ipython3",
   "version": "3.13.7"
  }
 },
 "nbformat": 4,
 "nbformat_minor": 5
}
