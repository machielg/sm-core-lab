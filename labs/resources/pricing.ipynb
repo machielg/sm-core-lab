{
 "cells": [
  {
   "cell_type": "code",
   "execution_count": null,
   "id": "0",
   "metadata": {},
   "outputs": [],
   "source": [
    "import pandas as pd\n",
    "from itables import show\n",
    "\n",
    "# Load your CSV\n",
    "df = pd.read_csv('frankfurt_ec2_pricing.csv')\n",
    "\n",
    "# Show with interactive filtering\n",
    "show(df, \n",
    "     scrollY=\"400px\", \n",
    "     scrollCollapse=True,\n",
    "     lengthMenu=[10, 25, 50, 100],\n",
    "     columnDefs=[{\"className\": \"dt-center\", \"targets\": \"_all\"}])"
   ]
  },
  {
   "cell_type": "code",
   "execution_count": null,
   "id": "1",
   "metadata": {},
   "outputs": [],
   "source": []
  }
 ],
 "metadata": {
  "kernelspec": {
   "display_name": "Python 3 (ipykernel)",
   "language": "python",
   "name": "python3"
  },
  "language_info": {
   "codemirror_mode": {
    "name": "ipython",
    "version": 3
   },
   "file_extension": ".py",
   "mimetype": "text/x-python",
   "name": "python",
   "nbconvert_exporter": "python",
   "pygments_lexer": "ipython3",
   "version": "3.13.7"
  }
 },
 "nbformat": 4,
 "nbformat_minor": 5
}
