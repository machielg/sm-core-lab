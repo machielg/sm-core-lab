{
 "cells": [
  {
   "cell_type": "markdown",
   "id": "0",
   "metadata": {},
   "source": [
    "# XGBoost Local Training - Customer Churn\n",
    "\n",
    "This notebook demonstrates XGBoost training locally without SageMaker, using the same customer churn dataset from the SageMaker examples."
   ]
  },
  {
   "cell_type": "code",
   "id": "1",
   "metadata": {
    "ExecuteTime": {
     "end_time": "2025-10-01T13:24:00.875361Z",
     "start_time": "2025-10-01T13:24:00.527925Z"
    }
   },
   "source": [
    "import xgboost as xgb\n",
    "import pandas as pd\n",
    "import numpy as np\n",
    "from sklearn.model_selection import train_test_split\n",
    "from sklearn.metrics import accuracy_score, roc_auc_score, classification_report, confusion_matrix\n",
    "import matplotlib.pyplot as plt\n",
    "import seaborn as sns\n",
    "\n",
    "# Set style for plots\n",
    "plt.style.use('default')\n",
    "sns.set_palette(\"husl\")"
   ],
   "outputs": [],
   "execution_count": 1
  },
  {
   "cell_type": "markdown",
   "id": "2",
   "metadata": {},
   "source": [
    "## Load and Prepare Data\n",
    "\n",
    "We'll use the same customer churn dataset preprocessing as the SageMaker examples."
   ]
  },
  {
   "cell_type": "code",
   "id": "3",
   "metadata": {
    "ExecuteTime": {
     "end_time": "2025-10-01T13:24:07.369341Z",
     "start_time": "2025-10-01T13:24:07.282459Z"
    }
   },
   "source": [
    "# Load the customer churn dataset\n",
    "print(\"Loading customer churn dataset...\")\n",
    "df = pd.read_csv('churn.csv.bz2', compression='bz2')\n",
    "\n",
    "print(f\"Dataset shape: {df.shape}\")\n",
    "print(f\"Columns: {list(df.columns)}\")\n",
    "print(\"\\nFirst 5 rows:\")\n",
    "print(df.head())\n",
    "print(f\"\\nTarget column 'Churn?' values: {df['Churn?'].unique()}\")\n",
    "print(f\"Churn rate: {(df['Churn?'] == 'True.').mean():.2%}\")\n",
    "\n",
    "# Basic dataset info\n",
    "print(\"\\nDataset info:\")\n",
    "print(f\"- Total samples: {len(df)}\")\n",
    "print(f\"- Features: {df.shape[1] - 1}\")  # Minus target column\n",
    "print(f\"- Missing values: {df.isnull().sum().sum()}\")\n",
    "print(f\"- Churned customers: {(df['Churn?'] == 'True.').sum()}\")\n",
    "print(f\"- Retained customers: {(df['Churn?'] == 'False.').sum()}\")"
   ],
   "outputs": [
    {
     "name": "stdout",
     "output_type": "stream",
     "text": [
      "Loading customer churn dataset...\n",
      "Dataset shape: (5000, 21)\n",
      "Columns: ['State', 'Account Length', 'Area Code', 'Phone', \"Int'l Plan\", 'VMail Plan', 'VMail Message', 'Day Mins', 'Day Calls', 'Day Charge', 'Eve Mins', 'Eve Calls', 'Eve Charge', 'Night Mins', 'Night Calls', 'Night Charge', 'Intl Mins', 'Intl Calls', 'Intl Charge', 'CustServ Calls', 'Churn?']\n",
      "\n",
      "First 5 rows:\n",
      "  State  Account Length  Area Code     Phone Int'l Plan VMail Plan  \\\n",
      "0    PA             163        806  403-2562         no        yes   \n",
      "1    SC              15        836  158-8416        yes         no   \n",
      "2    MO             131        777  896-6253         no        yes   \n",
      "3    WY              75        878  817-5729        yes        yes   \n",
      "4    WY             146        878  450-4942        yes         no   \n",
      "\n",
      "   VMail Message   Day Mins  Day Calls  Day Charge  ...  Eve Calls  \\\n",
      "0            300   8.162204          3    7.579174  ...          4   \n",
      "1              0  10.018993          4    4.226289  ...          0   \n",
      "2            300   4.708490          3    4.768160  ...          3   \n",
      "3            700   1.268734          3    2.567642  ...          5   \n",
      "4              0   2.696177          3    5.908916  ...          3   \n",
      "\n",
      "   Eve Charge  Night Mins  Night Calls  Night Charge  Intl Mins  Intl Calls  \\\n",
      "0    6.508639    4.065759          100      5.111624   4.928160           6   \n",
      "1    9.972592    7.141040          200      6.436188   3.221748           6   \n",
      "2    4.566715    5.363235          100      5.142451   7.139023           2   \n",
      "3    2.333624    3.773586          450      3.814413   2.245779           6   \n",
      "4    3.670408    3.751673          250      2.796812   6.905545           4   \n",
      "\n",
      "   Intl Charge  CustServ Calls  Churn?  \n",
      "0     5.673203               3   True.  \n",
      "1     2.559749               8  False.  \n",
      "2     6.254157               4  False.  \n",
      "3     1.080692               6  False.  \n",
      "4     7.134343               6   True.  \n",
      "\n",
      "[5 rows x 21 columns]\n",
      "\n",
      "Target column 'Churn?' values: ['True.' 'False.']\n",
      "Churn rate: 49.96%\n",
      "\n",
      "Dataset info:\n",
      "- Total samples: 5000\n",
      "- Features: 20\n",
      "- Missing values: 0\n",
      "- Churned customers: 2498\n",
      "- Retained customers: 2502\n"
     ]
    }
   ],
   "execution_count": 2
  },
  {
   "cell_type": "markdown",
   "id": "4",
   "metadata": {},
   "source": [
    "## Data Preprocessing\n",
    "\n",
    "Same preprocessing steps as the SageMaker example:\n",
    "1. Handle categorical variables\n",
    "2. Remove correlated features\n",
    "3. Create target variable"
   ]
  },
  {
   "cell_type": "code",
   "id": "5",
   "metadata": {
    "ExecuteTime": {
     "end_time": "2025-10-01T13:24:11.299672Z",
     "start_time": "2025-10-01T13:24:11.192676Z"
    }
   },
   "source": [
    "# Cast Area Code to non-numeric (categorical)\n",
    "df[\"Area Code\"] = df[\"Area Code\"].astype(object)\n",
    "\n",
    "# One-hot encode categorical features\n",
    "model_data = pd.get_dummies(df)\n",
    "print(f\"After one-hot encoding: {model_data.shape}\")\n",
    "\n",
    "# Move target column to the beginning (XGBoost convention)\n",
    "target_col = \"Churn?_True.\"\n",
    "model_data = pd.concat([\n",
    "    model_data[target_col],\n",
    "    model_data.drop([\"Churn?_False.\", \"Churn?_True.\"], axis=1)\n",
    "], axis=1)\n",
    "\n",
    "print(f\"Final dataset shape: {model_data.shape}\")\n",
    "print(f\"Features: {model_data.columns.tolist()[1:6]}...\")  # Show first 5 features\n",
    "print(f\"Target distribution: {model_data[target_col].value_counts()}\")"
   ],
   "outputs": [
    {
     "name": "stdout",
     "output_type": "stream",
     "text": [
      "After one-hot encoding: (5000, 5104)\n",
      "Final dataset shape: (5000, 5103)\n",
      "Features: ['Account Length', 'VMail Message', 'Day Mins', 'Day Calls', 'Day Charge']...\n",
      "Target distribution: Churn?_True.\n",
      "False    2502\n",
      "True     2498\n",
      "Name: count, dtype: int64\n"
     ]
    }
   ],
   "execution_count": 3
  },
  {
   "cell_type": "code",
   "id": "6",
   "metadata": {
    "ExecuteTime": {
     "end_time": "2025-10-01T13:24:13.775090Z",
     "start_time": "2025-10-01T13:24:13.710566Z"
    }
   },
   "source": [
    "# Split data into train and validation datasets\n",
    "train_data, validation_data = train_test_split(model_data, test_size=0.33, random_state=42, stratify=model_data[target_col])\n",
    "\n",
    "# Further split validation into validation and test\n",
    "validation_data, test_data = train_test_split(validation_data, test_size=0.33, random_state=42, stratify=validation_data[target_col])\n",
    "\n",
    "print(f\"Training set: {train_data.shape}\")\n",
    "print(f\"Validation set: {validation_data.shape}\")\n",
    "print(f\"Test set: {test_data.shape}\")\n",
    "\n",
    "# Prepare data for XGBoost\n",
    "X_train = train_data.drop(target_col, axis=1)\n",
    "y_train = train_data[target_col]\n",
    "\n",
    "X_val = validation_data.drop(target_col, axis=1)\n",
    "y_val = validation_data[target_col]\n",
    "\n",
    "X_test = test_data.drop(target_col, axis=1)\n",
    "y_test = test_data[target_col]\n",
    "\n",
    "print(f\"\\nFeature columns: {X_train.shape[1]}\")\n",
    "print(f\"Training target distribution: {y_train.value_counts()}\")"
   ],
   "outputs": [
    {
     "name": "stdout",
     "output_type": "stream",
     "text": [
      "Training set: (3350, 5103)\n",
      "Validation set: (1105, 5103)\n",
      "Test set: (545, 5103)\n",
      "\n",
      "Feature columns: 5102\n",
      "Training target distribution: Churn?_True.\n",
      "False    1676\n",
      "True     1674\n",
      "Name: count, dtype: int64\n"
     ]
    }
   ],
   "execution_count": 4
  },
  {
   "cell_type": "markdown",
   "id": "7",
   "metadata": {},
   "source": [
    "## XGBoost Training\n",
    "\n",
    "Now we'll train XGBoost using the native Python API, showing both the high-level sklearn-style interface and the lower-level XGBoost API."
   ]
  },
  {
   "cell_type": "code",
   "id": "8",
   "metadata": {
    "ExecuteTime": {
     "end_time": "2025-10-01T13:24:38.037800Z",
     "start_time": "2025-10-01T13:24:22.417300Z"
    }
   },
   "source": [
    "# Method 1: XGBoost with sklearn-style API (easiest)\n",
    "print(\"=== Training with XGBoost sklearn-style API ===\")\n",
    "\n",
    "model_sklearn = xgb.XGBClassifier(\n",
    "    max_depth=5,\n",
    "    learning_rate=0.2,\n",
    "    n_estimators=100,\n",
    "    subsample=0.8,\n",
    "    colsample_bytree=0.8,\n",
    "    random_state=42,\n",
    "    eval_metric='auc'\n",
    ")\n",
    "\n",
    "# Fit with evaluation set (evaluation sets will be named validation_0, validation_1, etc.)\n",
    "model_sklearn.fit(\n",
    "    X_train, y_train,\n",
    "    eval_set=[(X_train, y_train), (X_val, y_val)],\n",
    "    verbose=True\n",
    ")\n",
    "\n",
    "# Predictions\n",
    "y_pred_sklearn = model_sklearn.predict(X_test)\n",
    "y_proba_sklearn = model_sklearn.predict_proba(X_test)[:, 1]\n",
    "\n",
    "print(\"\\nSklearn-style API Results:\")\n",
    "print(f\"Test Accuracy: {accuracy_score(y_test, y_pred_sklearn):.4f}\")\n",
    "print(f\"Test AUC: {roc_auc_score(y_test, y_proba_sklearn):.4f}\")"
   ],
   "outputs": [
    {
     "name": "stdout",
     "output_type": "stream",
     "text": [
      "=== Training with XGBoost sklearn-style API ===\n",
      "[0]\tvalidation_0-auc:0.93315\tvalidation_1-auc:0.91929\n",
      "[1]\tvalidation_0-auc:0.94690\tvalidation_1-auc:0.93072\n",
      "[2]\tvalidation_0-auc:0.95913\tvalidation_1-auc:0.94910\n",
      "[3]\tvalidation_0-auc:0.96421\tvalidation_1-auc:0.95759\n",
      "[4]\tvalidation_0-auc:0.96847\tvalidation_1-auc:0.96197\n",
      "[5]\tvalidation_0-auc:0.97017\tvalidation_1-auc:0.96374\n",
      "[6]\tvalidation_0-auc:0.97377\tvalidation_1-auc:0.96611\n",
      "[7]\tvalidation_0-auc:0.97595\tvalidation_1-auc:0.96848\n",
      "[8]\tvalidation_0-auc:0.97984\tvalidation_1-auc:0.97149\n",
      "[9]\tvalidation_0-auc:0.98171\tvalidation_1-auc:0.97376\n",
      "[10]\tvalidation_0-auc:0.98389\tvalidation_1-auc:0.97577\n",
      "[11]\tvalidation_0-auc:0.98511\tvalidation_1-auc:0.97627\n",
      "[12]\tvalidation_0-auc:0.98602\tvalidation_1-auc:0.97752\n",
      "[13]\tvalidation_0-auc:0.98726\tvalidation_1-auc:0.97832\n",
      "[14]\tvalidation_0-auc:0.98806\tvalidation_1-auc:0.97821\n",
      "[15]\tvalidation_0-auc:0.98918\tvalidation_1-auc:0.97956\n",
      "[16]\tvalidation_0-auc:0.98957\tvalidation_1-auc:0.97972\n",
      "[17]\tvalidation_0-auc:0.98989\tvalidation_1-auc:0.97977\n",
      "[18]\tvalidation_0-auc:0.99007\tvalidation_1-auc:0.97990\n",
      "[19]\tvalidation_0-auc:0.99080\tvalidation_1-auc:0.98068\n",
      "[20]\tvalidation_0-auc:0.99097\tvalidation_1-auc:0.98068\n",
      "[21]\tvalidation_0-auc:0.99132\tvalidation_1-auc:0.98126\n",
      "[22]\tvalidation_0-auc:0.99171\tvalidation_1-auc:0.98209\n",
      "[23]\tvalidation_0-auc:0.99203\tvalidation_1-auc:0.98251\n",
      "[24]\tvalidation_0-auc:0.99290\tvalidation_1-auc:0.98329\n",
      "[25]\tvalidation_0-auc:0.99369\tvalidation_1-auc:0.98371\n",
      "[26]\tvalidation_0-auc:0.99409\tvalidation_1-auc:0.98393\n",
      "[27]\tvalidation_0-auc:0.99454\tvalidation_1-auc:0.98404\n",
      "[28]\tvalidation_0-auc:0.99480\tvalidation_1-auc:0.98424\n",
      "[29]\tvalidation_0-auc:0.99506\tvalidation_1-auc:0.98442\n",
      "[30]\tvalidation_0-auc:0.99523\tvalidation_1-auc:0.98481\n",
      "[31]\tvalidation_0-auc:0.99553\tvalidation_1-auc:0.98514\n",
      "[32]\tvalidation_0-auc:0.99562\tvalidation_1-auc:0.98519\n",
      "[33]\tvalidation_0-auc:0.99567\tvalidation_1-auc:0.98514\n",
      "[34]\tvalidation_0-auc:0.99594\tvalidation_1-auc:0.98564\n",
      "[35]\tvalidation_0-auc:0.99600\tvalidation_1-auc:0.98562\n",
      "[36]\tvalidation_0-auc:0.99618\tvalidation_1-auc:0.98561\n",
      "[37]\tvalidation_0-auc:0.99637\tvalidation_1-auc:0.98601\n",
      "[38]\tvalidation_0-auc:0.99684\tvalidation_1-auc:0.98690\n",
      "[39]\tvalidation_0-auc:0.99706\tvalidation_1-auc:0.98706\n",
      "[40]\tvalidation_0-auc:0.99716\tvalidation_1-auc:0.98742\n",
      "[41]\tvalidation_0-auc:0.99734\tvalidation_1-auc:0.98748\n",
      "[42]\tvalidation_0-auc:0.99745\tvalidation_1-auc:0.98738\n",
      "[43]\tvalidation_0-auc:0.99748\tvalidation_1-auc:0.98761\n",
      "[44]\tvalidation_0-auc:0.99770\tvalidation_1-auc:0.98816\n",
      "[45]\tvalidation_0-auc:0.99786\tvalidation_1-auc:0.98797\n",
      "[46]\tvalidation_0-auc:0.99795\tvalidation_1-auc:0.98794\n",
      "[47]\tvalidation_0-auc:0.99802\tvalidation_1-auc:0.98804\n",
      "[48]\tvalidation_0-auc:0.99808\tvalidation_1-auc:0.98807\n",
      "[49]\tvalidation_0-auc:0.99817\tvalidation_1-auc:0.98844\n",
      "[50]\tvalidation_0-auc:0.99823\tvalidation_1-auc:0.98857\n",
      "[51]\tvalidation_0-auc:0.99845\tvalidation_1-auc:0.98892\n",
      "[52]\tvalidation_0-auc:0.99865\tvalidation_1-auc:0.98907\n",
      "[53]\tvalidation_0-auc:0.99880\tvalidation_1-auc:0.98906\n",
      "[54]\tvalidation_0-auc:0.99885\tvalidation_1-auc:0.98884\n",
      "[55]\tvalidation_0-auc:0.99894\tvalidation_1-auc:0.98895\n",
      "[56]\tvalidation_0-auc:0.99897\tvalidation_1-auc:0.98890\n",
      "[57]\tvalidation_0-auc:0.99912\tvalidation_1-auc:0.98923\n",
      "[58]\tvalidation_0-auc:0.99917\tvalidation_1-auc:0.98921\n",
      "[59]\tvalidation_0-auc:0.99921\tvalidation_1-auc:0.98932\n",
      "[60]\tvalidation_0-auc:0.99930\tvalidation_1-auc:0.98916\n",
      "[61]\tvalidation_0-auc:0.99931\tvalidation_1-auc:0.98925\n",
      "[62]\tvalidation_0-auc:0.99934\tvalidation_1-auc:0.98933\n",
      "[63]\tvalidation_0-auc:0.99941\tvalidation_1-auc:0.98965\n",
      "[64]\tvalidation_0-auc:0.99944\tvalidation_1-auc:0.98963\n",
      "[65]\tvalidation_0-auc:0.99951\tvalidation_1-auc:0.98963\n",
      "[66]\tvalidation_0-auc:0.99956\tvalidation_1-auc:0.98969\n",
      "[67]\tvalidation_0-auc:0.99958\tvalidation_1-auc:0.98970\n",
      "[68]\tvalidation_0-auc:0.99964\tvalidation_1-auc:0.98989\n",
      "[69]\tvalidation_0-auc:0.99968\tvalidation_1-auc:0.98980\n",
      "[70]\tvalidation_0-auc:0.99968\tvalidation_1-auc:0.98967\n",
      "[71]\tvalidation_0-auc:0.99969\tvalidation_1-auc:0.98978\n",
      "[72]\tvalidation_0-auc:0.99973\tvalidation_1-auc:0.99001\n",
      "[73]\tvalidation_0-auc:0.99979\tvalidation_1-auc:0.99009\n",
      "[74]\tvalidation_0-auc:0.99982\tvalidation_1-auc:0.99020\n",
      "[75]\tvalidation_0-auc:0.99983\tvalidation_1-auc:0.99020\n",
      "[76]\tvalidation_0-auc:0.99986\tvalidation_1-auc:0.99028\n",
      "[77]\tvalidation_0-auc:0.99987\tvalidation_1-auc:0.99030\n",
      "[78]\tvalidation_0-auc:0.99988\tvalidation_1-auc:0.99034\n",
      "[79]\tvalidation_0-auc:0.99989\tvalidation_1-auc:0.99027\n",
      "[80]\tvalidation_0-auc:0.99989\tvalidation_1-auc:0.99036\n",
      "[81]\tvalidation_0-auc:0.99990\tvalidation_1-auc:0.99046\n",
      "[82]\tvalidation_0-auc:0.99992\tvalidation_1-auc:0.99041\n",
      "[83]\tvalidation_0-auc:0.99992\tvalidation_1-auc:0.99039\n",
      "[84]\tvalidation_0-auc:0.99993\tvalidation_1-auc:0.99041\n",
      "[85]\tvalidation_0-auc:0.99995\tvalidation_1-auc:0.99073\n",
      "[86]\tvalidation_0-auc:0.99996\tvalidation_1-auc:0.99065\n",
      "[87]\tvalidation_0-auc:0.99996\tvalidation_1-auc:0.99071\n",
      "[88]\tvalidation_0-auc:0.99996\tvalidation_1-auc:0.99077\n",
      "[89]\tvalidation_0-auc:0.99997\tvalidation_1-auc:0.99081\n",
      "[90]\tvalidation_0-auc:0.99997\tvalidation_1-auc:0.99093\n",
      "[91]\tvalidation_0-auc:0.99998\tvalidation_1-auc:0.99086\n",
      "[92]\tvalidation_0-auc:0.99998\tvalidation_1-auc:0.99086\n",
      "[93]\tvalidation_0-auc:0.99998\tvalidation_1-auc:0.99091\n",
      "[94]\tvalidation_0-auc:0.99999\tvalidation_1-auc:0.99096\n",
      "[95]\tvalidation_0-auc:0.99999\tvalidation_1-auc:0.99090\n",
      "[96]\tvalidation_0-auc:0.99999\tvalidation_1-auc:0.99088\n",
      "[97]\tvalidation_0-auc:0.99999\tvalidation_1-auc:0.99095\n",
      "[98]\tvalidation_0-auc:0.99999\tvalidation_1-auc:0.99096\n",
      "[99]\tvalidation_0-auc:0.99999\tvalidation_1-auc:0.99105\n",
      "\n",
      "Sklearn-style API Results:\n",
      "Test Accuracy: 0.9560\n",
      "Test AUC: 0.9945\n"
     ]
    }
   ],
   "execution_count": 5
  },
  {
   "cell_type": "code",
   "id": "9",
   "metadata": {
    "ExecuteTime": {
     "end_time": "2025-10-01T13:24:58.567336Z",
     "start_time": "2025-10-01T13:24:43.076296Z"
    }
   },
   "source": [
    "# Method 2: Native XGBoost API (more control)\n",
    "print(\"\\n=== Training with Native XGBoost API ===\")\n",
    "\n",
    "# Create DMatrix objects\n",
    "dtrain = xgb.DMatrix(X_train, label=y_train)\n",
    "dval = xgb.DMatrix(X_val, label=y_val)\n",
    "dtest = xgb.DMatrix(X_test, label=y_test)\n",
    "\n",
    "# Set parameters (same as sklearn version above)\n",
    "params = {\n",
    "    'max_depth': 5,\n",
    "    'eta': 0.2,  # learning_rate\n",
    "    'subsample': 0.8,\n",
    "    'colsample_bytree': 0.8,\n",
    "    'objective': 'binary:logistic',\n",
    "    'eval_metric': 'auc',\n",
    "    'seed': 42\n",
    "}\n",
    "\n",
    "# Training with validation monitoring\n",
    "evallist = [(dtrain, 'train'), (dval, 'validation')]\n",
    "num_rounds = 100\n",
    "\n",
    "model_native = xgb.train(\n",
    "    params, \n",
    "    dtrain, \n",
    "    num_rounds, \n",
    "    evallist,\n",
    "    verbose_eval=10  # Print every 10 rounds\n",
    ")\n",
    "\n",
    "# Predictions\n",
    "y_proba_native = model_native.predict(dtest)\n",
    "y_pred_native = (y_proba_native > 0.5).astype(int)\n",
    "\n",
    "print(\"\\nNative API Results:\")\n",
    "print(f\"Test Accuracy: {accuracy_score(y_test, y_pred_native):.4f}\")\n",
    "print(f\"Test AUC: {roc_auc_score(y_test, y_proba_native):.4f}\")"
   ],
   "outputs": [
    {
     "name": "stdout",
     "output_type": "stream",
     "text": [
      "\n",
      "=== Training with Native XGBoost API ===\n"
     ]
    },
    {
     "name": "stderr",
     "output_type": "stream",
     "text": [
      "/Users/machiel/Development/crystalline/sagemaker/corelab/.venv/lib/python3.13/site-packages/xgboost/core.py:617: FutureWarning: Pass `evals` as keyword args.\n",
      "  warnings.warn(msg, FutureWarning)\n"
     ]
    },
    {
     "name": "stdout",
     "output_type": "stream",
     "text": [
      "[0]\ttrain-auc:0.93315\tvalidation-auc:0.91929\n",
      "[10]\ttrain-auc:0.98389\tvalidation-auc:0.97577\n",
      "[20]\ttrain-auc:0.99097\tvalidation-auc:0.98068\n",
      "[30]\ttrain-auc:0.99523\tvalidation-auc:0.98481\n",
      "[40]\ttrain-auc:0.99716\tvalidation-auc:0.98742\n",
      "[50]\ttrain-auc:0.99823\tvalidation-auc:0.98857\n",
      "[60]\ttrain-auc:0.99930\tvalidation-auc:0.98916\n",
      "[70]\ttrain-auc:0.99968\tvalidation-auc:0.98967\n",
      "[80]\ttrain-auc:0.99989\tvalidation-auc:0.99036\n",
      "[90]\ttrain-auc:0.99997\tvalidation-auc:0.99093\n",
      "[99]\ttrain-auc:0.99999\tvalidation-auc:0.99105\n",
      "\n",
      "Native API Results:\n",
      "Test Accuracy: 0.9560\n",
      "Test AUC: 0.9945\n"
     ]
    }
   ],
   "execution_count": 6
  },
  {
   "cell_type": "markdown",
   "id": "10",
   "metadata": {},
   "source": [
    "## Model Evaluation and Analysis"
   ]
  },
  {
   "cell_type": "code",
   "id": "11",
   "metadata": {
    "ExecuteTime": {
     "end_time": "2025-10-01T13:25:00.482161Z",
     "start_time": "2025-10-01T13:24:59.895873Z"
    }
   },
   "source": [
    "# Detailed evaluation - use sklearn model if available, otherwise use native model\n",
    "print(\"=== Detailed Model Evaluation ===\")\n",
    "\n",
    "# Check which model is available for evaluation\n",
    "try:\n",
    "    # Try to use sklearn model predictions if they exist\n",
    "    test_predictions = y_pred_sklearn\n",
    "    test_probabilities = y_proba_sklearn\n",
    "    eval_model = model_sklearn\n",
    "    model_type = \"sklearn-style\"\n",
    "    print(\"Using sklearn-style model for evaluation\")\n",
    "except NameError:\n",
    "    # Fall back to native model if sklearn model failed\n",
    "    test_predictions = y_pred_native\n",
    "    test_probabilities = y_proba_native\n",
    "    eval_model = None  # Native model doesn't have feature_importances_ attribute\n",
    "    model_type = \"native\"\n",
    "    print(\"Using native XGBoost model for evaluation\")\n",
    "\n",
    "# Classification report\n",
    "print(f\"\\nClassification Report ({model_type} model):\")\n",
    "print(classification_report(y_test, test_predictions))\n",
    "\n",
    "# Confusion matrix\n",
    "cm = confusion_matrix(y_test, test_predictions)\n",
    "plt.figure(figsize=(8, 6))\n",
    "sns.heatmap(cm, annot=True, fmt='d', cmap='Blues', \n",
    "            xticklabels=['No Churn', 'Churn'], \n",
    "            yticklabels=['No Churn', 'Churn'])\n",
    "plt.title(f'Confusion Matrix ({model_type} model)')\n",
    "plt.ylabel('True Label')\n",
    "plt.xlabel('Predicted Label')\n",
    "plt.show()\n",
    "\n",
    "# Feature importance (only available for sklearn model)\n",
    "if model_type == \"sklearn-style\":\n",
    "    feature_importance = pd.DataFrame({\n",
    "        'feature': X_train.columns,\n",
    "        'importance': eval_model.feature_importances_\n",
    "    }).sort_values('importance', ascending=False)\n",
    "\n",
    "    plt.figure(figsize=(10, 8))\n",
    "    top_features = feature_importance.head(15)\n",
    "    sns.barplot(data=top_features, y='feature', x='importance')\n",
    "    plt.title('Top 15 Feature Importances (sklearn-style model)')\n",
    "    plt.xlabel('Importance')\n",
    "    plt.tight_layout()\n",
    "    plt.show()\n",
    "\n",
    "    print(\"\\nTop 10 Most Important Features:\")\n",
    "    print(feature_importance.head(10))\n",
    "else:\n",
    "    # For native model, get feature importance differently\n",
    "    feature_importance = model_native.get_score(importance_type='weight')\n",
    "    feature_importance_df = pd.DataFrame(\n",
    "        list(feature_importance.items()), \n",
    "        columns=['feature', 'importance']\n",
    "    ).sort_values('importance', ascending=False)\n",
    "    \n",
    "    plt.figure(figsize=(10, 8))\n",
    "    top_features = feature_importance_df.head(15)\n",
    "    sns.barplot(data=top_features, y='feature', x='importance')\n",
    "    plt.title('Top 15 Feature Importances (native model)')\n",
    "    plt.xlabel('Importance')\n",
    "    plt.tight_layout()\n",
    "    plt.show()\n",
    "\n",
    "    print(\"\\nTop 10 Most Important Features:\")\n",
    "    print(feature_importance_df.head(10))"
   ],
   "outputs": [
    {
     "name": "stdout",
     "output_type": "stream",
     "text": [
      "=== Detailed Model Evaluation ===\n",
      "Using sklearn-style model for evaluation\n",
      "\n",
      "Classification Report (sklearn-style model):\n",
      "              precision    recall  f1-score   support\n",
      "\n",
      "       False       0.96      0.95      0.96       273\n",
      "        True       0.95      0.96      0.96       272\n",
      "\n",
      "    accuracy                           0.96       545\n",
      "   macro avg       0.96      0.96      0.96       545\n",
      "weighted avg       0.96      0.96      0.96       545\n",
      "\n"
     ]
    },
    {
     "data": {
      "text/plain": [
       "<Figure size 800x600 with 2 Axes>"
      ],
      "image/png": "[encoded data removed]"
     },
     "metadata": {},
     "output_type": "display_data",
     "jetTransient": {
      "display_id": null
     }
    },
    {
     "data": {
      "text/plain": [
       "<Figure size 1000x800 with 1 Axes>"
      ],
      "image/png": "[encoded data removed]"
     },
     "metadata": {},
     "output_type": "display_data",
     "jetTransient": {
      "display_id": null
     }
    },
    {
     "name": "stdout",
     "output_type": "stream",
     "text": [
      "\n",
      "Top 10 Most Important Features:\n",
      "           feature  importance\n",
      "2         Day Mins    0.139074\n",
      "9      Night Calls    0.092913\n",
      "10    Night Charge    0.079131\n",
      "5         Eve Mins    0.053893\n",
      "1    VMail Message    0.037169\n",
      "14  CustServ Calls    0.037146\n",
      "3        Day Calls    0.033153\n",
      "12      Intl Calls    0.029235\n",
      "7       Eve Charge    0.027623\n",
      "8       Night Mins    0.025759\n"
     ]
    }
   ],
   "execution_count": 7
  },
  {
   "cell_type": "markdown",
   "id": "12",
   "metadata": {},
   "source": [
    "## Save Model Locally\n",
    "\n",
    "We'll save the model in XGBoost's native format, which is what SageMaker uses internally."
   ]
  },
  {
   "cell_type": "code",
   "id": "13",
   "metadata": {
    "ExecuteTime": {
     "end_time": "2025-10-01T13:43:21.461294Z",
     "start_time": "2025-10-01T13:43:21.426964Z"
    }
   },
   "source": [
    "import os\n",
    "import json\n",
    "\n",
    "# Create models directory\n",
    "os.makedirs('models', exist_ok=True)\n",
    "\n",
    "# Save sklearn-style model if it was successfully trained\n",
    "sklearn_model_saved = False\n",
    "try:\n",
    "    model_sklearn.save_model('models/xgboost_sklearn_model.json')\n",
    "    print(\"Saved sklearn-style model to: models/xgboost_sklearn_model.json\")\n",
    "    sklearn_model_saved = True\n",
    "except (NameError, AttributeError) as e:\n",
    "    print(f\"Sklearn model not available for saving: {e}\")\n",
    "    print(\"This can happen if the sklearn training failed, but native model should still be available.\")\n",
    "\n",
    "# Save native model (this is the format SageMaker uses)\n",
    "model_native.save_model('models/xgboost_native_model.json')\n",
    "print(\"Saved native model to: models/xgboost_native_model.json\")\n",
    "\n",
    "# Save feature names for later use\n",
    "with open('models/feature_names.json', 'w') as f:\n",
    "    json.dump(X_train.columns.tolist(), f)\n",
    "print(\"Saved feature names to: models/feature_names.json\")\n",
    "\n",
    "# Save model metadata - use available model results\n",
    "try:\n",
    "    # Prefer sklearn model results if available\n",
    "    test_accuracy = float(accuracy_score(y_test, y_pred_sklearn))\n",
    "    test_auc = float(roc_auc_score(y_test, y_proba_sklearn))\n",
    "    model_source = \"sklearn\"\n",
    "except NameError:\n",
    "    # Use native model results as fallback\n",
    "    test_accuracy = float(accuracy_score(y_test, y_pred_native))\n",
    "    test_auc = float(roc_auc_score(y_test, y_proba_native))\n",
    "    model_source = \"native\"\n",
    "\n",
    "metadata = {\n",
    "    'model_type': 'XGBoost',\n",
    "    'n_features': X_train.shape[1],\n",
    "    'n_classes': 2,\n",
    "    'target_column': target_col,\n",
    "    'test_accuracy': test_accuracy,\n",
    "    'test_auc': test_auc,\n",
    "    'training_samples': len(X_train),\n",
    "    'model_source': model_source,  # Track which model provided the results\n",
    "    'sklearn_saved': sklearn_model_saved,\n",
    "    'parameters': {\n",
    "        'max_depth': 5,\n",
    "        'learning_rate': 0.2,\n",
    "        'n_estimators': 100,\n",
    "        'subsample': 0.8,\n",
    "        'colsample_bytree': 0.8\n",
    "    }\n",
    "}\n",
    "\n",
    "with open('models/model_metadata.json', 'w') as f:\n",
    "    json.dump(metadata, f, indent=2)\n",
    "print(\"Saved model metadata to: models/model_metadata.json\")\n",
    "\n",
    "print(\"\\n=== Model files saved successfully! ===\")\n",
    "print(f\"Results based on {model_source} model\")\n",
    "print(f\"Test Accuracy: {test_accuracy:.4f}\")\n",
    "print(f\"Test AUC: {test_auc:.4f}\")"
   ],
   "outputs": [
    {
     "name": "stdout",
     "output_type": "stream",
     "text": [
      "Saved sklearn-style model to: models/xgboost_sklearn_model.json\n",
      "Saved native model to: models/xgboost_native_model.json\n",
      "Saved feature names to: models/feature_names.json\n",
      "Saved model metadata to: models/model_metadata.json\n",
      "\n",
      "=== Model files saved successfully! ===\n",
      "Results based on sklearn model\n",
      "Test Accuracy: 0.9560\n",
      "Test AUC: 0.9945\n"
     ]
    }
   ],
   "execution_count": 9
  },
  {
   "cell_type": "markdown",
   "id": "14",
   "metadata": {},
   "source": [
    "## Load and Test Saved Model\n",
    "\n",
    "Demonstrate loading the saved model and making predictions, simulating what would happen in a production environment."
   ]
  },
  {
   "cell_type": "code",
   "execution_count": null,
   "id": "15",
   "metadata": {},
   "outputs": [],
   "source": [
    "# Load the saved model\n",
    "loaded_model = xgb.Booster()\n",
    "loaded_model.load_model('models/xgboost_native_model.json')\n",
    "\n",
    "# Load feature names\n",
    "with open('models/feature_names.json', 'r') as f:\n",
    "    feature_names = json.load(f)\n",
    "\n",
    "# Load metadata\n",
    "with open('models/model_metadata.json', 'r') as f:\n",
    "    metadata = json.load(f)\n",
    "\n",
    "print(\"=== Testing Loaded Model ===\")\n",
    "print(f\"Model type: {metadata['model_type']}\")\n",
    "print(f\"Features: {metadata['n_features']}\")\n",
    "print(f\"Training accuracy: {metadata['test_accuracy']:.4f}\")\n",
    "print(f\"Training AUC: {metadata['test_auc']:.4f}\")\n",
    "\n",
    "# Test prediction with loaded model\n",
    "dtest_loaded = xgb.DMatrix(X_test)\n",
    "y_proba_loaded = loaded_model.predict(dtest_loaded)\n",
    "y_pred_loaded = (y_proba_loaded > 0.5).astype(int)\n",
    "\n",
    "# Verify predictions match\n",
    "print(f\"\\nLoaded model test accuracy: {accuracy_score(y_test, y_pred_loaded):.4f}\")\n",
    "print(f\"Loaded model test AUC: {roc_auc_score(y_test, y_proba_loaded):.4f}\")\n",
    "print(f\"Predictions match original model: {np.array_equal(y_pred_native, y_pred_loaded)}\")\n",
    "\n",
    "# Sample prediction\n",
    "sample_customer = X_test.iloc[0:1]\n",
    "sample_prediction = loaded_model.predict(xgb.DMatrix(sample_customer))[0]\n",
    "print(f\"\\nSample customer churn probability: {sample_prediction:.4f}\")\n",
    "print(f\"Sample customer features (first 5): {dict(sample_customer.iloc[0][:5])}\")"
   ]
  },
  {
   "cell_type": "markdown",
   "id": "16",
   "metadata": {},
   "source": [
    "## Summary\n",
    "\n",
    "This notebook demonstrates:\n",
    "\n",
    "1. **Data preprocessing** identical to SageMaker examples\n",
    "2. **Local XGBoost training** using both sklearn-style and native APIs\n",
    "3. **Model evaluation** with metrics and visualizations\n",
    "4. **Model persistence** in XGBoost native format\n",
    "\n",
    "### Key Differences from SageMaker:\n",
    "\n",
    "- **No cloud infrastructure** - runs entirely on local machine\n",
    "- **Direct model access** - no need for endpoints or containers\n",
    "- **Immediate results** - no waiting for training jobs or deployments\n",
    "- **Full control** - access to all XGBoost parameters and features\n",
    "\n",
    "### Next Steps:\n",
    "\n",
    "- Compare results with SageMaker training\n",
    "- Experiment with different hyperparameters locally before SageMaker training\n",
    "- Use this for rapid prototyping and development\n",
    "- Deploy to SageMaker when ready for production scaling"
   ]
  }
 ],
 "metadata": {
  "kernelspec": {
   "display_name": "Python 3 (ipykernel)",
   "language": "python",
   "name": "python3"
  },
  "language_info": {
   "codemirror_mode": {
    "name": "ipython",
    "version": 3
   },
   "file_extension": ".py",
   "mimetype": "text/x-python",
   "name": "python",
   "nbconvert_exporter": "python",
   "pygments_lexer": "ipython3",
   "version": "3.9.18"
  }
 },
 "nbformat": 4,
 "nbformat_minor": 5
}
